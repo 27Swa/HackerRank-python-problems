{
 "cells": [
  {
   "cell_type": "code",
   "execution_count": 1,
   "metadata": {
    "_cell_guid": "b1076dfc-b9ad-4769-8c92-a6c4dae69d19",
    "_uuid": "8f2839f25d086af736a60e9eeb907d3b93b6e0e5"
   },
   "outputs": [
    {
     "data": {
      "text/plain": [
       "\"import os\\nfor dirname, _, filenames in os.walk('/kaggle/input'):\\n    for filename in filenames:\\n        print(os.path.join(dirname, filename))\""
      ]
     },
     "execution_count": 1,
     "metadata": {},
     "output_type": "execute_result"
    }
   ],
   "source": [
    "# This Python 3 environment comes with many helpful analytics libraries installed\n",
    "# It is defined by the kaggle/python Docker image: https://github.com/kaggle/docker-python\n",
    "# For example, here's several helpful packages to load\n",
    "\n",
    "import numpy as np # linear algebra\n",
    "import pandas as pd # data processing, CSV file I/O (e.g. pd.read_csv)\n",
    "import matplotlib.pyplot as plt\n",
    "import seaborn as sns\n",
    "# for Box-Cox Transformation\n",
    "from scipy import stats\n",
    "\n",
    "from sklearn.preprocessing import MinMaxScaler\n",
    "\n",
    "import meteostat as met\n",
    "\"\"\"import os\n",
    "for dirname, _, filenames in os.walk('/kaggle/input'):\n",
    "    for filename in filenames:\n",
    "        print(os.path.join(dirname, filename))\"\"\"\n",
    "\n",
    "# You can write up to 20GB to the current directory (/kaggle/working/) that gets preserved as output when you create a version using \"Save & Run All\" \n",
    "# You can also write temporary files to /kaggle/temp/, but they won't be saved outside of the current session"
   ]
  },
  {
   "cell_type": "code",
   "execution_count": 3,
   "metadata": {},
   "outputs": [],
   "source": [
    "country_wise_df = pd.read_csv('country_wise_latest.csv')"
   ]
  },
  {
   "cell_type": "code",
   "execution_count": 5,
   "metadata": {},
   "outputs": [
    {
     "data": {
      "text/plain": [
       "Index(['Country/Region', 'Confirmed', 'Deaths', 'Recovered', 'Active',\n",
       "       'New cases', 'New deaths', 'New recovered', 'Deaths / 100 Cases',\n",
       "       'Recovered / 100 Cases', 'Deaths / 100 Recovered',\n",
       "       'Confirmed last week', '1 week change', '1 week % increase',\n",
       "       'WHO Region'],\n",
       "      dtype='object')"
      ]
     },
     "execution_count": 5,
     "metadata": {},
     "output_type": "execute_result"
    }
   ],
   "source": [
    "country_wise_df.columns"
   ]
  },
  {
   "cell_type": "code",
   "execution_count": 7,
   "metadata": {},
   "outputs": [
    {
     "name": "stdout",
     "output_type": "stream",
     "text": [
      "<class 'pandas.core.frame.DataFrame'>\n",
      "RangeIndex: 187 entries, 0 to 186\n",
      "Data columns (total 15 columns):\n",
      " #   Column                  Non-Null Count  Dtype  \n",
      "---  ------                  --------------  -----  \n",
      " 0   Country/Region          187 non-null    object \n",
      " 1   Confirmed               187 non-null    int64  \n",
      " 2   Deaths                  187 non-null    int64  \n",
      " 3   Recovered               187 non-null    int64  \n",
      " 4   Active                  187 non-null    int64  \n",
      " 5   New cases               187 non-null    int64  \n",
      " 6   New deaths              187 non-null    int64  \n",
      " 7   New recovered           187 non-null    int64  \n",
      " 8   Deaths / 100 Cases      187 non-null    float64\n",
      " 9   Recovered / 100 Cases   187 non-null    float64\n",
      " 10  Deaths / 100 Recovered  187 non-null    float64\n",
      " 11  Confirmed last week     187 non-null    int64  \n",
      " 12  1 week change           187 non-null    int64  \n",
      " 13  1 week % increase       187 non-null    float64\n",
      " 14  WHO Region              187 non-null    object \n",
      "dtypes: float64(4), int64(9), object(2)\n",
      "memory usage: 22.0+ KB\n"
     ]
    }
   ],
   "source": [
    "country_wise_df.info()"
   ]
  },
  {
   "cell_type": "code",
   "execution_count": 9,
   "metadata": {},
   "outputs": [
    {
     "data": {
      "text/html": [
       "<div>\n",
       "<style scoped>\n",
       "    .dataframe tbody tr th:only-of-type {\n",
       "        vertical-align: middle;\n",
       "    }\n",
       "\n",
       "    .dataframe tbody tr th {\n",
       "        vertical-align: top;\n",
       "    }\n",
       "\n",
       "    .dataframe thead th {\n",
       "        text-align: right;\n",
       "    }\n",
       "</style>\n",
       "<table border=\"1\" class=\"dataframe\">\n",
       "  <thead>\n",
       "    <tr style=\"text-align: right;\">\n",
       "      <th></th>\n",
       "      <th>Confirmed</th>\n",
       "      <th>Deaths</th>\n",
       "      <th>Recovered</th>\n",
       "      <th>Active</th>\n",
       "      <th>New cases</th>\n",
       "      <th>New deaths</th>\n",
       "      <th>New recovered</th>\n",
       "      <th>Deaths / 100 Cases</th>\n",
       "      <th>Recovered / 100 Cases</th>\n",
       "      <th>Deaths / 100 Recovered</th>\n",
       "      <th>Confirmed last week</th>\n",
       "      <th>1 week change</th>\n",
       "      <th>1 week % increase</th>\n",
       "    </tr>\n",
       "  </thead>\n",
       "  <tbody>\n",
       "    <tr>\n",
       "      <th>count</th>\n",
       "      <td>1.870000e+02</td>\n",
       "      <td>187.000000</td>\n",
       "      <td>1.870000e+02</td>\n",
       "      <td>1.870000e+02</td>\n",
       "      <td>187.000000</td>\n",
       "      <td>187.000000</td>\n",
       "      <td>187.000000</td>\n",
       "      <td>187.000000</td>\n",
       "      <td>187.000000</td>\n",
       "      <td>187.00</td>\n",
       "      <td>1.870000e+02</td>\n",
       "      <td>187.000000</td>\n",
       "      <td>187.000000</td>\n",
       "    </tr>\n",
       "    <tr>\n",
       "      <th>mean</th>\n",
       "      <td>8.813094e+04</td>\n",
       "      <td>3497.518717</td>\n",
       "      <td>5.063148e+04</td>\n",
       "      <td>3.400194e+04</td>\n",
       "      <td>1222.957219</td>\n",
       "      <td>28.957219</td>\n",
       "      <td>933.812834</td>\n",
       "      <td>3.019519</td>\n",
       "      <td>64.820535</td>\n",
       "      <td>inf</td>\n",
       "      <td>7.868248e+04</td>\n",
       "      <td>9448.459893</td>\n",
       "      <td>13.606203</td>\n",
       "    </tr>\n",
       "    <tr>\n",
       "      <th>std</th>\n",
       "      <td>3.833187e+05</td>\n",
       "      <td>14100.002482</td>\n",
       "      <td>1.901882e+05</td>\n",
       "      <td>2.133262e+05</td>\n",
       "      <td>5710.374790</td>\n",
       "      <td>120.037173</td>\n",
       "      <td>4197.719635</td>\n",
       "      <td>3.454302</td>\n",
       "      <td>26.287694</td>\n",
       "      <td>NaN</td>\n",
       "      <td>3.382737e+05</td>\n",
       "      <td>47491.127684</td>\n",
       "      <td>24.509838</td>\n",
       "    </tr>\n",
       "    <tr>\n",
       "      <th>min</th>\n",
       "      <td>1.000000e+01</td>\n",
       "      <td>0.000000</td>\n",
       "      <td>0.000000e+00</td>\n",
       "      <td>0.000000e+00</td>\n",
       "      <td>0.000000</td>\n",
       "      <td>0.000000</td>\n",
       "      <td>0.000000</td>\n",
       "      <td>0.000000</td>\n",
       "      <td>0.000000</td>\n",
       "      <td>0.00</td>\n",
       "      <td>1.000000e+01</td>\n",
       "      <td>-47.000000</td>\n",
       "      <td>-3.840000</td>\n",
       "    </tr>\n",
       "    <tr>\n",
       "      <th>25%</th>\n",
       "      <td>1.114000e+03</td>\n",
       "      <td>18.500000</td>\n",
       "      <td>6.265000e+02</td>\n",
       "      <td>1.415000e+02</td>\n",
       "      <td>4.000000</td>\n",
       "      <td>0.000000</td>\n",
       "      <td>0.000000</td>\n",
       "      <td>0.945000</td>\n",
       "      <td>48.770000</td>\n",
       "      <td>1.45</td>\n",
       "      <td>1.051500e+03</td>\n",
       "      <td>49.000000</td>\n",
       "      <td>2.775000</td>\n",
       "    </tr>\n",
       "    <tr>\n",
       "      <th>50%</th>\n",
       "      <td>5.059000e+03</td>\n",
       "      <td>108.000000</td>\n",
       "      <td>2.815000e+03</td>\n",
       "      <td>1.600000e+03</td>\n",
       "      <td>49.000000</td>\n",
       "      <td>1.000000</td>\n",
       "      <td>22.000000</td>\n",
       "      <td>2.150000</td>\n",
       "      <td>71.320000</td>\n",
       "      <td>3.62</td>\n",
       "      <td>5.020000e+03</td>\n",
       "      <td>432.000000</td>\n",
       "      <td>6.890000</td>\n",
       "    </tr>\n",
       "    <tr>\n",
       "      <th>75%</th>\n",
       "      <td>4.046050e+04</td>\n",
       "      <td>734.000000</td>\n",
       "      <td>2.260600e+04</td>\n",
       "      <td>9.149000e+03</td>\n",
       "      <td>419.500000</td>\n",
       "      <td>6.000000</td>\n",
       "      <td>221.000000</td>\n",
       "      <td>3.875000</td>\n",
       "      <td>86.885000</td>\n",
       "      <td>6.44</td>\n",
       "      <td>3.708050e+04</td>\n",
       "      <td>3172.000000</td>\n",
       "      <td>16.855000</td>\n",
       "    </tr>\n",
       "    <tr>\n",
       "      <th>max</th>\n",
       "      <td>4.290259e+06</td>\n",
       "      <td>148011.000000</td>\n",
       "      <td>1.846641e+06</td>\n",
       "      <td>2.816444e+06</td>\n",
       "      <td>56336.000000</td>\n",
       "      <td>1076.000000</td>\n",
       "      <td>33728.000000</td>\n",
       "      <td>28.560000</td>\n",
       "      <td>100.000000</td>\n",
       "      <td>inf</td>\n",
       "      <td>3.834677e+06</td>\n",
       "      <td>455582.000000</td>\n",
       "      <td>226.320000</td>\n",
       "    </tr>\n",
       "  </tbody>\n",
       "</table>\n",
       "</div>"
      ],
      "text/plain": [
       "          Confirmed         Deaths     Recovered        Active     New cases  \\\n",
       "count  1.870000e+02     187.000000  1.870000e+02  1.870000e+02    187.000000   \n",
       "mean   8.813094e+04    3497.518717  5.063148e+04  3.400194e+04   1222.957219   \n",
       "std    3.833187e+05   14100.002482  1.901882e+05  2.133262e+05   5710.374790   \n",
       "min    1.000000e+01       0.000000  0.000000e+00  0.000000e+00      0.000000   \n",
       "25%    1.114000e+03      18.500000  6.265000e+02  1.415000e+02      4.000000   \n",
       "50%    5.059000e+03     108.000000  2.815000e+03  1.600000e+03     49.000000   \n",
       "75%    4.046050e+04     734.000000  2.260600e+04  9.149000e+03    419.500000   \n",
       "max    4.290259e+06  148011.000000  1.846641e+06  2.816444e+06  56336.000000   \n",
       "\n",
       "        New deaths  New recovered  Deaths / 100 Cases  Recovered / 100 Cases  \\\n",
       "count   187.000000     187.000000          187.000000             187.000000   \n",
       "mean     28.957219     933.812834            3.019519              64.820535   \n",
       "std     120.037173    4197.719635            3.454302              26.287694   \n",
       "min       0.000000       0.000000            0.000000               0.000000   \n",
       "25%       0.000000       0.000000            0.945000              48.770000   \n",
       "50%       1.000000      22.000000            2.150000              71.320000   \n",
       "75%       6.000000     221.000000            3.875000              86.885000   \n",
       "max    1076.000000   33728.000000           28.560000             100.000000   \n",
       "\n",
       "       Deaths / 100 Recovered  Confirmed last week  1 week change  \\\n",
       "count                  187.00         1.870000e+02     187.000000   \n",
       "mean                      inf         7.868248e+04    9448.459893   \n",
       "std                       NaN         3.382737e+05   47491.127684   \n",
       "min                      0.00         1.000000e+01     -47.000000   \n",
       "25%                      1.45         1.051500e+03      49.000000   \n",
       "50%                      3.62         5.020000e+03     432.000000   \n",
       "75%                      6.44         3.708050e+04    3172.000000   \n",
       "max                       inf         3.834677e+06  455582.000000   \n",
       "\n",
       "       1 week % increase  \n",
       "count         187.000000  \n",
       "mean           13.606203  \n",
       "std            24.509838  \n",
       "min            -3.840000  \n",
       "25%             2.775000  \n",
       "50%             6.890000  \n",
       "75%            16.855000  \n",
       "max           226.320000  "
      ]
     },
     "execution_count": 9,
     "metadata": {},
     "output_type": "execute_result"
    }
   ],
   "source": [
    "country_wise_df.describe()"
   ]
  },
  {
   "cell_type": "markdown",
   "metadata": {},
   "source": [
    "from previous statistics measurements we will find out that there are outliers in most of these columns \n",
    "let's start with ploting them \n",
    "then calculating the IQR and apply Winsorizing"
   ]
  },
  {
   "cell_type": "code",
   "execution_count": 3,
   "metadata": {},
   "outputs": [],
   "source": [
    "def calculating_iqr(data,column):\n",
    "    q1 = data[column].quantile(0.25)\n",
    "    q3 = data[column].quantile(0.75)\n",
    "    q2 = q3 - q1\n",
    "    upper = q3 + (1.5 * q2)\n",
    "    lower = q1 - (1.5 * q1)\n",
    "    return lower,upper"
   ]
  },
  {
   "cell_type": "code",
   "execution_count": 5,
   "metadata": {},
   "outputs": [],
   "source": [
    "handle_outliers = lambda x: lower if x < lower else(upper if x > upper else x)"
   ]
  },
  {
   "cell_type": "code",
   "execution_count": 16,
   "metadata": {},
   "outputs": [
    {
     "data": {
      "text/plain": [
       "Index(['Confirmed', 'Deaths', 'Recovered', 'Active', 'New cases', 'New deaths',\n",
       "       'New recovered', 'Deaths / 100 Cases', 'Recovered / 100 Cases',\n",
       "       'Deaths / 100 Recovered', 'Confirmed last week', '1 week change',\n",
       "       '1 week % increase'],\n",
       "      dtype='object')"
      ]
     },
     "execution_count": 16,
     "metadata": {},
     "output_type": "execute_result"
    }
   ],
   "source": [
    "num_col = country_wise_df.select_dtypes(include= np.number).columns\n",
    "num_col"
   ]
  },
  {
   "cell_type": "markdown",
   "metadata": {},
   "source": [
    "Handling outliers in numerical colums"
   ]
  },
  {
   "cell_type": "code",
   "execution_count": 19,
   "metadata": {},
   "outputs": [],
   "source": [
    "col = [['Confirmed', 'Deaths','Recovered', 'Active'],[\n",
    "       'New cases', 'New deaths', 'New recovered'],[ 'Deaths / 100 Cases',\n",
    "       'Recovered / 100 Cases', 'Deaths / 100 Recovered'],[\n",
    "       'Confirmed last week', '1 week change', '1 week % increase']]"
   ]
  },
  {
   "cell_type": "code",
   "execution_count": 21,
   "metadata": {},
   "outputs": [
    {
     "data": {
      "image/png": "[encoded data removed]",
      "text/plain": [
       "<Figure size 640x480 with 4 Axes>"
      ]
     },
     "metadata": {},
     "output_type": "display_data"
    }
   ],
   "source": [
    "plt.subplot(2,2,1)\n",
    "sns.boxplot(data= country_wise_df[col[0]])\n",
    "\n",
    "plt.subplot(2,2,2)\n",
    "sns.boxplot(data= country_wise_df[col[1]])\n",
    "\n",
    "plt.subplot(2,2,3)\n",
    "sns.boxplot(data= country_wise_df[col[2]])\n",
    "\n",
    "plt.subplot(2,2,4)\n",
    "sns.boxplot(data= country_wise_df[col[3]])\n",
    "plt.show()"
   ]
  },
  {
   "cell_type": "code",
   "execution_count": 22,
   "metadata": {},
   "outputs": [],
   "source": [
    "# confirmed column\n",
    "lower,upper = calculating_iqr(country_wise_df,'Confirmed')\n",
    "country_wise_df['Confirmed'] = country_wise_df['Confirmed'].apply(handle_outliers)\n",
    "\n",
    "# Deaths column\n",
    "lower,upper = calculating_iqr(country_wise_df,'Deaths')\n",
    "country_wise_df['Deaths'] = country_wise_df['Deaths'].apply(handle_outliers)\n",
    "\n",
    "# 'Recovered' column\n",
    "lower,upper = calculating_iqr(country_wise_df,'Recovered')\n",
    "country_wise_df['Recovered'] = country_wise_df['Recovered'].apply(handle_outliers)\n",
    "\n",
    "# 'Active' column\n",
    "lower,upper = calculating_iqr(country_wise_df,'Active')\n",
    "country_wise_df['Active'] = country_wise_df['Active'].apply(handle_outliers)"
   ]
  },
  {
   "cell_type": "markdown",
   "metadata": {},
   "source": [
    "##### Handling outliers in columns:  'Confirmed', 'Deaths','Recovered', 'Active'"
   ]
  },
  {
   "cell_type": "code",
   "execution_count": 26,
   "metadata": {},
   "outputs": [],
   "source": [
    "# Handling 'New cases' column\n",
    "lower,upper = calculating_iqr(country_wise_df,'New cases')\n",
    "country_wise_df['New cases'] = country_wise_df['New cases'].apply(handle_outliers)\n",
    "\n",
    "# Handling 'New deaths' column\n",
    "lower,upper = calculating_iqr(country_wise_df,'New deaths')\n",
    "country_wise_df['New deaths'] = country_wise_df['New deaths'].apply(handle_outliers)\n",
    "\n",
    "# Handling 'New recovered' column\n",
    "lower,upper = calculating_iqr(country_wise_df,'New recovered')\n",
    "country_wise_df['New recovered'] = country_wise_df['New recovered'].apply(handle_outliers)"
   ]
  },
  {
   "cell_type": "code",
   "execution_count": 28,
   "metadata": {},
   "outputs": [],
   "source": [
    "# 'Deaths / 100 Cases' column\n",
    "lower,upper = calculating_iqr(country_wise_df,'Deaths / 100 Cases')\n",
    "country_wise_df['Deaths / 100 Cases'] = country_wise_df['Deaths / 100 Cases'].apply(handle_outliers)\n",
    "# 'Recovered / 100 Cases' column\n",
    "lower,upper = calculating_iqr(country_wise_df,'Recovered / 100 Cases')\n",
    "country_wise_df['Recovered / 100 Cases'] = country_wise_df['Recovered / 100 Cases'].apply(handle_outliers)\n",
    "# 'Deaths / 100 Recovered' column\n",
    "lower,upper = calculating_iqr(country_wise_df,'Deaths / 100 Recovered')\n",
    "country_wise_df['Deaths / 100 Recovered'] = country_wise_df['Deaths / 100 Recovered'].apply(handle_outliers)"
   ]
  },
  {
   "cell_type": "code",
   "execution_count": 30,
   "metadata": {},
   "outputs": [],
   "source": [
    "# 'Confirmed last week' column\n",
    "lower,upper = calculating_iqr(country_wise_df,'Confirmed last week')\n",
    "country_wise_df['Confirmed last week'] = country_wise_df['Confirmed last week'].apply(handle_outliers)\n",
    "\n",
    "# '1 week change' column\n",
    "lower,upper = calculating_iqr(country_wise_df,'1 week change')\n",
    "country_wise_df['1 week change'] = country_wise_df['1 week change'].apply(handle_outliers)\n",
    "\n",
    "# '1 week % increase' column\n",
    "lower,upper = calculating_iqr(country_wise_df,'1 week % increase')\n",
    "country_wise_df['1 week % increase'] = country_wise_df['1 week % increase'].apply(handle_outliers)"
   ]
  },
  {
   "cell_type": "code",
   "execution_count": 32,
   "metadata": {
    "scrolled": true
   },
   "outputs": [
    {
     "data": {
      "image/png": "[encoded data removed]",
      "text/plain": [
       "<Figure size 640x480 with 4 Axes>"
      ]
     },
     "metadata": {},
     "output_type": "display_data"
    }
   ],
   "source": [
    "# Ploting after handling outliers\n",
    "plt.subplot(2,2,1)\n",
    "sns.boxplot(data= country_wise_df[col[0]])\n",
    "\n",
    "plt.subplot(2,2,2)\n",
    "sns.boxplot(data= country_wise_df[col[1]])\n",
    "\n",
    "plt.subplot(2,2,3)\n",
    "sns.boxplot(data= country_wise_df[col[2]])\n",
    "\n",
    "plt.subplot(2,2,4)\n",
    "sns.boxplot(data= country_wise_df[col[3]])\n",
    "plt.show()"
   ]
  },
  {
   "cell_type": "code",
   "execution_count": 33,
   "metadata": {},
   "outputs": [
    {
     "data": {
      "text/html": [
       "<div>\n",
       "<style scoped>\n",
       "    .dataframe tbody tr th:only-of-type {\n",
       "        vertical-align: middle;\n",
       "    }\n",
       "\n",
       "    .dataframe tbody tr th {\n",
       "        vertical-align: top;\n",
       "    }\n",
       "\n",
       "    .dataframe thead th {\n",
       "        text-align: right;\n",
       "    }\n",
       "</style>\n",
       "<table border=\"1\" class=\"dataframe\">\n",
       "  <thead>\n",
       "    <tr style=\"text-align: right;\">\n",
       "      <th></th>\n",
       "      <th>Confirmed</th>\n",
       "      <th>Deaths</th>\n",
       "      <th>Recovered</th>\n",
       "      <th>Active</th>\n",
       "      <th>New cases</th>\n",
       "      <th>New deaths</th>\n",
       "      <th>New recovered</th>\n",
       "      <th>Deaths / 100 Cases</th>\n",
       "      <th>Recovered / 100 Cases</th>\n",
       "      <th>Deaths / 100 Recovered</th>\n",
       "      <th>Confirmed last week</th>\n",
       "      <th>1 week change</th>\n",
       "      <th>1 week % increase</th>\n",
       "    </tr>\n",
       "  </thead>\n",
       "  <tbody>\n",
       "    <tr>\n",
       "      <th>count</th>\n",
       "      <td>187.000000</td>\n",
       "      <td>187.000000</td>\n",
       "      <td>187.000000</td>\n",
       "      <td>187.000000</td>\n",
       "      <td>187.000000</td>\n",
       "      <td>187.000000</td>\n",
       "      <td>187.000000</td>\n",
       "      <td>187.000000</td>\n",
       "      <td>187.000000</td>\n",
       "      <td>187.000000</td>\n",
       "      <td>187.000000</td>\n",
       "      <td>187.000000</td>\n",
       "      <td>187.000000</td>\n",
       "    </tr>\n",
       "    <tr>\n",
       "      <th>mean</th>\n",
       "      <td>25944.139037</td>\n",
       "      <td>510.172460</td>\n",
       "      <td>14132.883690</td>\n",
       "      <td>6266.176471</td>\n",
       "      <td>264.544118</td>\n",
       "      <td>3.802139</td>\n",
       "      <td>144.483957</td>\n",
       "      <td>2.697005</td>\n",
       "      <td>64.820535</td>\n",
       "      <td>4.768289</td>\n",
       "      <td>23604.331551</td>\n",
       "      <td>2022.804813</td>\n",
       "      <td>11.167340</td>\n",
       "    </tr>\n",
       "    <tr>\n",
       "      <th>std</th>\n",
       "      <td>35481.834416</td>\n",
       "      <td>700.605387</td>\n",
       "      <td>19846.563715</td>\n",
       "      <td>8514.912668</td>\n",
       "      <td>366.343842</td>\n",
       "      <td>5.496665</td>\n",
       "      <td>205.116423</td>\n",
       "      <td>2.255514</td>\n",
       "      <td>26.287694</td>\n",
       "      <td>4.249337</td>\n",
       "      <td>32536.210181</td>\n",
       "      <td>2773.893022</td>\n",
       "      <td>10.918431</td>\n",
       "    </tr>\n",
       "    <tr>\n",
       "      <th>min</th>\n",
       "      <td>10.000000</td>\n",
       "      <td>0.000000</td>\n",
       "      <td>0.000000</td>\n",
       "      <td>0.000000</td>\n",
       "      <td>0.000000</td>\n",
       "      <td>0.000000</td>\n",
       "      <td>0.000000</td>\n",
       "      <td>0.000000</td>\n",
       "      <td>0.000000</td>\n",
       "      <td>0.000000</td>\n",
       "      <td>10.000000</td>\n",
       "      <td>-24.500000</td>\n",
       "      <td>-1.387500</td>\n",
       "    </tr>\n",
       "    <tr>\n",
       "      <th>25%</th>\n",
       "      <td>1114.000000</td>\n",
       "      <td>18.500000</td>\n",
       "      <td>626.500000</td>\n",
       "      <td>141.500000</td>\n",
       "      <td>4.000000</td>\n",
       "      <td>0.000000</td>\n",
       "      <td>0.000000</td>\n",
       "      <td>0.945000</td>\n",
       "      <td>48.770000</td>\n",
       "      <td>1.450000</td>\n",
       "      <td>1051.500000</td>\n",
       "      <td>49.000000</td>\n",
       "      <td>2.775000</td>\n",
       "    </tr>\n",
       "    <tr>\n",
       "      <th>50%</th>\n",
       "      <td>5059.000000</td>\n",
       "      <td>108.000000</td>\n",
       "      <td>2815.000000</td>\n",
       "      <td>1600.000000</td>\n",
       "      <td>49.000000</td>\n",
       "      <td>1.000000</td>\n",
       "      <td>22.000000</td>\n",
       "      <td>2.150000</td>\n",
       "      <td>71.320000</td>\n",
       "      <td>3.620000</td>\n",
       "      <td>5020.000000</td>\n",
       "      <td>432.000000</td>\n",
       "      <td>6.890000</td>\n",
       "    </tr>\n",
       "    <tr>\n",
       "      <th>75%</th>\n",
       "      <td>40460.500000</td>\n",
       "      <td>734.000000</td>\n",
       "      <td>22606.000000</td>\n",
       "      <td>9149.000000</td>\n",
       "      <td>419.500000</td>\n",
       "      <td>6.000000</td>\n",
       "      <td>221.000000</td>\n",
       "      <td>3.875000</td>\n",
       "      <td>86.885000</td>\n",
       "      <td>6.440000</td>\n",
       "      <td>37080.500000</td>\n",
       "      <td>3172.000000</td>\n",
       "      <td>16.855000</td>\n",
       "    </tr>\n",
       "    <tr>\n",
       "      <th>max</th>\n",
       "      <td>99480.250000</td>\n",
       "      <td>1807.250000</td>\n",
       "      <td>55575.250000</td>\n",
       "      <td>22660.250000</td>\n",
       "      <td>1042.750000</td>\n",
       "      <td>15.000000</td>\n",
       "      <td>552.500000</td>\n",
       "      <td>8.270000</td>\n",
       "      <td>100.000000</td>\n",
       "      <td>13.925000</td>\n",
       "      <td>91124.000000</td>\n",
       "      <td>7856.500000</td>\n",
       "      <td>37.975000</td>\n",
       "    </tr>\n",
       "  </tbody>\n",
       "</table>\n",
       "</div>"
      ],
      "text/plain": [
       "          Confirmed       Deaths     Recovered        Active    New cases  \\\n",
       "count    187.000000   187.000000    187.000000    187.000000   187.000000   \n",
       "mean   25944.139037   510.172460  14132.883690   6266.176471   264.544118   \n",
       "std    35481.834416   700.605387  19846.563715   8514.912668   366.343842   \n",
       "min       10.000000     0.000000      0.000000      0.000000     0.000000   \n",
       "25%     1114.000000    18.500000    626.500000    141.500000     4.000000   \n",
       "50%     5059.000000   108.000000   2815.000000   1600.000000    49.000000   \n",
       "75%    40460.500000   734.000000  22606.000000   9149.000000   419.500000   \n",
       "max    99480.250000  1807.250000  55575.250000  22660.250000  1042.750000   \n",
       "\n",
       "       New deaths  New recovered  Deaths / 100 Cases  Recovered / 100 Cases  \\\n",
       "count  187.000000     187.000000          187.000000             187.000000   \n",
       "mean     3.802139     144.483957            2.697005              64.820535   \n",
       "std      5.496665     205.116423            2.255514              26.287694   \n",
       "min      0.000000       0.000000            0.000000               0.000000   \n",
       "25%      0.000000       0.000000            0.945000              48.770000   \n",
       "50%      1.000000      22.000000            2.150000              71.320000   \n",
       "75%      6.000000     221.000000            3.875000              86.885000   \n",
       "max     15.000000     552.500000            8.270000             100.000000   \n",
       "\n",
       "       Deaths / 100 Recovered  Confirmed last week  1 week change  \\\n",
       "count              187.000000           187.000000     187.000000   \n",
       "mean                 4.768289         23604.331551    2022.804813   \n",
       "std                  4.249337         32536.210181    2773.893022   \n",
       "min                  0.000000            10.000000     -24.500000   \n",
       "25%                  1.450000          1051.500000      49.000000   \n",
       "50%                  3.620000          5020.000000     432.000000   \n",
       "75%                  6.440000         37080.500000    3172.000000   \n",
       "max                 13.925000         91124.000000    7856.500000   \n",
       "\n",
       "       1 week % increase  \n",
       "count         187.000000  \n",
       "mean           11.167340  \n",
       "std            10.918431  \n",
       "min            -1.387500  \n",
       "25%             2.775000  \n",
       "50%             6.890000  \n",
       "75%            16.855000  \n",
       "max            37.975000  "
      ]
     },
     "execution_count": 33,
     "metadata": {},
     "output_type": "execute_result"
    }
   ],
   "source": [
    "country_wise_df.describe()"
   ]
  },
  {
   "cell_type": "code",
   "execution_count": 36,
   "metadata": {},
   "outputs": [],
   "source": [
    "country_wise_df['Total cases'] = country_wise_df['Confirmed'] + country_wise_df['New cases']"
   ]
  },
  {
   "cell_type": "code",
   "execution_count": 38,
   "metadata": {},
   "outputs": [],
   "source": [
    "country_wise_df['Total deaths'] = country_wise_df['Deaths'] + country_wise_df['New deaths']\n"
   ]
  },
  {
   "cell_type": "code",
   "execution_count": 40,
   "metadata": {},
   "outputs": [],
   "source": [
    "country_wise_df['Total recovered'] = country_wise_df['Recovered'] + country_wise_df['New recovered']"
   ]
  },
  {
   "cell_type": "code",
   "execution_count": 42,
   "metadata": {},
   "outputs": [],
   "source": [
    "country_wise_df['Total active'] = country_wise_df['Total cases'] - (country_wise_df['Total deaths'] + country_wise_df['Total recovered'])"
   ]
  },
  {
   "cell_type": "code",
   "execution_count": 44,
   "metadata": {},
   "outputs": [],
   "source": [
    "country_wise_df['Active / 100 Cases'] = 100 - ( country_wise_df['Deaths / 100 Cases'] + country_wise_df['Recovered / 100 Cases'])"
   ]
  },
  {
   "cell_type": "code",
   "execution_count": 46,
   "metadata": {},
   "outputs": [
    {
     "data": {
      "text/html": [
       "<div>\n",
       "<style scoped>\n",
       "    .dataframe tbody tr th:only-of-type {\n",
       "        vertical-align: middle;\n",
       "    }\n",
       "\n",
       "    .dataframe tbody tr th {\n",
       "        vertical-align: top;\n",
       "    }\n",
       "\n",
       "    .dataframe thead th {\n",
       "        text-align: right;\n",
       "    }\n",
       "</style>\n",
       "<table border=\"1\" class=\"dataframe\">\n",
       "  <thead>\n",
       "    <tr style=\"text-align: right;\">\n",
       "      <th></th>\n",
       "      <th>Country/Region</th>\n",
       "      <th>Confirmed</th>\n",
       "      <th>Deaths</th>\n",
       "      <th>Recovered</th>\n",
       "      <th>Active</th>\n",
       "      <th>New cases</th>\n",
       "      <th>New deaths</th>\n",
       "      <th>New recovered</th>\n",
       "      <th>Deaths / 100 Cases</th>\n",
       "      <th>Recovered / 100 Cases</th>\n",
       "      <th>Deaths / 100 Recovered</th>\n",
       "      <th>Confirmed last week</th>\n",
       "      <th>1 week change</th>\n",
       "      <th>1 week % increase</th>\n",
       "      <th>WHO Region</th>\n",
       "      <th>Total cases</th>\n",
       "      <th>Total deaths</th>\n",
       "      <th>Total recovered</th>\n",
       "      <th>Total active</th>\n",
       "      <th>Active / 100 Cases</th>\n",
       "    </tr>\n",
       "  </thead>\n",
       "  <tbody>\n",
       "    <tr>\n",
       "      <th>0</th>\n",
       "      <td>Afghanistan</td>\n",
       "      <td>36263.0</td>\n",
       "      <td>1269.0</td>\n",
       "      <td>25198.0</td>\n",
       "      <td>9796.0</td>\n",
       "      <td>106.0</td>\n",
       "      <td>10.0</td>\n",
       "      <td>18.0</td>\n",
       "      <td>3.50</td>\n",
       "      <td>69.49</td>\n",
       "      <td>5.040</td>\n",
       "      <td>35526.0</td>\n",
       "      <td>737.0</td>\n",
       "      <td>2.07</td>\n",
       "      <td>Eastern Mediterranean</td>\n",
       "      <td>36369.0</td>\n",
       "      <td>1279.0</td>\n",
       "      <td>25216.0</td>\n",
       "      <td>9874.0</td>\n",
       "      <td>27.01</td>\n",
       "    </tr>\n",
       "    <tr>\n",
       "      <th>1</th>\n",
       "      <td>Albania</td>\n",
       "      <td>4880.0</td>\n",
       "      <td>144.0</td>\n",
       "      <td>2745.0</td>\n",
       "      <td>1991.0</td>\n",
       "      <td>117.0</td>\n",
       "      <td>6.0</td>\n",
       "      <td>63.0</td>\n",
       "      <td>2.95</td>\n",
       "      <td>56.25</td>\n",
       "      <td>5.250</td>\n",
       "      <td>4171.0</td>\n",
       "      <td>709.0</td>\n",
       "      <td>17.00</td>\n",
       "      <td>Europe</td>\n",
       "      <td>4997.0</td>\n",
       "      <td>150.0</td>\n",
       "      <td>2808.0</td>\n",
       "      <td>2039.0</td>\n",
       "      <td>40.80</td>\n",
       "    </tr>\n",
       "    <tr>\n",
       "      <th>2</th>\n",
       "      <td>Algeria</td>\n",
       "      <td>27973.0</td>\n",
       "      <td>1163.0</td>\n",
       "      <td>18837.0</td>\n",
       "      <td>7973.0</td>\n",
       "      <td>616.0</td>\n",
       "      <td>8.0</td>\n",
       "      <td>552.5</td>\n",
       "      <td>4.16</td>\n",
       "      <td>67.34</td>\n",
       "      <td>6.170</td>\n",
       "      <td>23691.0</td>\n",
       "      <td>4282.0</td>\n",
       "      <td>18.07</td>\n",
       "      <td>Africa</td>\n",
       "      <td>28589.0</td>\n",
       "      <td>1171.0</td>\n",
       "      <td>19389.5</td>\n",
       "      <td>8028.5</td>\n",
       "      <td>28.50</td>\n",
       "    </tr>\n",
       "    <tr>\n",
       "      <th>3</th>\n",
       "      <td>Andorra</td>\n",
       "      <td>907.0</td>\n",
       "      <td>52.0</td>\n",
       "      <td>803.0</td>\n",
       "      <td>52.0</td>\n",
       "      <td>10.0</td>\n",
       "      <td>0.0</td>\n",
       "      <td>0.0</td>\n",
       "      <td>5.73</td>\n",
       "      <td>88.53</td>\n",
       "      <td>6.480</td>\n",
       "      <td>884.0</td>\n",
       "      <td>23.0</td>\n",
       "      <td>2.60</td>\n",
       "      <td>Europe</td>\n",
       "      <td>917.0</td>\n",
       "      <td>52.0</td>\n",
       "      <td>803.0</td>\n",
       "      <td>62.0</td>\n",
       "      <td>5.74</td>\n",
       "    </tr>\n",
       "    <tr>\n",
       "      <th>4</th>\n",
       "      <td>Angola</td>\n",
       "      <td>950.0</td>\n",
       "      <td>41.0</td>\n",
       "      <td>242.0</td>\n",
       "      <td>667.0</td>\n",
       "      <td>18.0</td>\n",
       "      <td>1.0</td>\n",
       "      <td>0.0</td>\n",
       "      <td>4.32</td>\n",
       "      <td>25.47</td>\n",
       "      <td>13.925</td>\n",
       "      <td>749.0</td>\n",
       "      <td>201.0</td>\n",
       "      <td>26.84</td>\n",
       "      <td>Africa</td>\n",
       "      <td>968.0</td>\n",
       "      <td>42.0</td>\n",
       "      <td>242.0</td>\n",
       "      <td>684.0</td>\n",
       "      <td>70.21</td>\n",
       "    </tr>\n",
       "  </tbody>\n",
       "</table>\n",
       "</div>"
      ],
      "text/plain": [
       "  Country/Region  Confirmed  Deaths  Recovered  Active  New cases  New deaths  \\\n",
       "0    Afghanistan    36263.0  1269.0    25198.0  9796.0      106.0        10.0   \n",
       "1        Albania     4880.0   144.0     2745.0  1991.0      117.0         6.0   \n",
       "2        Algeria    27973.0  1163.0    18837.0  7973.0      616.0         8.0   \n",
       "3        Andorra      907.0    52.0      803.0    52.0       10.0         0.0   \n",
       "4         Angola      950.0    41.0      242.0   667.0       18.0         1.0   \n",
       "\n",
       "   New recovered  Deaths / 100 Cases  Recovered / 100 Cases  \\\n",
       "0           18.0                3.50                  69.49   \n",
       "1           63.0                2.95                  56.25   \n",
       "2          552.5                4.16                  67.34   \n",
       "3            0.0                5.73                  88.53   \n",
       "4            0.0                4.32                  25.47   \n",
       "\n",
       "   Deaths / 100 Recovered  Confirmed last week  1 week change  \\\n",
       "0                   5.040              35526.0          737.0   \n",
       "1                   5.250               4171.0          709.0   \n",
       "2                   6.170              23691.0         4282.0   \n",
       "3                   6.480                884.0           23.0   \n",
       "4                  13.925                749.0          201.0   \n",
       "\n",
       "   1 week % increase             WHO Region  Total cases  Total deaths  \\\n",
       "0               2.07  Eastern Mediterranean      36369.0        1279.0   \n",
       "1              17.00                 Europe       4997.0         150.0   \n",
       "2              18.07                 Africa      28589.0        1171.0   \n",
       "3               2.60                 Europe        917.0          52.0   \n",
       "4              26.84                 Africa        968.0          42.0   \n",
       "\n",
       "   Total recovered  Total active  Active / 100 Cases  \n",
       "0          25216.0        9874.0               27.01  \n",
       "1           2808.0        2039.0               40.80  \n",
       "2          19389.5        8028.5               28.50  \n",
       "3            803.0          62.0                5.74  \n",
       "4            242.0         684.0               70.21  "
      ]
     },
     "execution_count": 46,
     "metadata": {},
     "output_type": "execute_result"
    }
   ],
   "source": [
    "country_wise_df.head()"
   ]
  },
  {
   "cell_type": "code",
   "execution_count": 48,
   "metadata": {},
   "outputs": [
    {
     "data": {
      "text/plain": [
       "187"
      ]
     },
     "execution_count": 48,
     "metadata": {},
     "output_type": "execute_result"
    }
   ],
   "source": [
    "len(country_wise_df['Country/Region'].unique())"
   ]
  },
  {
   "cell_type": "code",
   "execution_count": 50,
   "metadata": {},
   "outputs": [
    {
     "data": {
      "text/plain": [
       "WHO Region\n",
       "Africa                   48\n",
       "Americas                 35\n",
       "Eastern Mediterranean    22\n",
       "Europe                   56\n",
       "South-East Asia          10\n",
       "Western Pacific          16\n",
       "Name: Country/Region, dtype: int64"
      ]
     },
     "execution_count": 50,
     "metadata": {},
     "output_type": "execute_result"
    }
   ],
   "source": [
    "n_country_WHO = country_wise_df.groupby('WHO Region')['Country/Region'].count()\n",
    "n_country_WHO"
   ]
  },
  {
   "cell_type": "code",
   "execution_count": 52,
   "metadata": {},
   "outputs": [
    {
     "data": {
      "text/plain": [
       "array(['Eastern Mediterranean', 'Europe', 'Africa', 'Americas',\n",
       "       'Western Pacific', 'South-East Asia'], dtype=object)"
      ]
     },
     "execution_count": 52,
     "metadata": {},
     "output_type": "execute_result"
    }
   ],
   "source": [
    "who_reg_val = country_wise_df['WHO Region'].unique()\n",
    "who_reg_val"
   ]
  },
  {
   "cell_type": "code",
   "execution_count": 54,
   "metadata": {},
   "outputs": [
    {
     "data": {
      "text/html": [
       "<div>\n",
       "<style scoped>\n",
       "    .dataframe tbody tr th:only-of-type {\n",
       "        vertical-align: middle;\n",
       "    }\n",
       "\n",
       "    .dataframe tbody tr th {\n",
       "        vertical-align: top;\n",
       "    }\n",
       "\n",
       "    .dataframe thead th {\n",
       "        text-align: right;\n",
       "    }\n",
       "</style>\n",
       "<table border=\"1\" class=\"dataframe\">\n",
       "  <thead>\n",
       "    <tr style=\"text-align: right;\">\n",
       "      <th></th>\n",
       "      <th>Total deaths</th>\n",
       "      <th>Total recovered</th>\n",
       "      <th>Total cases</th>\n",
       "    </tr>\n",
       "    <tr>\n",
       "      <th>WHO Region</th>\n",
       "      <th></th>\n",
       "      <th></th>\n",
       "      <th></th>\n",
       "    </tr>\n",
       "  </thead>\n",
       "  <tbody>\n",
       "    <tr>\n",
       "      <th>Africa</th>\n",
       "      <td>Zimbabwe</td>\n",
       "      <td>Zimbabwe</td>\n",
       "      <td>Zimbabwe</td>\n",
       "    </tr>\n",
       "    <tr>\n",
       "      <th>Americas</th>\n",
       "      <td>Venezuela</td>\n",
       "      <td>Venezuela</td>\n",
       "      <td>Venezuela</td>\n",
       "    </tr>\n",
       "    <tr>\n",
       "      <th>Eastern Mediterranean</th>\n",
       "      <td>Yemen</td>\n",
       "      <td>Yemen</td>\n",
       "      <td>Yemen</td>\n",
       "    </tr>\n",
       "    <tr>\n",
       "      <th>Europe</th>\n",
       "      <td>Uzbekistan</td>\n",
       "      <td>Uzbekistan</td>\n",
       "      <td>Uzbekistan</td>\n",
       "    </tr>\n",
       "    <tr>\n",
       "      <th>South-East Asia</th>\n",
       "      <td>Timor-Leste</td>\n",
       "      <td>Timor-Leste</td>\n",
       "      <td>Timor-Leste</td>\n",
       "    </tr>\n",
       "    <tr>\n",
       "      <th>Western Pacific</th>\n",
       "      <td>Vietnam</td>\n",
       "      <td>Vietnam</td>\n",
       "      <td>Vietnam</td>\n",
       "    </tr>\n",
       "  </tbody>\n",
       "</table>\n",
       "</div>"
      ],
      "text/plain": [
       "                      Total deaths Total recovered  Total cases\n",
       "WHO Region                                                     \n",
       "Africa                    Zimbabwe        Zimbabwe     Zimbabwe\n",
       "Americas                 Venezuela       Venezuela    Venezuela\n",
       "Eastern Mediterranean        Yemen           Yemen        Yemen\n",
       "Europe                  Uzbekistan      Uzbekistan   Uzbekistan\n",
       "South-East Asia        Timor-Leste     Timor-Leste  Timor-Leste\n",
       "Western Pacific            Vietnam         Vietnam      Vietnam"
      ]
     },
     "execution_count": 54,
     "metadata": {},
     "output_type": "execute_result"
    }
   ],
   "source": [
    "max_countries_in_active_in_each_who_region = country_wise_df.groupby('WHO Region')['Country/Region'].agg({max_death := ('Total deaths',\"max\"), max_confirmed := ('Total cases','max'),max_recovered := ('Total recovered','max')})\n",
    "max_countries_in_active_in_each_who_region"
   ]
  },
  {
   "cell_type": "code",
   "execution_count": 56,
   "metadata": {},
   "outputs": [
    {
     "data": {
      "text/html": [
       "<div>\n",
       "<style scoped>\n",
       "    .dataframe tbody tr th:only-of-type {\n",
       "        vertical-align: middle;\n",
       "    }\n",
       "\n",
       "    .dataframe tbody tr th {\n",
       "        vertical-align: top;\n",
       "    }\n",
       "\n",
       "    .dataframe thead th {\n",
       "        text-align: right;\n",
       "    }\n",
       "</style>\n",
       "<table border=\"1\" class=\"dataframe\">\n",
       "  <thead>\n",
       "    <tr style=\"text-align: right;\">\n",
       "      <th></th>\n",
       "      <th>Deaths / 100 Recovered country</th>\n",
       "      <th>Recovered / 100 Cases country</th>\n",
       "      <th>Deaths / 100 Cases country</th>\n",
       "    </tr>\n",
       "    <tr>\n",
       "      <th>WHO Region</th>\n",
       "      <th></th>\n",
       "      <th></th>\n",
       "      <th></th>\n",
       "    </tr>\n",
       "  </thead>\n",
       "  <tbody>\n",
       "    <tr>\n",
       "      <th>Africa</th>\n",
       "      <td>Zimbabwe</td>\n",
       "      <td>Zimbabwe</td>\n",
       "      <td>Zimbabwe</td>\n",
       "    </tr>\n",
       "    <tr>\n",
       "      <th>Americas</th>\n",
       "      <td>Venezuela</td>\n",
       "      <td>Venezuela</td>\n",
       "      <td>Venezuela</td>\n",
       "    </tr>\n",
       "    <tr>\n",
       "      <th>Eastern Mediterranean</th>\n",
       "      <td>Yemen</td>\n",
       "      <td>Yemen</td>\n",
       "      <td>Yemen</td>\n",
       "    </tr>\n",
       "    <tr>\n",
       "      <th>Europe</th>\n",
       "      <td>Uzbekistan</td>\n",
       "      <td>Uzbekistan</td>\n",
       "      <td>Uzbekistan</td>\n",
       "    </tr>\n",
       "    <tr>\n",
       "      <th>South-East Asia</th>\n",
       "      <td>Timor-Leste</td>\n",
       "      <td>Timor-Leste</td>\n",
       "      <td>Timor-Leste</td>\n",
       "    </tr>\n",
       "    <tr>\n",
       "      <th>Western Pacific</th>\n",
       "      <td>Vietnam</td>\n",
       "      <td>Vietnam</td>\n",
       "      <td>Vietnam</td>\n",
       "    </tr>\n",
       "  </tbody>\n",
       "</table>\n",
       "</div>"
      ],
      "text/plain": [
       "                      Deaths / 100 Recovered country  \\\n",
       "WHO Region                                             \n",
       "Africa                                      Zimbabwe   \n",
       "Americas                                   Venezuela   \n",
       "Eastern Mediterranean                          Yemen   \n",
       "Europe                                    Uzbekistan   \n",
       "South-East Asia                          Timor-Leste   \n",
       "Western Pacific                              Vietnam   \n",
       "\n",
       "                      Recovered / 100 Cases country Deaths / 100 Cases country  \n",
       "WHO Region                                                                      \n",
       "Africa                                     Zimbabwe                   Zimbabwe  \n",
       "Americas                                  Venezuela                  Venezuela  \n",
       "Eastern Mediterranean                         Yemen                      Yemen  \n",
       "Europe                                   Uzbekistan                 Uzbekistan  \n",
       "South-East Asia                         Timor-Leste                Timor-Leste  \n",
       "Western Pacific                             Vietnam                    Vietnam  "
      ]
     },
     "execution_count": 56,
     "metadata": {},
     "output_type": "execute_result"
    }
   ],
   "source": [
    "max_countries_in_active_in_each_who_region_per = country_wise_df.groupby('WHO Region')['Country/Region'].agg({max_death_100_cases := ('Deaths / 100 Cases country',\"max\"), max_recover_100_cases := ('Recovered / 100 Cases country','max'),max_death_for_100_recover := ('Deaths / 100 Recovered country','max')})\n",
    "max_countries_in_active_in_each_who_region_per"
   ]
  },
  {
   "cell_type": "markdown",
   "metadata": {},
   "source": [
    "from this analysis we will find that for each 100 cases maximum values for each country in each WHO Region will be the same if they are compared between all cases without percentage"
   ]
  },
  {
   "cell_type": "code",
   "execution_count": 59,
   "metadata": {},
   "outputs": [
    {
     "data": {
      "text/plain": [
       "Index(['Country/Region', 'Confirmed', 'Deaths', 'Recovered', 'Active',\n",
       "       'New cases', 'New deaths', 'New recovered', 'Deaths / 100 Cases',\n",
       "       'Recovered / 100 Cases', 'Deaths / 100 Recovered',\n",
       "       'Confirmed last week', '1 week change', '1 week % increase',\n",
       "       'WHO Region', 'Total cases', 'Total deaths', 'Total recovered',\n",
       "       'Total active', 'Active / 100 Cases'],\n",
       "      dtype='object')"
      ]
     },
     "execution_count": 59,
     "metadata": {},
     "output_type": "execute_result"
    }
   ],
   "source": [
    "country_wise_df.columns"
   ]
  },
  {
   "cell_type": "code",
   "execution_count": 61,
   "metadata": {},
   "outputs": [
    {
     "data": {
      "text/html": [
       "<div>\n",
       "<style scoped>\n",
       "    .dataframe tbody tr th:only-of-type {\n",
       "        vertical-align: middle;\n",
       "    }\n",
       "\n",
       "    .dataframe tbody tr th {\n",
       "        vertical-align: top;\n",
       "    }\n",
       "\n",
       "    .dataframe thead th {\n",
       "        text-align: right;\n",
       "    }\n",
       "</style>\n",
       "<table border=\"1\" class=\"dataframe\">\n",
       "  <thead>\n",
       "    <tr style=\"text-align: right;\">\n",
       "      <th></th>\n",
       "      <th>Deaths / 100 Cases</th>\n",
       "      <th>Recovered / 100 Cases</th>\n",
       "      <th>Deaths / 100 Recovered</th>\n",
       "      <th>Confirmed last week</th>\n",
       "      <th>1 week change</th>\n",
       "      <th>1 week % increase</th>\n",
       "      <th>Total cases</th>\n",
       "      <th>Total deaths</th>\n",
       "      <th>Total recovered</th>\n",
       "      <th>Total active</th>\n",
       "      <th>Active / 100 Cases</th>\n",
       "    </tr>\n",
       "  </thead>\n",
       "  <tbody>\n",
       "    <tr>\n",
       "      <th>count</th>\n",
       "      <td>187.000000</td>\n",
       "      <td>187.000000</td>\n",
       "      <td>187.000000</td>\n",
       "      <td>187.000000</td>\n",
       "      <td>187.000000</td>\n",
       "      <td>187.000000</td>\n",
       "      <td>187.000000</td>\n",
       "      <td>187.000000</td>\n",
       "      <td>187.000000</td>\n",
       "      <td>187.000000</td>\n",
       "      <td>187.000000</td>\n",
       "    </tr>\n",
       "    <tr>\n",
       "      <th>mean</th>\n",
       "      <td>2.697005</td>\n",
       "      <td>64.820535</td>\n",
       "      <td>4.768289</td>\n",
       "      <td>23604.331551</td>\n",
       "      <td>2022.804813</td>\n",
       "      <td>11.167340</td>\n",
       "      <td>26208.683155</td>\n",
       "      <td>513.974599</td>\n",
       "      <td>14277.367647</td>\n",
       "      <td>11417.340909</td>\n",
       "      <td>32.482460</td>\n",
       "    </tr>\n",
       "    <tr>\n",
       "      <th>std</th>\n",
       "      <td>2.255514</td>\n",
       "      <td>26.287694</td>\n",
       "      <td>4.249337</td>\n",
       "      <td>32536.210181</td>\n",
       "      <td>2773.893022</td>\n",
       "      <td>10.918431</td>\n",
       "      <td>35786.844542</td>\n",
       "      <td>704.750409</td>\n",
       "      <td>20001.296949</td>\n",
       "      <td>18976.878127</td>\n",
       "      <td>26.042935</td>\n",
       "    </tr>\n",
       "    <tr>\n",
       "      <th>min</th>\n",
       "      <td>0.000000</td>\n",
       "      <td>0.000000</td>\n",
       "      <td>0.000000</td>\n",
       "      <td>10.000000</td>\n",
       "      <td>-24.500000</td>\n",
       "      <td>-1.387500</td>\n",
       "      <td>10.000000</td>\n",
       "      <td>0.000000</td>\n",
       "      <td>0.000000</td>\n",
       "      <td>0.000000</td>\n",
       "      <td>0.000000</td>\n",
       "    </tr>\n",
       "    <tr>\n",
       "      <th>25%</th>\n",
       "      <td>0.945000</td>\n",
       "      <td>48.770000</td>\n",
       "      <td>1.450000</td>\n",
       "      <td>1051.500000</td>\n",
       "      <td>49.000000</td>\n",
       "      <td>2.775000</td>\n",
       "      <td>1123.000000</td>\n",
       "      <td>18.500000</td>\n",
       "      <td>633.000000</td>\n",
       "      <td>146.000000</td>\n",
       "      <td>10.935000</td>\n",
       "    </tr>\n",
       "    <tr>\n",
       "      <th>50%</th>\n",
       "      <td>2.150000</td>\n",
       "      <td>71.320000</td>\n",
       "      <td>3.620000</td>\n",
       "      <td>5020.000000</td>\n",
       "      <td>432.000000</td>\n",
       "      <td>6.890000</td>\n",
       "      <td>5068.000000</td>\n",
       "      <td>108.000000</td>\n",
       "      <td>3016.000000</td>\n",
       "      <td>1647.000000</td>\n",
       "      <td>26.250000</td>\n",
       "    </tr>\n",
       "    <tr>\n",
       "      <th>75%</th>\n",
       "      <td>3.875000</td>\n",
       "      <td>86.885000</td>\n",
       "      <td>6.440000</td>\n",
       "      <td>37080.500000</td>\n",
       "      <td>3172.000000</td>\n",
       "      <td>16.855000</td>\n",
       "      <td>41017.000000</td>\n",
       "      <td>742.000000</td>\n",
       "      <td>22849.000000</td>\n",
       "      <td>10419.750000</td>\n",
       "      <td>48.085000</td>\n",
       "    </tr>\n",
       "    <tr>\n",
       "      <th>max</th>\n",
       "      <td>8.270000</td>\n",
       "      <td>100.000000</td>\n",
       "      <td>13.925000</td>\n",
       "      <td>91124.000000</td>\n",
       "      <td>7856.500000</td>\n",
       "      <td>37.975000</td>\n",
       "      <td>100523.000000</td>\n",
       "      <td>1822.250000</td>\n",
       "      <td>56127.750000</td>\n",
       "      <td>98344.000000</td>\n",
       "      <td>100.000000</td>\n",
       "    </tr>\n",
       "  </tbody>\n",
       "</table>\n",
       "</div>"
      ],
      "text/plain": [
       "       Deaths / 100 Cases  Recovered / 100 Cases  Deaths / 100 Recovered  \\\n",
       "count          187.000000             187.000000              187.000000   \n",
       "mean             2.697005              64.820535                4.768289   \n",
       "std              2.255514              26.287694                4.249337   \n",
       "min              0.000000               0.000000                0.000000   \n",
       "25%              0.945000              48.770000                1.450000   \n",
       "50%              2.150000              71.320000                3.620000   \n",
       "75%              3.875000              86.885000                6.440000   \n",
       "max              8.270000             100.000000               13.925000   \n",
       "\n",
       "       Confirmed last week  1 week change  1 week % increase    Total cases  \\\n",
       "count           187.000000     187.000000         187.000000     187.000000   \n",
       "mean          23604.331551    2022.804813          11.167340   26208.683155   \n",
       "std           32536.210181    2773.893022          10.918431   35786.844542   \n",
       "min              10.000000     -24.500000          -1.387500      10.000000   \n",
       "25%            1051.500000      49.000000           2.775000    1123.000000   \n",
       "50%            5020.000000     432.000000           6.890000    5068.000000   \n",
       "75%           37080.500000    3172.000000          16.855000   41017.000000   \n",
       "max           91124.000000    7856.500000          37.975000  100523.000000   \n",
       "\n",
       "       Total deaths  Total recovered  Total active  Active / 100 Cases  \n",
       "count    187.000000       187.000000    187.000000          187.000000  \n",
       "mean     513.974599     14277.367647  11417.340909           32.482460  \n",
       "std      704.750409     20001.296949  18976.878127           26.042935  \n",
       "min        0.000000         0.000000      0.000000            0.000000  \n",
       "25%       18.500000       633.000000    146.000000           10.935000  \n",
       "50%      108.000000      3016.000000   1647.000000           26.250000  \n",
       "75%      742.000000     22849.000000  10419.750000           48.085000  \n",
       "max     1822.250000     56127.750000  98344.000000          100.000000  "
      ]
     },
     "execution_count": 61,
     "metadata": {},
     "output_type": "execute_result"
    }
   ],
   "source": [
    "country_wise_df[['Deaths / 100 Cases','Recovered / 100 Cases', 'Deaths / 100 Recovered','Confirmed last week', '1 week change', '1 week % increase', 'Total cases', 'Total deaths', 'Total recovered','Total active', 'Active / 100 Cases']].describe()"
   ]
  },
  {
   "cell_type": "markdown",
   "metadata": {},
   "source": [
    "## Plotting"
   ]
  },
  {
   "cell_type": "code",
   "execution_count": 64,
   "metadata": {},
   "outputs": [
    {
     "data": {
      "image/png": "[encoded data removed]",
      "text/plain": [
       "<Figure size 640x480 with 4 Axes>"
      ]
     },
     "metadata": {},
     "output_type": "display_data"
    }
   ],
   "source": [
    "plt.subplot(3,3,1)\n",
    "plt.barh(who_reg_val,country_wise_df.groupby('WHO Region')['Total deaths'].mean(),color = 'green')\n",
    "plt.title('Mean of Total deaths')\n",
    "\n",
    "plt.subplot(3,3,3)\n",
    "plt.barh(who_reg_val,country_wise_df.groupby('WHO Region')['Total recovered'].mean(),color = 'green')\n",
    "plt.title('Mean of Total recovered')\n",
    "\n",
    "plt.subplot(3,3,7)\n",
    "plt.barh(who_reg_val,country_wise_df.groupby('WHO Region')['Total active'].mean(),color = 'green')\n",
    "plt.title('Mean of Total active')\n",
    "\n",
    "plt.subplot(3,3,9)\n",
    "plt.barh(who_reg_val,country_wise_df.groupby('WHO Region')['Total cases'].mean(),color = 'green')\n",
    "plt.title('Mean of Total cases')\n",
    "\n",
    "plt.show()"
   ]
  },
  {
   "cell_type": "markdown",
   "metadata": {},
   "source": [
    "####  From previous calculations we will find out that highest WHO Region in \n",
    "\n",
    "##### 'Total cases' of Covid 19\n",
    "1. Africa\n",
    "2. Europe\n",
    "#####  'Total active'\n",
    "1. Europe\n",
    "2. Africa\n",
    "##### 'Total recovered'\n",
    "1. Europe\n",
    "2. Western Pacific\n",
    "##### 'Total deaths'\n",
    "1. Europe\n",
    "2. Americans"
   ]
  },
  {
   "cell_type": "code",
   "execution_count": 67,
   "metadata": {},
   "outputs": [
    {
     "data": {
      "text/plain": [
       "['Zimbabwe', 'Venezuela', 'Yemen', 'Uzbekistan', 'Timor-Leste', 'Vietnam']"
      ]
     },
     "execution_count": 67,
     "metadata": {},
     "output_type": "execute_result"
    }
   ],
   "source": [
    "#countries =  max_countries_in_active_in_each_who_region.loc[:,'Total recovered']\n",
    "countries = list(x for x in max_countries_in_active_in_each_who_region[\"Total recovered\"])\n",
    "countries"
   ]
  },
  {
   "cell_type": "code",
   "execution_count": 69,
   "metadata": {},
   "outputs": [],
   "source": [
    "y = country_wise_df[ country_wise_df['Country/Region'].isin(countries)]"
   ]
  },
  {
   "cell_type": "code",
   "execution_count": 71,
   "metadata": {},
   "outputs": [
    {
     "data": {
      "image/png": "[encoded data removed]",
      "text/plain": [
       "<Figure size 640x480 with 1 Axes>"
      ]
     },
     "metadata": {},
     "output_type": "display_data"
    }
   ],
   "source": [
    "plt.barh(countries, y['Total recovered'])\n",
    "plt.show()"
   ]
  },
  {
   "cell_type": "code",
   "execution_count": 73,
   "metadata": {},
   "outputs": [
    {
     "data": {
      "image/png": "[encoded data removed]",
      "text/plain": [
       "<Figure size 640x480 with 1 Axes>"
      ]
     },
     "metadata": {},
     "output_type": "display_data"
    }
   ],
   "source": [
    "plt.barh(countries, y['Total cases'])\n",
    "plt.show()"
   ]
  },
  {
   "cell_type": "code",
   "execution_count": 75,
   "metadata": {},
   "outputs": [
    {
     "data": {
      "image/png": "[encoded data removed]",
      "text/plain": [
       "<Figure size 640x480 with 1 Axes>"
      ]
     },
     "metadata": {},
     "output_type": "display_data"
    }
   ],
   "source": [
    "plt.barh(countries, y['Total deaths'])\n",
    "plt.show()"
   ]
  },
  {
   "cell_type": "code",
   "execution_count": 77,
   "metadata": {},
   "outputs": [
    {
     "data": {
      "image/png": "[encoded data removed]",
      "text/plain": [
       "<Figure size 640x480 with 1 Axes>"
      ]
     },
     "metadata": {},
     "output_type": "display_data"
    }
   ],
   "source": [
    "plt.barh(countries, y['Total active'])\n",
    "plt.show()"
   ]
  },
  {
   "cell_type": "markdown",
   "metadata": {},
   "source": [
    "#### From the previous analysis we get that for each WHO region has x countries and for the maximum value in each one:\n",
    "##### for total recovered column\n",
    "1. Venezuela\n",
    "2. Yemen\n",
    "3. Timor-Leste\n",
    "4. Vietnam\n",
    "5. Uzbekistan\n",
    "6. Zimbabwe\n",
    "##### for total cases column\n",
    "1. Venezuela\n",
    "2. Yemen\n",
    "3. Vietnam\n",
    "4. Timor-Leste\n",
    "5. Uzbekistan\n",
    "6. Zimbabwe\n",
    "##### for Total deaths column\n",
    "1. Timor-Leste\n",
    "2. Yemen\n",
    "3. Venezuela\n",
    "4. Vietnam\n",
    "5. Uzbekistan\n",
    "6. Zimbabwe\n",
    "##### for active column\n",
    "1. Venezuela\n",
    "2. Yemen\n",
    "3. Vietnam\n",
    "4. Timor-Leste\n",
    "5. Uzbekistan\n",
    "6. Zimbabwe\r\n"
   ]
  },
  {
   "cell_type": "code",
   "execution_count": 3,
   "metadata": {},
   "outputs": [],
   "source": [
    "covid_19_clean_complete_df = pd.read_csv(\"covid_19_clean_complete.csv\")"
   ]
  },
  {
   "cell_type": "code",
   "execution_count": 5,
   "metadata": {},
   "outputs": [
    {
     "data": {
      "text/plain": [
       "Index(['Province/State', 'Country/Region', 'Lat', 'Long', 'Date', 'Confirmed',\n",
       "       'Deaths', 'Recovered', 'Active', 'WHO Region'],\n",
       "      dtype='object')"
      ]
     },
     "execution_count": 5,
     "metadata": {},
     "output_type": "execute_result"
    }
   ],
   "source": [
    "covid_19_clean_complete_df.columns"
   ]
  },
  {
   "cell_type": "code",
   "execution_count": 7,
   "metadata": {},
   "outputs": [
    {
     "name": "stdout",
     "output_type": "stream",
     "text": [
      "<class 'pandas.core.frame.DataFrame'>\n",
      "RangeIndex: 49068 entries, 0 to 49067\n",
      "Data columns (total 10 columns):\n",
      " #   Column          Non-Null Count  Dtype  \n",
      "---  ------          --------------  -----  \n",
      " 0   Province/State  14664 non-null  object \n",
      " 1   Country/Region  49068 non-null  object \n",
      " 2   Lat             49068 non-null  float64\n",
      " 3   Long            49068 non-null  float64\n",
      " 4   Date            49068 non-null  object \n",
      " 5   Confirmed       49068 non-null  int64  \n",
      " 6   Deaths          49068 non-null  int64  \n",
      " 7   Recovered       49068 non-null  int64  \n",
      " 8   Active          49068 non-null  int64  \n",
      " 9   WHO Region      49068 non-null  object \n",
      "dtypes: float64(2), int64(4), object(4)\n",
      "memory usage: 3.7+ MB\n"
     ]
    }
   ],
   "source": [
    "covid_19_clean_complete_df.info()"
   ]
  },
  {
   "cell_type": "code",
   "execution_count": 9,
   "metadata": {},
   "outputs": [
    {
     "data": {
      "text/plain": [
       "29.88505747126437"
      ]
     },
     "execution_count": 9,
     "metadata": {},
     "output_type": "execute_result"
    }
   ],
   "source": [
    "row = covid_19_clean_complete_df.shape[0]\n",
    "nu = covid_19_clean_complete_df['Province/State'].isnull().sum()\n",
    "non_null = row - nu\n",
    "percent_state = (non_null / row) * 100\n",
    "percent_state"
   ]
  },
  {
   "cell_type": "markdown",
   "metadata": {},
   "source": [
    "As the percentage of column Province/State is 29% then it is best to drop the column"
   ]
  },
  {
   "cell_type": "code",
   "execution_count": 12,
   "metadata": {},
   "outputs": [],
   "source": [
    "covid_19_clean_complete_df = covid_19_clean_complete_df.drop(columns = ['Province/State'])"
   ]
  },
  {
   "cell_type": "code",
   "execution_count": 14,
   "metadata": {},
   "outputs": [
    {
     "data": {
      "text/plain": [
       "Index(['Country/Region', 'Lat', 'Long', 'Date', 'Confirmed', 'Deaths',\n",
       "       'Recovered', 'Active', 'WHO Region'],\n",
       "      dtype='object')"
      ]
     },
     "execution_count": 14,
     "metadata": {},
     "output_type": "execute_result"
    }
   ],
   "source": [
    "covid_19_clean_complete_df.columns"
   ]
  },
  {
   "cell_type": "code",
   "execution_count": 30,
   "metadata": {},
   "outputs": [
    {
     "data": {
      "text/html": [
       "<div>\n",
       "<style scoped>\n",
       "    .dataframe tbody tr th:only-of-type {\n",
       "        vertical-align: middle;\n",
       "    }\n",
       "\n",
       "    .dataframe tbody tr th {\n",
       "        vertical-align: top;\n",
       "    }\n",
       "\n",
       "    .dataframe thead th {\n",
       "        text-align: right;\n",
       "    }\n",
       "</style>\n",
       "<table border=\"1\" class=\"dataframe\">\n",
       "  <thead>\n",
       "    <tr style=\"text-align: right;\">\n",
       "      <th></th>\n",
       "      <th>Country/Region</th>\n",
       "      <th>Lat</th>\n",
       "      <th>Long</th>\n",
       "      <th>Date</th>\n",
       "      <th>Confirmed</th>\n",
       "      <th>Deaths</th>\n",
       "      <th>Recovered</th>\n",
       "      <th>Active</th>\n",
       "      <th>WHO Region</th>\n",
       "      <th>Month</th>\n",
       "      <th>Day</th>\n",
       "    </tr>\n",
       "  </thead>\n",
       "  <tbody>\n",
       "    <tr>\n",
       "      <th>0</th>\n",
       "      <td>Afghanistan</td>\n",
       "      <td>33.93911</td>\n",
       "      <td>67.709953</td>\n",
       "      <td>2020-01-22</td>\n",
       "      <td>0</td>\n",
       "      <td>0</td>\n",
       "      <td>0</td>\n",
       "      <td>0</td>\n",
       "      <td>Eastern Mediterranean</td>\n",
       "      <td>1</td>\n",
       "      <td>22</td>\n",
       "    </tr>\n",
       "    <tr>\n",
       "      <th>1</th>\n",
       "      <td>Albania</td>\n",
       "      <td>41.15330</td>\n",
       "      <td>20.168300</td>\n",
       "      <td>2020-01-22</td>\n",
       "      <td>0</td>\n",
       "      <td>0</td>\n",
       "      <td>0</td>\n",
       "      <td>0</td>\n",
       "      <td>Europe</td>\n",
       "      <td>1</td>\n",
       "      <td>22</td>\n",
       "    </tr>\n",
       "    <tr>\n",
       "      <th>2</th>\n",
       "      <td>Algeria</td>\n",
       "      <td>28.03390</td>\n",
       "      <td>1.659600</td>\n",
       "      <td>2020-01-22</td>\n",
       "      <td>0</td>\n",
       "      <td>0</td>\n",
       "      <td>0</td>\n",
       "      <td>0</td>\n",
       "      <td>Africa</td>\n",
       "      <td>1</td>\n",
       "      <td>22</td>\n",
       "    </tr>\n",
       "    <tr>\n",
       "      <th>3</th>\n",
       "      <td>Andorra</td>\n",
       "      <td>42.50630</td>\n",
       "      <td>1.521800</td>\n",
       "      <td>2020-01-22</td>\n",
       "      <td>0</td>\n",
       "      <td>0</td>\n",
       "      <td>0</td>\n",
       "      <td>0</td>\n",
       "      <td>Europe</td>\n",
       "      <td>1</td>\n",
       "      <td>22</td>\n",
       "    </tr>\n",
       "    <tr>\n",
       "      <th>4</th>\n",
       "      <td>Angola</td>\n",
       "      <td>-11.20270</td>\n",
       "      <td>17.873900</td>\n",
       "      <td>2020-01-22</td>\n",
       "      <td>0</td>\n",
       "      <td>0</td>\n",
       "      <td>0</td>\n",
       "      <td>0</td>\n",
       "      <td>Africa</td>\n",
       "      <td>1</td>\n",
       "      <td>22</td>\n",
       "    </tr>\n",
       "  </tbody>\n",
       "</table>\n",
       "</div>"
      ],
      "text/plain": [
       "  Country/Region       Lat       Long       Date  Confirmed  Deaths  \\\n",
       "0    Afghanistan  33.93911  67.709953 2020-01-22          0       0   \n",
       "1        Albania  41.15330  20.168300 2020-01-22          0       0   \n",
       "2        Algeria  28.03390   1.659600 2020-01-22          0       0   \n",
       "3        Andorra  42.50630   1.521800 2020-01-22          0       0   \n",
       "4         Angola -11.20270  17.873900 2020-01-22          0       0   \n",
       "\n",
       "   Recovered  Active             WHO Region  Month  Day  \n",
       "0          0       0  Eastern Mediterranean      1   22  \n",
       "1          0       0                 Europe      1   22  \n",
       "2          0       0                 Africa      1   22  \n",
       "3          0       0                 Europe      1   22  \n",
       "4          0       0                 Africa      1   22  "
      ]
     },
     "execution_count": 30,
     "metadata": {},
     "output_type": "execute_result"
    }
   ],
   "source": [
    "covid_19_clean_complete_df.head()"
   ]
  },
  {
   "cell_type": "code",
   "execution_count": 18,
   "metadata": {},
   "outputs": [
    {
     "data": {
      "text/html": [
       "<div>\n",
       "<style scoped>\n",
       "    .dataframe tbody tr th:only-of-type {\n",
       "        vertical-align: middle;\n",
       "    }\n",
       "\n",
       "    .dataframe tbody tr th {\n",
       "        vertical-align: top;\n",
       "    }\n",
       "\n",
       "    .dataframe thead th {\n",
       "        text-align: right;\n",
       "    }\n",
       "</style>\n",
       "<table border=\"1\" class=\"dataframe\">\n",
       "  <thead>\n",
       "    <tr style=\"text-align: right;\">\n",
       "      <th></th>\n",
       "      <th>Country/Region</th>\n",
       "      <th>Lat</th>\n",
       "      <th>Long</th>\n",
       "      <th>Date</th>\n",
       "      <th>Confirmed</th>\n",
       "      <th>Deaths</th>\n",
       "      <th>Recovered</th>\n",
       "      <th>Active</th>\n",
       "      <th>WHO Region</th>\n",
       "    </tr>\n",
       "  </thead>\n",
       "  <tbody>\n",
       "    <tr>\n",
       "      <th>49063</th>\n",
       "      <td>Sao Tome and Principe</td>\n",
       "      <td>0.186400</td>\n",
       "      <td>6.613100</td>\n",
       "      <td>2020-07-27</td>\n",
       "      <td>865</td>\n",
       "      <td>14</td>\n",
       "      <td>734</td>\n",
       "      <td>117</td>\n",
       "      <td>Africa</td>\n",
       "    </tr>\n",
       "    <tr>\n",
       "      <th>49064</th>\n",
       "      <td>Yemen</td>\n",
       "      <td>15.552727</td>\n",
       "      <td>48.516388</td>\n",
       "      <td>2020-07-27</td>\n",
       "      <td>1691</td>\n",
       "      <td>483</td>\n",
       "      <td>833</td>\n",
       "      <td>375</td>\n",
       "      <td>Eastern Mediterranean</td>\n",
       "    </tr>\n",
       "    <tr>\n",
       "      <th>49065</th>\n",
       "      <td>Comoros</td>\n",
       "      <td>-11.645500</td>\n",
       "      <td>43.333300</td>\n",
       "      <td>2020-07-27</td>\n",
       "      <td>354</td>\n",
       "      <td>7</td>\n",
       "      <td>328</td>\n",
       "      <td>19</td>\n",
       "      <td>Africa</td>\n",
       "    </tr>\n",
       "    <tr>\n",
       "      <th>49066</th>\n",
       "      <td>Tajikistan</td>\n",
       "      <td>38.861000</td>\n",
       "      <td>71.276100</td>\n",
       "      <td>2020-07-27</td>\n",
       "      <td>7235</td>\n",
       "      <td>60</td>\n",
       "      <td>6028</td>\n",
       "      <td>1147</td>\n",
       "      <td>Europe</td>\n",
       "    </tr>\n",
       "    <tr>\n",
       "      <th>49067</th>\n",
       "      <td>Lesotho</td>\n",
       "      <td>-29.610000</td>\n",
       "      <td>28.233600</td>\n",
       "      <td>2020-07-27</td>\n",
       "      <td>505</td>\n",
       "      <td>12</td>\n",
       "      <td>128</td>\n",
       "      <td>365</td>\n",
       "      <td>Africa</td>\n",
       "    </tr>\n",
       "  </tbody>\n",
       "</table>\n",
       "</div>"
      ],
      "text/plain": [
       "              Country/Region        Lat       Long        Date  Confirmed  \\\n",
       "49063  Sao Tome and Principe   0.186400   6.613100  2020-07-27        865   \n",
       "49064                  Yemen  15.552727  48.516388  2020-07-27       1691   \n",
       "49065                Comoros -11.645500  43.333300  2020-07-27        354   \n",
       "49066             Tajikistan  38.861000  71.276100  2020-07-27       7235   \n",
       "49067                Lesotho -29.610000  28.233600  2020-07-27        505   \n",
       "\n",
       "       Deaths  Recovered  Active             WHO Region  \n",
       "49063      14        734     117                 Africa  \n",
       "49064     483        833     375  Eastern Mediterranean  \n",
       "49065       7        328      19                 Africa  \n",
       "49066      60       6028    1147                 Europe  \n",
       "49067      12        128     365                 Africa  "
      ]
     },
     "execution_count": 18,
     "metadata": {},
     "output_type": "execute_result"
    }
   ],
   "source": [
    "covid_19_clean_complete_df.tail()"
   ]
  },
  {
   "cell_type": "code",
   "execution_count": 20,
   "metadata": {},
   "outputs": [],
   "source": [
    "covid_19_clean_complete_df['Date'] = pd.to_datetime(covid_19_clean_complete_df['Date'])"
   ]
  },
  {
   "cell_type": "code",
   "execution_count": 22,
   "metadata": {},
   "outputs": [
    {
     "name": "stdout",
     "output_type": "stream",
     "text": [
      "<class 'pandas.core.frame.DataFrame'>\n",
      "RangeIndex: 49068 entries, 0 to 49067\n",
      "Data columns (total 9 columns):\n",
      " #   Column          Non-Null Count  Dtype         \n",
      "---  ------          --------------  -----         \n",
      " 0   Country/Region  49068 non-null  object        \n",
      " 1   Lat             49068 non-null  float64       \n",
      " 2   Long            49068 non-null  float64       \n",
      " 3   Date            49068 non-null  datetime64[ns]\n",
      " 4   Confirmed       49068 non-null  int64         \n",
      " 5   Deaths          49068 non-null  int64         \n",
      " 6   Recovered       49068 non-null  int64         \n",
      " 7   Active          49068 non-null  int64         \n",
      " 8   WHO Region      49068 non-null  object        \n",
      "dtypes: datetime64[ns](1), float64(2), int64(4), object(2)\n",
      "memory usage: 3.4+ MB\n"
     ]
    }
   ],
   "source": [
    "covid_19_clean_complete_df.info()"
   ]
  },
  {
   "cell_type": "code",
   "execution_count": 24,
   "metadata": {},
   "outputs": [],
   "source": [
    "covid_19_clean_complete_df['Month'] =  covid_19_clean_complete_df['Date'].dt.month"
   ]
  },
  {
   "cell_type": "code",
   "execution_count": 26,
   "metadata": {},
   "outputs": [],
   "source": [
    "covid_19_clean_complete_df['Day'] =  covid_19_clean_complete_df['Date'].dt.day"
   ]
  },
  {
   "cell_type": "code",
   "execution_count": 28,
   "metadata": {},
   "outputs": [
    {
     "data": {
      "text/html": [
       "<div>\n",
       "<style scoped>\n",
       "    .dataframe tbody tr th:only-of-type {\n",
       "        vertical-align: middle;\n",
       "    }\n",
       "\n",
       "    .dataframe tbody tr th {\n",
       "        vertical-align: top;\n",
       "    }\n",
       "\n",
       "    .dataframe thead th {\n",
       "        text-align: right;\n",
       "    }\n",
       "</style>\n",
       "<table border=\"1\" class=\"dataframe\">\n",
       "  <thead>\n",
       "    <tr style=\"text-align: right;\">\n",
       "      <th></th>\n",
       "      <th>Country/Region</th>\n",
       "      <th>Lat</th>\n",
       "      <th>Long</th>\n",
       "      <th>Date</th>\n",
       "      <th>Confirmed</th>\n",
       "      <th>Deaths</th>\n",
       "      <th>Recovered</th>\n",
       "      <th>Active</th>\n",
       "      <th>WHO Region</th>\n",
       "      <th>Month</th>\n",
       "      <th>Day</th>\n",
       "    </tr>\n",
       "  </thead>\n",
       "  <tbody>\n",
       "    <tr>\n",
       "      <th>0</th>\n",
       "      <td>Afghanistan</td>\n",
       "      <td>33.93911</td>\n",
       "      <td>67.709953</td>\n",
       "      <td>2020-01-22</td>\n",
       "      <td>0</td>\n",
       "      <td>0</td>\n",
       "      <td>0</td>\n",
       "      <td>0</td>\n",
       "      <td>Eastern Mediterranean</td>\n",
       "      <td>1</td>\n",
       "      <td>22</td>\n",
       "    </tr>\n",
       "    <tr>\n",
       "      <th>1</th>\n",
       "      <td>Albania</td>\n",
       "      <td>41.15330</td>\n",
       "      <td>20.168300</td>\n",
       "      <td>2020-01-22</td>\n",
       "      <td>0</td>\n",
       "      <td>0</td>\n",
       "      <td>0</td>\n",
       "      <td>0</td>\n",
       "      <td>Europe</td>\n",
       "      <td>1</td>\n",
       "      <td>22</td>\n",
       "    </tr>\n",
       "    <tr>\n",
       "      <th>2</th>\n",
       "      <td>Algeria</td>\n",
       "      <td>28.03390</td>\n",
       "      <td>1.659600</td>\n",
       "      <td>2020-01-22</td>\n",
       "      <td>0</td>\n",
       "      <td>0</td>\n",
       "      <td>0</td>\n",
       "      <td>0</td>\n",
       "      <td>Africa</td>\n",
       "      <td>1</td>\n",
       "      <td>22</td>\n",
       "    </tr>\n",
       "    <tr>\n",
       "      <th>3</th>\n",
       "      <td>Andorra</td>\n",
       "      <td>42.50630</td>\n",
       "      <td>1.521800</td>\n",
       "      <td>2020-01-22</td>\n",
       "      <td>0</td>\n",
       "      <td>0</td>\n",
       "      <td>0</td>\n",
       "      <td>0</td>\n",
       "      <td>Europe</td>\n",
       "      <td>1</td>\n",
       "      <td>22</td>\n",
       "    </tr>\n",
       "    <tr>\n",
       "      <th>4</th>\n",
       "      <td>Angola</td>\n",
       "      <td>-11.20270</td>\n",
       "      <td>17.873900</td>\n",
       "      <td>2020-01-22</td>\n",
       "      <td>0</td>\n",
       "      <td>0</td>\n",
       "      <td>0</td>\n",
       "      <td>0</td>\n",
       "      <td>Africa</td>\n",
       "      <td>1</td>\n",
       "      <td>22</td>\n",
       "    </tr>\n",
       "  </tbody>\n",
       "</table>\n",
       "</div>"
      ],
      "text/plain": [
       "  Country/Region       Lat       Long       Date  Confirmed  Deaths  \\\n",
       "0    Afghanistan  33.93911  67.709953 2020-01-22          0       0   \n",
       "1        Albania  41.15330  20.168300 2020-01-22          0       0   \n",
       "2        Algeria  28.03390   1.659600 2020-01-22          0       0   \n",
       "3        Andorra  42.50630   1.521800 2020-01-22          0       0   \n",
       "4         Angola -11.20270  17.873900 2020-01-22          0       0   \n",
       "\n",
       "   Recovered  Active             WHO Region  Month  Day  \n",
       "0          0       0  Eastern Mediterranean      1   22  \n",
       "1          0       0                 Europe      1   22  \n",
       "2          0       0                 Africa      1   22  \n",
       "3          0       0                 Europe      1   22  \n",
       "4          0       0                 Africa      1   22  "
      ]
     },
     "execution_count": 28,
     "metadata": {},
     "output_type": "execute_result"
    }
   ],
   "source": [
    "covid_19_clean_complete_df.head()"
   ]
  },
  {
   "cell_type": "code",
   "execution_count": 32,
   "metadata": {},
   "outputs": [
    {
     "data": {
      "text/html": [
       "<div>\n",
       "<style scoped>\n",
       "    .dataframe tbody tr th:only-of-type {\n",
       "        vertical-align: middle;\n",
       "    }\n",
       "\n",
       "    .dataframe tbody tr th {\n",
       "        vertical-align: top;\n",
       "    }\n",
       "\n",
       "    .dataframe thead th {\n",
       "        text-align: right;\n",
       "    }\n",
       "</style>\n",
       "<table border=\"1\" class=\"dataframe\">\n",
       "  <thead>\n",
       "    <tr style=\"text-align: right;\">\n",
       "      <th></th>\n",
       "      <th>Lat</th>\n",
       "      <th>Long</th>\n",
       "      <th>Date</th>\n",
       "      <th>Confirmed</th>\n",
       "      <th>Deaths</th>\n",
       "      <th>Recovered</th>\n",
       "      <th>Active</th>\n",
       "      <th>Month</th>\n",
       "      <th>Day</th>\n",
       "    </tr>\n",
       "  </thead>\n",
       "  <tbody>\n",
       "    <tr>\n",
       "      <th>count</th>\n",
       "      <td>49068.000000</td>\n",
       "      <td>49068.000000</td>\n",
       "      <td>49068</td>\n",
       "      <td>4.906800e+04</td>\n",
       "      <td>49068.000000</td>\n",
       "      <td>4.906800e+04</td>\n",
       "      <td>4.906800e+04</td>\n",
       "      <td>49068.000000</td>\n",
       "      <td>49068.000000</td>\n",
       "    </tr>\n",
       "    <tr>\n",
       "      <th>mean</th>\n",
       "      <td>21.433730</td>\n",
       "      <td>23.528236</td>\n",
       "      <td>2020-04-24 12:00:00</td>\n",
       "      <td>1.688490e+04</td>\n",
       "      <td>884.179160</td>\n",
       "      <td>7.915713e+03</td>\n",
       "      <td>8.085012e+03</td>\n",
       "      <td>4.281915</td>\n",
       "      <td>15.957447</td>\n",
       "    </tr>\n",
       "    <tr>\n",
       "      <th>min</th>\n",
       "      <td>-51.796300</td>\n",
       "      <td>-135.000000</td>\n",
       "      <td>2020-01-22 00:00:00</td>\n",
       "      <td>0.000000e+00</td>\n",
       "      <td>0.000000</td>\n",
       "      <td>0.000000e+00</td>\n",
       "      <td>-1.400000e+01</td>\n",
       "      <td>1.000000</td>\n",
       "      <td>1.000000</td>\n",
       "    </tr>\n",
       "    <tr>\n",
       "      <th>25%</th>\n",
       "      <td>7.873054</td>\n",
       "      <td>-15.310100</td>\n",
       "      <td>2020-03-08 18:00:00</td>\n",
       "      <td>4.000000e+00</td>\n",
       "      <td>0.000000</td>\n",
       "      <td>0.000000e+00</td>\n",
       "      <td>0.000000e+00</td>\n",
       "      <td>3.000000</td>\n",
       "      <td>8.000000</td>\n",
       "    </tr>\n",
       "    <tr>\n",
       "      <th>50%</th>\n",
       "      <td>23.634500</td>\n",
       "      <td>21.745300</td>\n",
       "      <td>2020-04-24 12:00:00</td>\n",
       "      <td>1.680000e+02</td>\n",
       "      <td>2.000000</td>\n",
       "      <td>2.900000e+01</td>\n",
       "      <td>2.600000e+01</td>\n",
       "      <td>4.000000</td>\n",
       "      <td>16.000000</td>\n",
       "    </tr>\n",
       "    <tr>\n",
       "      <th>75%</th>\n",
       "      <td>41.204380</td>\n",
       "      <td>80.771797</td>\n",
       "      <td>2020-06-10 06:00:00</td>\n",
       "      <td>1.518250e+03</td>\n",
       "      <td>30.000000</td>\n",
       "      <td>6.660000e+02</td>\n",
       "      <td>6.060000e+02</td>\n",
       "      <td>6.000000</td>\n",
       "      <td>24.000000</td>\n",
       "    </tr>\n",
       "    <tr>\n",
       "      <th>max</th>\n",
       "      <td>71.706900</td>\n",
       "      <td>178.065000</td>\n",
       "      <td>2020-07-27 00:00:00</td>\n",
       "      <td>4.290259e+06</td>\n",
       "      <td>148011.000000</td>\n",
       "      <td>1.846641e+06</td>\n",
       "      <td>2.816444e+06</td>\n",
       "      <td>7.000000</td>\n",
       "      <td>31.000000</td>\n",
       "    </tr>\n",
       "    <tr>\n",
       "      <th>std</th>\n",
       "      <td>24.950320</td>\n",
       "      <td>70.442740</td>\n",
       "      <td>NaN</td>\n",
       "      <td>1.273002e+05</td>\n",
       "      <td>6313.584411</td>\n",
       "      <td>5.480092e+04</td>\n",
       "      <td>7.625890e+04</td>\n",
       "      <td>1.810241</td>\n",
       "      <td>8.770100</td>\n",
       "    </tr>\n",
       "  </tbody>\n",
       "</table>\n",
       "</div>"
      ],
      "text/plain": [
       "                Lat          Long                 Date     Confirmed  \\\n",
       "count  49068.000000  49068.000000                49068  4.906800e+04   \n",
       "mean      21.433730     23.528236  2020-04-24 12:00:00  1.688490e+04   \n",
       "min      -51.796300   -135.000000  2020-01-22 00:00:00  0.000000e+00   \n",
       "25%        7.873054    -15.310100  2020-03-08 18:00:00  4.000000e+00   \n",
       "50%       23.634500     21.745300  2020-04-24 12:00:00  1.680000e+02   \n",
       "75%       41.204380     80.771797  2020-06-10 06:00:00  1.518250e+03   \n",
       "max       71.706900    178.065000  2020-07-27 00:00:00  4.290259e+06   \n",
       "std       24.950320     70.442740                  NaN  1.273002e+05   \n",
       "\n",
       "              Deaths     Recovered        Active         Month           Day  \n",
       "count   49068.000000  4.906800e+04  4.906800e+04  49068.000000  49068.000000  \n",
       "mean      884.179160  7.915713e+03  8.085012e+03      4.281915     15.957447  \n",
       "min         0.000000  0.000000e+00 -1.400000e+01      1.000000      1.000000  \n",
       "25%         0.000000  0.000000e+00  0.000000e+00      3.000000      8.000000  \n",
       "50%         2.000000  2.900000e+01  2.600000e+01      4.000000     16.000000  \n",
       "75%        30.000000  6.660000e+02  6.060000e+02      6.000000     24.000000  \n",
       "max    148011.000000  1.846641e+06  2.816444e+06      7.000000     31.000000  \n",
       "std      6313.584411  5.480092e+04  7.625890e+04      1.810241      8.770100  "
      ]
     },
     "execution_count": 32,
     "metadata": {},
     "output_type": "execute_result"
    }
   ],
   "source": [
    "covid_19_clean_complete_df.describe()"
   ]
  },
  {
   "cell_type": "markdown",
   "metadata": {},
   "source": [
    "Plotting"
   ]
  },
  {
   "cell_type": "code",
   "execution_count": null,
   "metadata": {},
   "outputs": [],
   "source": [
    "# Ploting after handling outliers\n",
    "plt.subplot(2,2,1)\n",
    "sns.boxplot(data= covid_19_clean_complete_df[col[0]])\n",
    "\n",
    "plt.subplot(2,2,2)\n",
    "sns.boxplot(data= covid_19_clean_complete_df[col[1]])\n",
    "\n",
    "plt.subplot(2,2,3)\n",
    "sns.boxplot(data= covid_19_clean_complete_df[col[2]])\n",
    "\n",
    "plt.subplot(2,2,4)\n",
    "sns.boxplot(data= covid_19_clean_complete_df[col[3]])\n",
    "plt.show()"
   ]
  },
  {
   "cell_type": "code",
   "execution_count": 7,
   "metadata": {},
   "outputs": [],
   "source": [
    "day_wise_df = pd.read_csv('day_wise.csv')"
   ]
  },
  {
   "cell_type": "code",
   "execution_count": 9,
   "metadata": {},
   "outputs": [
    {
     "name": "stdout",
     "output_type": "stream",
     "text": [
      "<class 'pandas.core.frame.DataFrame'>\n",
      "RangeIndex: 188 entries, 0 to 187\n",
      "Data columns (total 12 columns):\n",
      " #   Column                  Non-Null Count  Dtype  \n",
      "---  ------                  --------------  -----  \n",
      " 0   Date                    188 non-null    object \n",
      " 1   Confirmed               188 non-null    int64  \n",
      " 2   Deaths                  188 non-null    int64  \n",
      " 3   Recovered               188 non-null    int64  \n",
      " 4   Active                  188 non-null    int64  \n",
      " 5   New cases               188 non-null    int64  \n",
      " 6   New deaths              188 non-null    int64  \n",
      " 7   New recovered           188 non-null    int64  \n",
      " 8   Deaths / 100 Cases      188 non-null    float64\n",
      " 9   Recovered / 100 Cases   188 non-null    float64\n",
      " 10  Deaths / 100 Recovered  188 non-null    float64\n",
      " 11  No. of countries        188 non-null    int64  \n",
      "dtypes: float64(3), int64(8), object(1)\n",
      "memory usage: 17.8+ KB\n"
     ]
    }
   ],
   "source": [
    "day_wise_df.info()"
   ]
  },
  {
   "cell_type": "code",
   "execution_count": 11,
   "metadata": {},
   "outputs": [],
   "source": [
    "day_wise_df['Date'] = pd.to_datetime(day_wise_df['Date'])"
   ]
  },
  {
   "cell_type": "code",
   "execution_count": 13,
   "metadata": {
    "scrolled": true
   },
   "outputs": [
    {
     "data": {
      "text/html": [
       "<div>\n",
       "<style scoped>\n",
       "    .dataframe tbody tr th:only-of-type {\n",
       "        vertical-align: middle;\n",
       "    }\n",
       "\n",
       "    .dataframe tbody tr th {\n",
       "        vertical-align: top;\n",
       "    }\n",
       "\n",
       "    .dataframe thead th {\n",
       "        text-align: right;\n",
       "    }\n",
       "</style>\n",
       "<table border=\"1\" class=\"dataframe\">\n",
       "  <thead>\n",
       "    <tr style=\"text-align: right;\">\n",
       "      <th></th>\n",
       "      <th>Date</th>\n",
       "      <th>Confirmed</th>\n",
       "      <th>Deaths</th>\n",
       "      <th>Recovered</th>\n",
       "      <th>Active</th>\n",
       "      <th>New cases</th>\n",
       "      <th>New deaths</th>\n",
       "      <th>New recovered</th>\n",
       "      <th>Deaths / 100 Cases</th>\n",
       "      <th>Recovered / 100 Cases</th>\n",
       "      <th>Deaths / 100 Recovered</th>\n",
       "      <th>No. of countries</th>\n",
       "    </tr>\n",
       "  </thead>\n",
       "  <tbody>\n",
       "    <tr>\n",
       "      <th>0</th>\n",
       "      <td>2020-01-22</td>\n",
       "      <td>555</td>\n",
       "      <td>17</td>\n",
       "      <td>28</td>\n",
       "      <td>510</td>\n",
       "      <td>0</td>\n",
       "      <td>0</td>\n",
       "      <td>0</td>\n",
       "      <td>3.06</td>\n",
       "      <td>5.05</td>\n",
       "      <td>60.71</td>\n",
       "      <td>6</td>\n",
       "    </tr>\n",
       "    <tr>\n",
       "      <th>1</th>\n",
       "      <td>2020-01-23</td>\n",
       "      <td>654</td>\n",
       "      <td>18</td>\n",
       "      <td>30</td>\n",
       "      <td>606</td>\n",
       "      <td>99</td>\n",
       "      <td>1</td>\n",
       "      <td>2</td>\n",
       "      <td>2.75</td>\n",
       "      <td>4.59</td>\n",
       "      <td>60.00</td>\n",
       "      <td>8</td>\n",
       "    </tr>\n",
       "    <tr>\n",
       "      <th>2</th>\n",
       "      <td>2020-01-24</td>\n",
       "      <td>941</td>\n",
       "      <td>26</td>\n",
       "      <td>36</td>\n",
       "      <td>879</td>\n",
       "      <td>287</td>\n",
       "      <td>8</td>\n",
       "      <td>6</td>\n",
       "      <td>2.76</td>\n",
       "      <td>3.83</td>\n",
       "      <td>72.22</td>\n",
       "      <td>9</td>\n",
       "    </tr>\n",
       "    <tr>\n",
       "      <th>3</th>\n",
       "      <td>2020-01-25</td>\n",
       "      <td>1434</td>\n",
       "      <td>42</td>\n",
       "      <td>39</td>\n",
       "      <td>1353</td>\n",
       "      <td>493</td>\n",
       "      <td>16</td>\n",
       "      <td>3</td>\n",
       "      <td>2.93</td>\n",
       "      <td>2.72</td>\n",
       "      <td>107.69</td>\n",
       "      <td>11</td>\n",
       "    </tr>\n",
       "    <tr>\n",
       "      <th>4</th>\n",
       "      <td>2020-01-26</td>\n",
       "      <td>2118</td>\n",
       "      <td>56</td>\n",
       "      <td>52</td>\n",
       "      <td>2010</td>\n",
       "      <td>684</td>\n",
       "      <td>14</td>\n",
       "      <td>13</td>\n",
       "      <td>2.64</td>\n",
       "      <td>2.46</td>\n",
       "      <td>107.69</td>\n",
       "      <td>13</td>\n",
       "    </tr>\n",
       "  </tbody>\n",
       "</table>\n",
       "</div>"
      ],
      "text/plain": [
       "        Date  Confirmed  Deaths  Recovered  Active  New cases  New deaths  \\\n",
       "0 2020-01-22        555      17         28     510          0           0   \n",
       "1 2020-01-23        654      18         30     606         99           1   \n",
       "2 2020-01-24        941      26         36     879        287           8   \n",
       "3 2020-01-25       1434      42         39    1353        493          16   \n",
       "4 2020-01-26       2118      56         52    2010        684          14   \n",
       "\n",
       "   New recovered  Deaths / 100 Cases  Recovered / 100 Cases  \\\n",
       "0              0                3.06                   5.05   \n",
       "1              2                2.75                   4.59   \n",
       "2              6                2.76                   3.83   \n",
       "3              3                2.93                   2.72   \n",
       "4             13                2.64                   2.46   \n",
       "\n",
       "   Deaths / 100 Recovered  No. of countries  \n",
       "0                   60.71                 6  \n",
       "1                   60.00                 8  \n",
       "2                   72.22                 9  \n",
       "3                  107.69                11  \n",
       "4                  107.69                13  "
      ]
     },
     "execution_count": 13,
     "metadata": {},
     "output_type": "execute_result"
    }
   ],
   "source": [
    "day_wise_df.head()"
   ]
  },
  {
   "cell_type": "code",
   "execution_count": 15,
   "metadata": {},
   "outputs": [
    {
     "data": {
      "text/plain": [
       "Timestamp('2020-01-22 00:00:00')"
      ]
     },
     "execution_count": 15,
     "metadata": {},
     "output_type": "execute_result"
    }
   ],
   "source": [
    "day_wise_df['Date'].min()"
   ]
  },
  {
   "cell_type": "code",
   "execution_count": 17,
   "metadata": {},
   "outputs": [
    {
     "data": {
      "text/plain": [
       "Timestamp('2020-07-27 00:00:00')"
      ]
     },
     "execution_count": 17,
     "metadata": {},
     "output_type": "execute_result"
    }
   ],
   "source": [
    "day_wise_df['Date'].max()"
   ]
  },
  {
   "cell_type": "code",
   "execution_count": 19,
   "metadata": {},
   "outputs": [
    {
     "data": {
      "text/plain": [
       "Index(['Date', 'Confirmed', 'Deaths', 'Recovered', 'Active', 'New cases',\n",
       "       'New deaths', 'New recovered', 'Deaths / 100 Cases',\n",
       "       'Recovered / 100 Cases', 'Deaths / 100 Recovered', 'No. of countries'],\n",
       "      dtype='object')"
      ]
     },
     "execution_count": 19,
     "metadata": {},
     "output_type": "execute_result"
    }
   ],
   "source": [
    "col = day_wise_df.columns\n",
    "col"
   ]
  },
  {
   "cell_type": "code",
   "execution_count": 21,
   "metadata": {},
   "outputs": [
    {
     "data": {
      "text/html": [
       "<div>\n",
       "<style scoped>\n",
       "    .dataframe tbody tr th:only-of-type {\n",
       "        vertical-align: middle;\n",
       "    }\n",
       "\n",
       "    .dataframe tbody tr th {\n",
       "        vertical-align: top;\n",
       "    }\n",
       "\n",
       "    .dataframe thead th {\n",
       "        text-align: right;\n",
       "    }\n",
       "</style>\n",
       "<table border=\"1\" class=\"dataframe\">\n",
       "  <thead>\n",
       "    <tr style=\"text-align: right;\">\n",
       "      <th></th>\n",
       "      <th>Confirmed</th>\n",
       "      <th>Deaths</th>\n",
       "      <th>Recovered</th>\n",
       "      <th>Active</th>\n",
       "      <th>New cases</th>\n",
       "      <th>New deaths</th>\n",
       "      <th>New recovered</th>\n",
       "      <th>Deaths / 100 Cases</th>\n",
       "      <th>Recovered / 100 Cases</th>\n",
       "      <th>Deaths / 100 Recovered</th>\n",
       "      <th>No. of countries</th>\n",
       "    </tr>\n",
       "  </thead>\n",
       "  <tbody>\n",
       "    <tr>\n",
       "      <th>count</th>\n",
       "      <td>1.880000e+02</td>\n",
       "      <td>188.000000</td>\n",
       "      <td>1.880000e+02</td>\n",
       "      <td>1.880000e+02</td>\n",
       "      <td>188.000000</td>\n",
       "      <td>188.000000</td>\n",
       "      <td>188.000000</td>\n",
       "      <td>188.000000</td>\n",
       "      <td>188.000000</td>\n",
       "      <td>188.000000</td>\n",
       "      <td>188.000000</td>\n",
       "    </tr>\n",
       "    <tr>\n",
       "      <th>mean</th>\n",
       "      <td>4.406960e+06</td>\n",
       "      <td>230770.760638</td>\n",
       "      <td>2.066001e+06</td>\n",
       "      <td>2.110188e+06</td>\n",
       "      <td>87771.021277</td>\n",
       "      <td>3478.824468</td>\n",
       "      <td>50362.015957</td>\n",
       "      <td>4.860638</td>\n",
       "      <td>34.343936</td>\n",
       "      <td>22.104521</td>\n",
       "      <td>144.351064</td>\n",
       "    </tr>\n",
       "    <tr>\n",
       "      <th>std</th>\n",
       "      <td>4.757988e+06</td>\n",
       "      <td>217929.094183</td>\n",
       "      <td>2.627976e+06</td>\n",
       "      <td>1.969670e+06</td>\n",
       "      <td>75295.293255</td>\n",
       "      <td>2537.735652</td>\n",
       "      <td>56090.892479</td>\n",
       "      <td>1.579541</td>\n",
       "      <td>16.206159</td>\n",
       "      <td>22.568307</td>\n",
       "      <td>65.175979</td>\n",
       "    </tr>\n",
       "    <tr>\n",
       "      <th>min</th>\n",
       "      <td>5.550000e+02</td>\n",
       "      <td>17.000000</td>\n",
       "      <td>2.800000e+01</td>\n",
       "      <td>5.100000e+02</td>\n",
       "      <td>0.000000</td>\n",
       "      <td>0.000000</td>\n",
       "      <td>0.000000</td>\n",
       "      <td>2.040000</td>\n",
       "      <td>1.710000</td>\n",
       "      <td>6.260000</td>\n",
       "      <td>6.000000</td>\n",
       "    </tr>\n",
       "    <tr>\n",
       "      <th>25%</th>\n",
       "      <td>1.121910e+05</td>\n",
       "      <td>3935.000000</td>\n",
       "      <td>6.044125e+04</td>\n",
       "      <td>5.864175e+04</td>\n",
       "      <td>5568.500000</td>\n",
       "      <td>250.750000</td>\n",
       "      <td>2488.250000</td>\n",
       "      <td>3.510000</td>\n",
       "      <td>22.785000</td>\n",
       "      <td>9.650000</td>\n",
       "      <td>101.250000</td>\n",
       "    </tr>\n",
       "    <tr>\n",
       "      <th>50%</th>\n",
       "      <td>2.848733e+06</td>\n",
       "      <td>204190.000000</td>\n",
       "      <td>7.847840e+05</td>\n",
       "      <td>1.859759e+06</td>\n",
       "      <td>81114.000000</td>\n",
       "      <td>4116.000000</td>\n",
       "      <td>30991.500000</td>\n",
       "      <td>4.850000</td>\n",
       "      <td>35.680000</td>\n",
       "      <td>15.380000</td>\n",
       "      <td>184.000000</td>\n",
       "    </tr>\n",
       "    <tr>\n",
       "      <th>75%</th>\n",
       "      <td>7.422046e+06</td>\n",
       "      <td>418634.500000</td>\n",
       "      <td>3.416396e+06</td>\n",
       "      <td>3.587015e+06</td>\n",
       "      <td>131502.500000</td>\n",
       "      <td>5346.000000</td>\n",
       "      <td>79706.250000</td>\n",
       "      <td>6.297500</td>\n",
       "      <td>48.945000</td>\n",
       "      <td>25.342500</td>\n",
       "      <td>187.000000</td>\n",
       "    </tr>\n",
       "    <tr>\n",
       "      <th>max</th>\n",
       "      <td>1.648048e+07</td>\n",
       "      <td>654036.000000</td>\n",
       "      <td>9.468087e+06</td>\n",
       "      <td>6.358362e+06</td>\n",
       "      <td>282756.000000</td>\n",
       "      <td>9966.000000</td>\n",
       "      <td>284394.000000</td>\n",
       "      <td>7.180000</td>\n",
       "      <td>57.450000</td>\n",
       "      <td>134.430000</td>\n",
       "      <td>187.000000</td>\n",
       "    </tr>\n",
       "  </tbody>\n",
       "</table>\n",
       "</div>"
      ],
      "text/plain": [
       "          Confirmed         Deaths     Recovered        Active      New cases  \\\n",
       "count  1.880000e+02     188.000000  1.880000e+02  1.880000e+02     188.000000   \n",
       "mean   4.406960e+06  230770.760638  2.066001e+06  2.110188e+06   87771.021277   \n",
       "std    4.757988e+06  217929.094183  2.627976e+06  1.969670e+06   75295.293255   \n",
       "min    5.550000e+02      17.000000  2.800000e+01  5.100000e+02       0.000000   \n",
       "25%    1.121910e+05    3935.000000  6.044125e+04  5.864175e+04    5568.500000   \n",
       "50%    2.848733e+06  204190.000000  7.847840e+05  1.859759e+06   81114.000000   \n",
       "75%    7.422046e+06  418634.500000  3.416396e+06  3.587015e+06  131502.500000   \n",
       "max    1.648048e+07  654036.000000  9.468087e+06  6.358362e+06  282756.000000   \n",
       "\n",
       "        New deaths  New recovered  Deaths / 100 Cases  Recovered / 100 Cases  \\\n",
       "count   188.000000     188.000000          188.000000             188.000000   \n",
       "mean   3478.824468   50362.015957            4.860638              34.343936   \n",
       "std    2537.735652   56090.892479            1.579541              16.206159   \n",
       "min       0.000000       0.000000            2.040000               1.710000   \n",
       "25%     250.750000    2488.250000            3.510000              22.785000   \n",
       "50%    4116.000000   30991.500000            4.850000              35.680000   \n",
       "75%    5346.000000   79706.250000            6.297500              48.945000   \n",
       "max    9966.000000  284394.000000            7.180000              57.450000   \n",
       "\n",
       "       Deaths / 100 Recovered  No. of countries  \n",
       "count              188.000000        188.000000  \n",
       "mean                22.104521        144.351064  \n",
       "std                 22.568307         65.175979  \n",
       "min                  6.260000          6.000000  \n",
       "25%                  9.650000        101.250000  \n",
       "50%                 15.380000        184.000000  \n",
       "75%                 25.342500        187.000000  \n",
       "max                134.430000        187.000000  "
      ]
     },
     "execution_count": 21,
     "metadata": {},
     "output_type": "execute_result"
    }
   ],
   "source": [
    "day_wise_df[col[1:]].describe()"
   ]
  },
  {
   "cell_type": "code",
   "execution_count": 23,
   "metadata": {},
   "outputs": [],
   "source": [
    "col = [ ['Confirmed', 'Deaths', 'Recovered', 'Active'],[ 'New cases',\n",
    "       'New deaths', 'New recovered'], ['Deaths / 100 Cases',\n",
    "       'Recovered / 100 Cases', 'Deaths / 100 Recovered']]"
   ]
  },
  {
   "cell_type": "code",
   "execution_count": 25,
   "metadata": {},
   "outputs": [
    {
     "data": {
      "text/plain": [
       "<Axes: >"
      ]
     },
     "execution_count": 25,
     "metadata": {},
     "output_type": "execute_result"
    },
    {
     "data": {
      "image/png": "[encoded data removed]",
      "text/plain": [
       "<Figure size 640x480 with 3 Axes>"
      ]
     },
     "metadata": {},
     "output_type": "display_data"
    }
   ],
   "source": [
    "plt.subplot(1,5,1)\n",
    "sns.boxplot(data= day_wise_df[col[0]])\n",
    "\n",
    "plt.subplot(1,5,3)\n",
    "sns.boxplot(data= day_wise_df[col[1]])\n",
    "\n",
    "plt.subplot(1,5,5)\n",
    "sns.boxplot(data= day_wise_df[col[2]])"
   ]
  },
  {
   "cell_type": "code",
   "execution_count": 27,
   "metadata": {},
   "outputs": [],
   "source": [
    "lower,upper = calculating_iqr(day_wise_df,'Recovered')\n",
    "day_wise_df['Recovered'] = day_wise_df['Recovered'].apply(handle_outliers)\n",
    "\n",
    "lower,upper = calculating_iqr(day_wise_df,'New recovered')\n",
    "day_wise_df['New recovered'] = day_wise_df['New recovered'].apply(handle_outliers)\n",
    "\n",
    "lower,upper = calculating_iqr(day_wise_df,'Deaths / 100 Recovered')\n",
    "day_wise_df['Deaths / 100 Recovered'] = day_wise_df['Deaths / 100 Recovered'].apply(handle_outliers)"
   ]
  },
  {
   "cell_type": "code",
   "execution_count": 29,
   "metadata": {},
   "outputs": [
    {
     "data": {
      "text/plain": [
       "<Axes: >"
      ]
     },
     "execution_count": 29,
     "metadata": {},
     "output_type": "execute_result"
    },
    {
     "data": {
      "image/png": "[encoded data removed]",
      "text/plain": [
       "<Figure size 640x480 with 3 Axes>"
      ]
     },
     "metadata": {},
     "output_type": "display_data"
    }
   ],
   "source": [
    "plt.subplot(1,5,1)\n",
    "sns.boxplot(data= day_wise_df[col[0]])\n",
    "\n",
    "plt.subplot(1,5,3)\n",
    "sns.boxplot(data= day_wise_df[col[1]])\n",
    "\n",
    "plt.subplot(1,5,5)\n",
    "sns.boxplot(data= day_wise_df[col[2]])"
   ]
  },
  {
   "cell_type": "code",
   "execution_count": 51,
   "metadata": {},
   "outputs": [],
   "source": [
    "day_wise_df['Total death'] = day_wise_df['Deaths'] + day_wise_df['New deaths']"
   ]
  },
  {
   "cell_type": "code",
   "execution_count": 53,
   "metadata": {},
   "outputs": [],
   "source": [
    "day_wise_df['Total recovered'] = day_wise_df['Recovered'] + day_wise_df['New recovered']"
   ]
  },
  {
   "cell_type": "code",
   "execution_count": 55,
   "metadata": {},
   "outputs": [],
   "source": [
    "day_wise_df['Total cases'] = day_wise_df['Confirmed'] + day_wise_df['New cases']"
   ]
  },
  {
   "cell_type": "code",
   "execution_count": 57,
   "metadata": {},
   "outputs": [
    {
     "data": {
      "text/plain": [
       "Index(['Date', 'Confirmed', 'Deaths', 'Recovered', 'Active', 'New cases',\n",
       "       'New deaths', 'New recovered', 'Deaths / 100 Cases',\n",
       "       'Recovered / 100 Cases', 'Deaths / 100 Recovered', 'No. of countries',\n",
       "       'Total cases', 'Total recovered', 'Total death'],\n",
       "      dtype='object')"
      ]
     },
     "execution_count": 57,
     "metadata": {},
     "output_type": "execute_result"
    }
   ],
   "source": [
    "day_wise_df.columns"
   ]
  },
  {
   "cell_type": "code",
   "execution_count": 69,
   "metadata": {},
   "outputs": [
    {
     "data": {
      "image/png": "[encoded data removed]",
      "text/plain": [
       "<Figure size 640x480 with 1 Axes>"
      ]
     },
     "metadata": {},
     "output_type": "display_data"
    }
   ],
   "source": [
    "plt.pie(day_wise_df[col[0]].sum(),labels = col[0])\n",
    "plt.show()"
   ]
  },
  {
   "cell_type": "code",
   "execution_count": 71,
   "metadata": {},
   "outputs": [
    {
     "data": {
      "image/png": "[encoded data removed]",
      "text/plain": [
       "<Figure size 640x480 with 1 Axes>"
      ]
     },
     "metadata": {},
     "output_type": "display_data"
    }
   ],
   "source": [
    "plt.pie(day_wise_df[col[1]].sum(),labels = col[1])\n",
    "plt.show()"
   ]
  },
  {
   "cell_type": "code",
   "execution_count": 73,
   "metadata": {},
   "outputs": [
    {
     "data": {
      "image/png": "[encoded data removed]",
      "text/plain": [
       "<Figure size 640x480 with 1 Axes>"
      ]
     },
     "metadata": {},
     "output_type": "display_data"
    }
   ],
   "source": [
    "plt.pie(day_wise_df[col[2]].sum(),labels = col[2])\n",
    "plt.show()"
   ]
  },
  {
   "cell_type": "code",
   "execution_count": 75,
   "metadata": {},
   "outputs": [
    {
     "data": {
      "image/png": "[encoded data removed]",
      "text/plain": [
       "<Figure size 640x480 with 1 Axes>"
      ]
     },
     "metadata": {},
     "output_type": "display_data"
    }
   ],
   "source": [
    "total = ['Total cases', 'Total recovered', 'Total death']\n",
    "plt.pie(day_wise_df[total].sum(),labels = total)\n",
    "plt.show()"
   ]
  },
  {
   "cell_type": "code",
   "execution_count": null,
   "metadata": {},
   "outputs": [],
   "source": []
  },
  {
   "cell_type": "code",
   "execution_count": null,
   "metadata": {},
   "outputs": [],
   "source": []
  },
  {
   "cell_type": "code",
   "execution_count": null,
   "metadata": {},
   "outputs": [],
   "source": []
  },
  {
   "cell_type": "markdown",
   "metadata": {},
   "source": [
    "Plotting"
   ]
  },
  {
   "cell_type": "code",
   "execution_count": 7,
   "metadata": {},
   "outputs": [],
   "source": [
    "full_grouped_df = pd.read_csv('full_grouped.csv')"
   ]
  },
  {
   "cell_type": "code",
   "execution_count": 9,
   "metadata": {},
   "outputs": [
    {
     "name": "stdout",
     "output_type": "stream",
     "text": [
      "<class 'pandas.core.frame.DataFrame'>\n",
      "RangeIndex: 35156 entries, 0 to 35155\n",
      "Data columns (total 10 columns):\n",
      " #   Column          Non-Null Count  Dtype \n",
      "---  ------          --------------  ----- \n",
      " 0   Date            35156 non-null  object\n",
      " 1   Country/Region  35156 non-null  object\n",
      " 2   Confirmed       35156 non-null  int64 \n",
      " 3   Deaths          35156 non-null  int64 \n",
      " 4   Recovered       35156 non-null  int64 \n",
      " 5   Active          35156 non-null  int64 \n",
      " 6   New cases       35156 non-null  int64 \n",
      " 7   New deaths      35156 non-null  int64 \n",
      " 8   New recovered   35156 non-null  int64 \n",
      " 9   WHO Region      35156 non-null  object\n",
      "dtypes: int64(7), object(3)\n",
      "memory usage: 2.7+ MB\n"
     ]
    }
   ],
   "source": [
    "full_grouped_df.info()"
   ]
  },
  {
   "cell_type": "code",
   "execution_count": 11,
   "metadata": {},
   "outputs": [],
   "source": [
    "full_grouped_df['Date'] = pd.to_datetime(full_grouped_df['Date'])"
   ]
  },
  {
   "cell_type": "code",
   "execution_count": 13,
   "metadata": {},
   "outputs": [
    {
     "name": "stdout",
     "output_type": "stream",
     "text": [
      "<class 'pandas.core.frame.DataFrame'>\n",
      "RangeIndex: 35156 entries, 0 to 35155\n",
      "Data columns (total 10 columns):\n",
      " #   Column          Non-Null Count  Dtype         \n",
      "---  ------          --------------  -----         \n",
      " 0   Date            35156 non-null  datetime64[ns]\n",
      " 1   Country/Region  35156 non-null  object        \n",
      " 2   Confirmed       35156 non-null  int64         \n",
      " 3   Deaths          35156 non-null  int64         \n",
      " 4   Recovered       35156 non-null  int64         \n",
      " 5   Active          35156 non-null  int64         \n",
      " 6   New cases       35156 non-null  int64         \n",
      " 7   New deaths      35156 non-null  int64         \n",
      " 8   New recovered   35156 non-null  int64         \n",
      " 9   WHO Region      35156 non-null  object        \n",
      "dtypes: datetime64[ns](1), int64(7), object(2)\n",
      "memory usage: 2.7+ MB\n"
     ]
    }
   ],
   "source": [
    "full_grouped_df.info()"
   ]
  },
  {
   "cell_type": "code",
   "execution_count": 15,
   "metadata": {},
   "outputs": [
    {
     "data": {
      "text/html": [
       "<div>\n",
       "<style scoped>\n",
       "    .dataframe tbody tr th:only-of-type {\n",
       "        vertical-align: middle;\n",
       "    }\n",
       "\n",
       "    .dataframe tbody tr th {\n",
       "        vertical-align: top;\n",
       "    }\n",
       "\n",
       "    .dataframe thead th {\n",
       "        text-align: right;\n",
       "    }\n",
       "</style>\n",
       "<table border=\"1\" class=\"dataframe\">\n",
       "  <thead>\n",
       "    <tr style=\"text-align: right;\">\n",
       "      <th></th>\n",
       "      <th>Date</th>\n",
       "      <th>Country/Region</th>\n",
       "      <th>Confirmed</th>\n",
       "      <th>Deaths</th>\n",
       "      <th>Recovered</th>\n",
       "      <th>Active</th>\n",
       "      <th>New cases</th>\n",
       "      <th>New deaths</th>\n",
       "      <th>New recovered</th>\n",
       "      <th>WHO Region</th>\n",
       "    </tr>\n",
       "  </thead>\n",
       "  <tbody>\n",
       "    <tr>\n",
       "      <th>0</th>\n",
       "      <td>2020-01-22</td>\n",
       "      <td>Afghanistan</td>\n",
       "      <td>0</td>\n",
       "      <td>0</td>\n",
       "      <td>0</td>\n",
       "      <td>0</td>\n",
       "      <td>0</td>\n",
       "      <td>0</td>\n",
       "      <td>0</td>\n",
       "      <td>Eastern Mediterranean</td>\n",
       "    </tr>\n",
       "    <tr>\n",
       "      <th>1</th>\n",
       "      <td>2020-01-22</td>\n",
       "      <td>Albania</td>\n",
       "      <td>0</td>\n",
       "      <td>0</td>\n",
       "      <td>0</td>\n",
       "      <td>0</td>\n",
       "      <td>0</td>\n",
       "      <td>0</td>\n",
       "      <td>0</td>\n",
       "      <td>Europe</td>\n",
       "    </tr>\n",
       "    <tr>\n",
       "      <th>2</th>\n",
       "      <td>2020-01-22</td>\n",
       "      <td>Algeria</td>\n",
       "      <td>0</td>\n",
       "      <td>0</td>\n",
       "      <td>0</td>\n",
       "      <td>0</td>\n",
       "      <td>0</td>\n",
       "      <td>0</td>\n",
       "      <td>0</td>\n",
       "      <td>Africa</td>\n",
       "    </tr>\n",
       "    <tr>\n",
       "      <th>3</th>\n",
       "      <td>2020-01-22</td>\n",
       "      <td>Andorra</td>\n",
       "      <td>0</td>\n",
       "      <td>0</td>\n",
       "      <td>0</td>\n",
       "      <td>0</td>\n",
       "      <td>0</td>\n",
       "      <td>0</td>\n",
       "      <td>0</td>\n",
       "      <td>Europe</td>\n",
       "    </tr>\n",
       "    <tr>\n",
       "      <th>4</th>\n",
       "      <td>2020-01-22</td>\n",
       "      <td>Angola</td>\n",
       "      <td>0</td>\n",
       "      <td>0</td>\n",
       "      <td>0</td>\n",
       "      <td>0</td>\n",
       "      <td>0</td>\n",
       "      <td>0</td>\n",
       "      <td>0</td>\n",
       "      <td>Africa</td>\n",
       "    </tr>\n",
       "  </tbody>\n",
       "</table>\n",
       "</div>"
      ],
      "text/plain": [
       "        Date Country/Region  Confirmed  Deaths  Recovered  Active  New cases  \\\n",
       "0 2020-01-22    Afghanistan          0       0          0       0          0   \n",
       "1 2020-01-22        Albania          0       0          0       0          0   \n",
       "2 2020-01-22        Algeria          0       0          0       0          0   \n",
       "3 2020-01-22        Andorra          0       0          0       0          0   \n",
       "4 2020-01-22         Angola          0       0          0       0          0   \n",
       "\n",
       "   New deaths  New recovered             WHO Region  \n",
       "0           0              0  Eastern Mediterranean  \n",
       "1           0              0                 Europe  \n",
       "2           0              0                 Africa  \n",
       "3           0              0                 Europe  \n",
       "4           0              0                 Africa  "
      ]
     },
     "execution_count": 15,
     "metadata": {},
     "output_type": "execute_result"
    }
   ],
   "source": [
    "full_grouped_df.head()"
   ]
  },
  {
   "cell_type": "code",
   "execution_count": 17,
   "metadata": {},
   "outputs": [
    {
     "data": {
      "text/html": [
       "<div>\n",
       "<style scoped>\n",
       "    .dataframe tbody tr th:only-of-type {\n",
       "        vertical-align: middle;\n",
       "    }\n",
       "\n",
       "    .dataframe tbody tr th {\n",
       "        vertical-align: top;\n",
       "    }\n",
       "\n",
       "    .dataframe thead th {\n",
       "        text-align: right;\n",
       "    }\n",
       "</style>\n",
       "<table border=\"1\" class=\"dataframe\">\n",
       "  <thead>\n",
       "    <tr style=\"text-align: right;\">\n",
       "      <th></th>\n",
       "      <th>Confirmed</th>\n",
       "      <th>Deaths</th>\n",
       "      <th>Recovered</th>\n",
       "      <th>Active</th>\n",
       "      <th>New cases</th>\n",
       "      <th>New deaths</th>\n",
       "      <th>New recovered</th>\n",
       "    </tr>\n",
       "  </thead>\n",
       "  <tbody>\n",
       "    <tr>\n",
       "      <th>count</th>\n",
       "      <td>3.515600e+04</td>\n",
       "      <td>35156.000000</td>\n",
       "      <td>3.515600e+04</td>\n",
       "      <td>3.515600e+04</td>\n",
       "      <td>35156.00000</td>\n",
       "      <td>35156.000000</td>\n",
       "      <td>35156.000000</td>\n",
       "    </tr>\n",
       "    <tr>\n",
       "      <th>mean</th>\n",
       "      <td>2.356663e+04</td>\n",
       "      <td>1234.068239</td>\n",
       "      <td>1.104813e+04</td>\n",
       "      <td>1.128443e+04</td>\n",
       "      <td>469.36375</td>\n",
       "      <td>18.603339</td>\n",
       "      <td>269.315593</td>\n",
       "    </tr>\n",
       "    <tr>\n",
       "      <th>std</th>\n",
       "      <td>1.499818e+05</td>\n",
       "      <td>7437.238354</td>\n",
       "      <td>6.454640e+04</td>\n",
       "      <td>8.997149e+04</td>\n",
       "      <td>3005.86754</td>\n",
       "      <td>115.706351</td>\n",
       "      <td>2068.063852</td>\n",
       "    </tr>\n",
       "    <tr>\n",
       "      <th>min</th>\n",
       "      <td>0.000000e+00</td>\n",
       "      <td>0.000000</td>\n",
       "      <td>0.000000e+00</td>\n",
       "      <td>-2.000000e+00</td>\n",
       "      <td>0.00000</td>\n",
       "      <td>-1918.000000</td>\n",
       "      <td>-16298.000000</td>\n",
       "    </tr>\n",
       "    <tr>\n",
       "      <th>25%</th>\n",
       "      <td>1.000000e+00</td>\n",
       "      <td>0.000000</td>\n",
       "      <td>0.000000e+00</td>\n",
       "      <td>0.000000e+00</td>\n",
       "      <td>0.00000</td>\n",
       "      <td>0.000000</td>\n",
       "      <td>0.000000</td>\n",
       "    </tr>\n",
       "    <tr>\n",
       "      <th>50%</th>\n",
       "      <td>2.500000e+02</td>\n",
       "      <td>4.000000</td>\n",
       "      <td>3.300000e+01</td>\n",
       "      <td>8.500000e+01</td>\n",
       "      <td>2.00000</td>\n",
       "      <td>0.000000</td>\n",
       "      <td>0.000000</td>\n",
       "    </tr>\n",
       "    <tr>\n",
       "      <th>75%</th>\n",
       "      <td>3.640250e+03</td>\n",
       "      <td>78.250000</td>\n",
       "      <td>1.286250e+03</td>\n",
       "      <td>1.454000e+03</td>\n",
       "      <td>75.00000</td>\n",
       "      <td>1.000000</td>\n",
       "      <td>20.000000</td>\n",
       "    </tr>\n",
       "    <tr>\n",
       "      <th>max</th>\n",
       "      <td>4.290259e+06</td>\n",
       "      <td>148011.000000</td>\n",
       "      <td>1.846641e+06</td>\n",
       "      <td>2.816444e+06</td>\n",
       "      <td>77255.00000</td>\n",
       "      <td>3887.000000</td>\n",
       "      <td>140050.000000</td>\n",
       "    </tr>\n",
       "  </tbody>\n",
       "</table>\n",
       "</div>"
      ],
      "text/plain": [
       "          Confirmed         Deaths     Recovered        Active    New cases  \\\n",
       "count  3.515600e+04   35156.000000  3.515600e+04  3.515600e+04  35156.00000   \n",
       "mean   2.356663e+04    1234.068239  1.104813e+04  1.128443e+04    469.36375   \n",
       "std    1.499818e+05    7437.238354  6.454640e+04  8.997149e+04   3005.86754   \n",
       "min    0.000000e+00       0.000000  0.000000e+00 -2.000000e+00      0.00000   \n",
       "25%    1.000000e+00       0.000000  0.000000e+00  0.000000e+00      0.00000   \n",
       "50%    2.500000e+02       4.000000  3.300000e+01  8.500000e+01      2.00000   \n",
       "75%    3.640250e+03      78.250000  1.286250e+03  1.454000e+03     75.00000   \n",
       "max    4.290259e+06  148011.000000  1.846641e+06  2.816444e+06  77255.00000   \n",
       "\n",
       "         New deaths  New recovered  \n",
       "count  35156.000000   35156.000000  \n",
       "mean      18.603339     269.315593  \n",
       "std      115.706351    2068.063852  \n",
       "min    -1918.000000  -16298.000000  \n",
       "25%        0.000000       0.000000  \n",
       "50%        0.000000       0.000000  \n",
       "75%        1.000000      20.000000  \n",
       "max     3887.000000  140050.000000  "
      ]
     },
     "execution_count": 17,
     "metadata": {},
     "output_type": "execute_result"
    }
   ],
   "source": [
    "col = ['Confirmed',\t'Deaths', 'Recovered', 'Active'\t, 'New cases', 'New deaths', 'New recovered']\n",
    "full_grouped_df[col].describe()"
   ]
  },
  {
   "cell_type": "code",
   "execution_count": 19,
   "metadata": {},
   "outputs": [
    {
     "data": {
      "text/plain": [
       "Date              38\n",
       "Country/Region    38\n",
       "Confirmed         38\n",
       "Deaths            38\n",
       "Recovered         38\n",
       "Active            38\n",
       "New cases         38\n",
       "New deaths        38\n",
       "New recovered     38\n",
       "WHO Region        38\n",
       "dtype: int64"
      ]
     },
     "execution_count": 19,
     "metadata": {},
     "output_type": "execute_result"
    }
   ],
   "source": [
    "full_grouped_df[full_grouped_df['New deaths']<0].count()"
   ]
  },
  {
   "cell_type": "code",
   "execution_count": 21,
   "metadata": {},
   "outputs": [],
   "source": [
    "# as there should be no negative values in deaths,recovered values then we are gonna to drop and if the percentage of them is big then we can get their abs val for them \n",
    "cond = (full_grouped_df['New deaths'] >= 0) & (full_grouped_df['Active'] >= 0) & (full_grouped_df['New recovered'] >= 0)\n",
    "new_data = full_grouped_df[cond].copy()"
   ]
  },
  {
   "cell_type": "code",
   "execution_count": 23,
   "metadata": {},
   "outputs": [
    {
     "name": "stdout",
     "output_type": "stream",
     "text": [
      "<class 'pandas.core.frame.DataFrame'>\n",
      "Index: 35041 entries, 0 to 35155\n",
      "Data columns (total 10 columns):\n",
      " #   Column          Non-Null Count  Dtype         \n",
      "---  ------          --------------  -----         \n",
      " 0   Date            35041 non-null  datetime64[ns]\n",
      " 1   Country/Region  35041 non-null  object        \n",
      " 2   Confirmed       35041 non-null  int64         \n",
      " 3   Deaths          35041 non-null  int64         \n",
      " 4   Recovered       35041 non-null  int64         \n",
      " 5   Active          35041 non-null  int64         \n",
      " 6   New cases       35041 non-null  int64         \n",
      " 7   New deaths      35041 non-null  int64         \n",
      " 8   New recovered   35041 non-null  int64         \n",
      " 9   WHO Region      35041 non-null  object        \n",
      "dtypes: datetime64[ns](1), int64(7), object(2)\n",
      "memory usage: 2.9+ MB\n"
     ]
    }
   ],
   "source": [
    "new_data.info()"
   ]
  },
  {
   "cell_type": "code",
   "execution_count": 25,
   "metadata": {},
   "outputs": [
    {
     "data": {
      "text/plain": [
       "(35041, 10)"
      ]
     },
     "execution_count": 25,
     "metadata": {},
     "output_type": "execute_result"
    }
   ],
   "source": [
    "new_data.shape"
   ]
  },
  {
   "cell_type": "code",
   "execution_count": 27,
   "metadata": {},
   "outputs": [
    {
     "data": {
      "text/plain": [
       "99.67288656274889"
      ]
     },
     "execution_count": 27,
     "metadata": {},
     "output_type": "execute_result"
    }
   ],
   "source": [
    "percentage = (new_data.shape[0] / full_grouped_df.shape[0]) * 100\n",
    "percentage"
   ]
  },
  {
   "cell_type": "code",
   "execution_count": 29,
   "metadata": {},
   "outputs": [
    {
     "data": {
      "text/html": [
       "<div>\n",
       "<style scoped>\n",
       "    .dataframe tbody tr th:only-of-type {\n",
       "        vertical-align: middle;\n",
       "    }\n",
       "\n",
       "    .dataframe tbody tr th {\n",
       "        vertical-align: top;\n",
       "    }\n",
       "\n",
       "    .dataframe thead th {\n",
       "        text-align: right;\n",
       "    }\n",
       "</style>\n",
       "<table border=\"1\" class=\"dataframe\">\n",
       "  <thead>\n",
       "    <tr style=\"text-align: right;\">\n",
       "      <th></th>\n",
       "      <th>Confirmed</th>\n",
       "      <th>Deaths</th>\n",
       "      <th>Recovered</th>\n",
       "      <th>Active</th>\n",
       "      <th>New cases</th>\n",
       "      <th>New deaths</th>\n",
       "      <th>New recovered</th>\n",
       "    </tr>\n",
       "  </thead>\n",
       "  <tbody>\n",
       "    <tr>\n",
       "      <th>count</th>\n",
       "      <td>3.504100e+04</td>\n",
       "      <td>35041.000000</td>\n",
       "      <td>3.504100e+04</td>\n",
       "      <td>3.504100e+04</td>\n",
       "      <td>35041.000000</td>\n",
       "      <td>35041.000000</td>\n",
       "      <td>35041.000000</td>\n",
       "    </tr>\n",
       "    <tr>\n",
       "      <th>mean</th>\n",
       "      <td>2.351692e+04</td>\n",
       "      <td>1227.798493</td>\n",
       "      <td>1.103168e+04</td>\n",
       "      <td>1.125744e+04</td>\n",
       "      <td>469.348906</td>\n",
       "      <td>18.590508</td>\n",
       "      <td>271.163808</td>\n",
       "    </tr>\n",
       "    <tr>\n",
       "      <th>std</th>\n",
       "      <td>1.500045e+05</td>\n",
       "      <td>7423.438095</td>\n",
       "      <td>6.459747e+04</td>\n",
       "      <td>8.992780e+04</td>\n",
       "      <td>3008.153287</td>\n",
       "      <td>114.807722</td>\n",
       "      <td>2067.557128</td>\n",
       "    </tr>\n",
       "    <tr>\n",
       "      <th>min</th>\n",
       "      <td>0.000000e+00</td>\n",
       "      <td>0.000000</td>\n",
       "      <td>0.000000e+00</td>\n",
       "      <td>0.000000e+00</td>\n",
       "      <td>0.000000</td>\n",
       "      <td>0.000000</td>\n",
       "      <td>0.000000</td>\n",
       "    </tr>\n",
       "    <tr>\n",
       "      <th>25%</th>\n",
       "      <td>1.000000e+00</td>\n",
       "      <td>0.000000</td>\n",
       "      <td>0.000000e+00</td>\n",
       "      <td>0.000000e+00</td>\n",
       "      <td>0.000000</td>\n",
       "      <td>0.000000</td>\n",
       "      <td>0.000000</td>\n",
       "    </tr>\n",
       "    <tr>\n",
       "      <th>50%</th>\n",
       "      <td>2.460000e+02</td>\n",
       "      <td>4.000000</td>\n",
       "      <td>3.300000e+01</td>\n",
       "      <td>8.400000e+01</td>\n",
       "      <td>2.000000</td>\n",
       "      <td>0.000000</td>\n",
       "      <td>0.000000</td>\n",
       "    </tr>\n",
       "    <tr>\n",
       "      <th>75%</th>\n",
       "      <td>3.623000e+03</td>\n",
       "      <td>78.000000</td>\n",
       "      <td>1.279000e+03</td>\n",
       "      <td>1.454000e+03</td>\n",
       "      <td>74.000000</td>\n",
       "      <td>1.000000</td>\n",
       "      <td>20.000000</td>\n",
       "    </tr>\n",
       "    <tr>\n",
       "      <th>max</th>\n",
       "      <td>4.290259e+06</td>\n",
       "      <td>148011.000000</td>\n",
       "      <td>1.846641e+06</td>\n",
       "      <td>2.816444e+06</td>\n",
       "      <td>77255.000000</td>\n",
       "      <td>3887.000000</td>\n",
       "      <td>140050.000000</td>\n",
       "    </tr>\n",
       "  </tbody>\n",
       "</table>\n",
       "</div>"
      ],
      "text/plain": [
       "          Confirmed         Deaths     Recovered        Active     New cases  \\\n",
       "count  3.504100e+04   35041.000000  3.504100e+04  3.504100e+04  35041.000000   \n",
       "mean   2.351692e+04    1227.798493  1.103168e+04  1.125744e+04    469.348906   \n",
       "std    1.500045e+05    7423.438095  6.459747e+04  8.992780e+04   3008.153287   \n",
       "min    0.000000e+00       0.000000  0.000000e+00  0.000000e+00      0.000000   \n",
       "25%    1.000000e+00       0.000000  0.000000e+00  0.000000e+00      0.000000   \n",
       "50%    2.460000e+02       4.000000  3.300000e+01  8.400000e+01      2.000000   \n",
       "75%    3.623000e+03      78.000000  1.279000e+03  1.454000e+03     74.000000   \n",
       "max    4.290259e+06  148011.000000  1.846641e+06  2.816444e+06  77255.000000   \n",
       "\n",
       "         New deaths  New recovered  \n",
       "count  35041.000000   35041.000000  \n",
       "mean      18.590508     271.163808  \n",
       "std      114.807722    2067.557128  \n",
       "min        0.000000       0.000000  \n",
       "25%        0.000000       0.000000  \n",
       "50%        0.000000       0.000000  \n",
       "75%        1.000000      20.000000  \n",
       "max     3887.000000  140050.000000  "
      ]
     },
     "execution_count": 29,
     "metadata": {},
     "output_type": "execute_result"
    }
   ],
   "source": [
    "new_data[col].describe()"
   ]
  },
  {
   "cell_type": "code",
   "execution_count": 31,
   "metadata": {},
   "outputs": [
    {
     "data": {
      "image/png": "[encoded data removed]",
      "text/plain": [
       "<Figure size 640x480 with 2 Axes>"
      ]
     },
     "metadata": {},
     "output_type": "display_data"
    }
   ],
   "source": [
    "plt.subplot(2,1,1)\n",
    "sns.boxplot(data= new_data[col[:4]])\n",
    "\n",
    "plt.subplot(2,1,2)\n",
    "sns.boxplot(data= new_data[col[-3:]])\n",
    "\n",
    "plt.show()"
   ]
  },
  {
   "cell_type": "code",
   "execution_count": 32,
   "metadata": {},
   "outputs": [],
   "source": [
    "for i in col:\n",
    "    lower,upper = calculating_iqr(new_data,i)\n",
    "    new_data[i] = new_data[i].apply(handle_outliers)"
   ]
  },
  {
   "cell_type": "code",
   "execution_count": 35,
   "metadata": {},
   "outputs": [
    {
     "data": {
      "image/png": "[encoded data removed]",
      "text/plain": [
       "<Figure size 640x480 with 2 Axes>"
      ]
     },
     "metadata": {},
     "output_type": "display_data"
    }
   ],
   "source": [
    "plt.subplot(2,1,1)\n",
    "sns.boxplot(data= new_data[col[:4]])\n",
    "\n",
    "plt.subplot(2,1,2)\n",
    "sns.boxplot(data= new_data[col[-3:]])\n",
    "\n",
    "plt.show()"
   ]
  },
  {
   "cell_type": "code",
   "execution_count": 39,
   "metadata": {},
   "outputs": [
    {
     "data": {
      "text/html": [
       "<div>\n",
       "<style scoped>\n",
       "    .dataframe tbody tr th:only-of-type {\n",
       "        vertical-align: middle;\n",
       "    }\n",
       "\n",
       "    .dataframe tbody tr th {\n",
       "        vertical-align: top;\n",
       "    }\n",
       "\n",
       "    .dataframe thead th {\n",
       "        text-align: right;\n",
       "    }\n",
       "</style>\n",
       "<table border=\"1\" class=\"dataframe\">\n",
       "  <thead>\n",
       "    <tr style=\"text-align: right;\">\n",
       "      <th></th>\n",
       "      <th>Date</th>\n",
       "      <th>Country/Region</th>\n",
       "      <th>Confirmed</th>\n",
       "      <th>Deaths</th>\n",
       "      <th>Recovered</th>\n",
       "      <th>Active</th>\n",
       "      <th>New cases</th>\n",
       "      <th>New deaths</th>\n",
       "      <th>New recovered</th>\n",
       "      <th>WHO Region</th>\n",
       "    </tr>\n",
       "  </thead>\n",
       "  <tbody>\n",
       "    <tr>\n",
       "      <th>0</th>\n",
       "      <td>2020-01-22</td>\n",
       "      <td>Afghanistan</td>\n",
       "      <td>0.0</td>\n",
       "      <td>0.0</td>\n",
       "      <td>0.0</td>\n",
       "      <td>0.0</td>\n",
       "      <td>0.0</td>\n",
       "      <td>0.0</td>\n",
       "      <td>0.0</td>\n",
       "      <td>Eastern Mediterranean</td>\n",
       "    </tr>\n",
       "    <tr>\n",
       "      <th>1</th>\n",
       "      <td>2020-01-22</td>\n",
       "      <td>Albania</td>\n",
       "      <td>0.0</td>\n",
       "      <td>0.0</td>\n",
       "      <td>0.0</td>\n",
       "      <td>0.0</td>\n",
       "      <td>0.0</td>\n",
       "      <td>0.0</td>\n",
       "      <td>0.0</td>\n",
       "      <td>Europe</td>\n",
       "    </tr>\n",
       "    <tr>\n",
       "      <th>2</th>\n",
       "      <td>2020-01-22</td>\n",
       "      <td>Algeria</td>\n",
       "      <td>0.0</td>\n",
       "      <td>0.0</td>\n",
       "      <td>0.0</td>\n",
       "      <td>0.0</td>\n",
       "      <td>0.0</td>\n",
       "      <td>0.0</td>\n",
       "      <td>0.0</td>\n",
       "      <td>Africa</td>\n",
       "    </tr>\n",
       "    <tr>\n",
       "      <th>3</th>\n",
       "      <td>2020-01-22</td>\n",
       "      <td>Andorra</td>\n",
       "      <td>0.0</td>\n",
       "      <td>0.0</td>\n",
       "      <td>0.0</td>\n",
       "      <td>0.0</td>\n",
       "      <td>0.0</td>\n",
       "      <td>0.0</td>\n",
       "      <td>0.0</td>\n",
       "      <td>Europe</td>\n",
       "    </tr>\n",
       "    <tr>\n",
       "      <th>4</th>\n",
       "      <td>2020-01-22</td>\n",
       "      <td>Angola</td>\n",
       "      <td>0.0</td>\n",
       "      <td>0.0</td>\n",
       "      <td>0.0</td>\n",
       "      <td>0.0</td>\n",
       "      <td>0.0</td>\n",
       "      <td>0.0</td>\n",
       "      <td>0.0</td>\n",
       "      <td>Africa</td>\n",
       "    </tr>\n",
       "  </tbody>\n",
       "</table>\n",
       "</div>"
      ],
      "text/plain": [
       "        Date Country/Region  Confirmed  Deaths  Recovered  Active  New cases  \\\n",
       "0 2020-01-22    Afghanistan        0.0     0.0        0.0     0.0        0.0   \n",
       "1 2020-01-22        Albania        0.0     0.0        0.0     0.0        0.0   \n",
       "2 2020-01-22        Algeria        0.0     0.0        0.0     0.0        0.0   \n",
       "3 2020-01-22        Andorra        0.0     0.0        0.0     0.0        0.0   \n",
       "4 2020-01-22         Angola        0.0     0.0        0.0     0.0        0.0   \n",
       "\n",
       "   New deaths  New recovered             WHO Region  \n",
       "0         0.0            0.0  Eastern Mediterranean  \n",
       "1         0.0            0.0                 Europe  \n",
       "2         0.0            0.0                 Africa  \n",
       "3         0.0            0.0                 Europe  \n",
       "4         0.0            0.0                 Africa  "
      ]
     },
     "execution_count": 39,
     "metadata": {},
     "output_type": "execute_result"
    }
   ],
   "source": [
    "new_data.head()"
   ]
  },
  {
   "cell_type": "code",
   "execution_count": 41,
   "metadata": {},
   "outputs": [
    {
     "data": {
      "text/html": [
       "<div>\n",
       "<style scoped>\n",
       "    .dataframe tbody tr th:only-of-type {\n",
       "        vertical-align: middle;\n",
       "    }\n",
       "\n",
       "    .dataframe tbody tr th {\n",
       "        vertical-align: top;\n",
       "    }\n",
       "\n",
       "    .dataframe thead th {\n",
       "        text-align: right;\n",
       "    }\n",
       "</style>\n",
       "<table border=\"1\" class=\"dataframe\">\n",
       "  <thead>\n",
       "    <tr style=\"text-align: right;\">\n",
       "      <th></th>\n",
       "      <th>Date</th>\n",
       "      <th>Country/Region</th>\n",
       "      <th>Confirmed</th>\n",
       "      <th>Deaths</th>\n",
       "      <th>Recovered</th>\n",
       "      <th>Active</th>\n",
       "      <th>New cases</th>\n",
       "      <th>New deaths</th>\n",
       "      <th>New recovered</th>\n",
       "      <th>WHO Region</th>\n",
       "    </tr>\n",
       "  </thead>\n",
       "  <tbody>\n",
       "    <tr>\n",
       "      <th>35151</th>\n",
       "      <td>2020-07-27</td>\n",
       "      <td>West Bank and Gaza</td>\n",
       "      <td>9056.0</td>\n",
       "      <td>78.0</td>\n",
       "      <td>3197.5</td>\n",
       "      <td>3635.0</td>\n",
       "      <td>152.0</td>\n",
       "      <td>2.0</td>\n",
       "      <td>0.0</td>\n",
       "      <td>Eastern Mediterranean</td>\n",
       "    </tr>\n",
       "    <tr>\n",
       "      <th>35152</th>\n",
       "      <td>2020-07-27</td>\n",
       "      <td>Western Sahara</td>\n",
       "      <td>10.0</td>\n",
       "      <td>1.0</td>\n",
       "      <td>8.0</td>\n",
       "      <td>1.0</td>\n",
       "      <td>0.0</td>\n",
       "      <td>0.0</td>\n",
       "      <td>0.0</td>\n",
       "      <td>Africa</td>\n",
       "    </tr>\n",
       "    <tr>\n",
       "      <th>35153</th>\n",
       "      <td>2020-07-27</td>\n",
       "      <td>Yemen</td>\n",
       "      <td>1691.0</td>\n",
       "      <td>195.0</td>\n",
       "      <td>833.0</td>\n",
       "      <td>375.0</td>\n",
       "      <td>10.0</td>\n",
       "      <td>2.5</td>\n",
       "      <td>36.0</td>\n",
       "      <td>Eastern Mediterranean</td>\n",
       "    </tr>\n",
       "    <tr>\n",
       "      <th>35154</th>\n",
       "      <td>2020-07-27</td>\n",
       "      <td>Zambia</td>\n",
       "      <td>4552.0</td>\n",
       "      <td>140.0</td>\n",
       "      <td>2815.0</td>\n",
       "      <td>1597.0</td>\n",
       "      <td>71.0</td>\n",
       "      <td>1.0</td>\n",
       "      <td>50.0</td>\n",
       "      <td>Africa</td>\n",
       "    </tr>\n",
       "    <tr>\n",
       "      <th>35155</th>\n",
       "      <td>2020-07-27</td>\n",
       "      <td>Zimbabwe</td>\n",
       "      <td>2704.0</td>\n",
       "      <td>36.0</td>\n",
       "      <td>542.0</td>\n",
       "      <td>2126.0</td>\n",
       "      <td>185.0</td>\n",
       "      <td>2.0</td>\n",
       "      <td>24.0</td>\n",
       "      <td>Africa</td>\n",
       "    </tr>\n",
       "  </tbody>\n",
       "</table>\n",
       "</div>"
      ],
      "text/plain": [
       "            Date      Country/Region  Confirmed  Deaths  Recovered  Active  \\\n",
       "35151 2020-07-27  West Bank and Gaza     9056.0    78.0     3197.5  3635.0   \n",
       "35152 2020-07-27      Western Sahara       10.0     1.0        8.0     1.0   \n",
       "35153 2020-07-27               Yemen     1691.0   195.0      833.0   375.0   \n",
       "35154 2020-07-27              Zambia     4552.0   140.0     2815.0  1597.0   \n",
       "35155 2020-07-27            Zimbabwe     2704.0    36.0      542.0  2126.0   \n",
       "\n",
       "       New cases  New deaths  New recovered             WHO Region  \n",
       "35151      152.0         2.0            0.0  Eastern Mediterranean  \n",
       "35152        0.0         0.0            0.0                 Africa  \n",
       "35153       10.0         2.5           36.0  Eastern Mediterranean  \n",
       "35154       71.0         1.0           50.0                 Africa  \n",
       "35155      185.0         2.0           24.0                 Africa  "
      ]
     },
     "execution_count": 41,
     "metadata": {},
     "output_type": "execute_result"
    }
   ],
   "source": [
    "new_data.tail()"
   ]
  },
  {
   "cell_type": "code",
   "execution_count": 43,
   "metadata": {},
   "outputs": [],
   "source": [
    "new_data['Total death'] = new_data['Deaths'] + new_data['New deaths']"
   ]
  },
  {
   "cell_type": "code",
   "execution_count": 45,
   "metadata": {},
   "outputs": [],
   "source": [
    "new_data['Total recovered'] = new_data['Recovered'] + new_data['New recovered']"
   ]
  },
  {
   "cell_type": "code",
   "execution_count": 47,
   "metadata": {},
   "outputs": [],
   "source": [
    "new_data['Total cases'] = new_data['Confirmed'] + new_data['New cases']"
   ]
  },
  {
   "cell_type": "code",
   "execution_count": 51,
   "metadata": {},
   "outputs": [
    {
     "data": {
      "image/png": "[encoded data removed]",
      "text/plain": [
       "<Figure size 640x480 with 1 Axes>"
      ]
     },
     "metadata": {},
     "output_type": "display_data"
    }
   ],
   "source": [
    "total = ['Total death', 'Total recovered', 'Total cases']\n",
    "plt.pie(new_data[total].sum(),labels = total,autopct = '%1.1F%%')\n",
    "plt.show()"
   ]
  },
  {
   "cell_type": "code",
   "execution_count": 63,
   "metadata": {},
   "outputs": [
    {
     "data": {
      "text/plain": [
       "array(['Eastern Mediterranean', 'Europe', 'Africa', 'Americas',\n",
       "       'Western Pacific', 'South-East Asia'], dtype=object)"
      ]
     },
     "execution_count": 63,
     "metadata": {},
     "output_type": "execute_result"
    }
   ],
   "source": [
    "new_data['WHO Region'].unique()"
   ]
  },
  {
   "cell_type": "code",
   "execution_count": 93,
   "metadata": {},
   "outputs": [
    {
     "data": {
      "text/plain": [
       "WHO Region\n",
       "Africa                   1046.708532\n",
       "Americas                 2336.305877\n",
       "Eastern Mediterranean    3084.405667\n",
       "Europe                   3381.282054\n",
       "South-East Asia          2206.663292\n",
       "Western Pacific          2709.891486\n",
       "Name: Total cases, dtype: float64"
      ]
     },
     "execution_count": 93,
     "metadata": {},
     "output_type": "execute_result"
    }
   ],
   "source": [
    "Total_cases_mean = new_data.groupby('WHO Region')['Total cases'].mean()\n",
    "Total_cases_mean"
   ]
  },
  {
   "cell_type": "code",
   "execution_count": 111,
   "metadata": {},
   "outputs": [
    {
     "data": {
      "image/png": "[encoded data removed]",
      "text/plain": [
       "<Figure size 640x480 with 1 Axes>"
      ]
     },
     "metadata": {},
     "output_type": "display_data"
    }
   ],
   "source": [
    "sns.barplot(x = Total_cases_mean.index,y = Total_cases_mean.values )\n",
    "plt.title('Mean of total cases for each WHO Region')\n",
    "plt.xlabel('WHO Region')\n",
    "plt.ylabel('Total cases')\n",
    "plt.show()"
   ]
  },
  {
   "cell_type": "code",
   "execution_count": 99,
   "metadata": {},
   "outputs": [
    {
     "data": {
      "text/plain": [
       "WHO Region\n",
       "Africa                   21.480972\n",
       "Americas                 51.897762\n",
       "Eastern Mediterranean    61.527610\n",
       "Europe                   75.822832\n",
       "South-East Asia          41.115344\n",
       "Western Pacific          45.995993\n",
       "Name: Total death, dtype: float64"
      ]
     },
     "execution_count": 99,
     "metadata": {},
     "output_type": "execute_result"
    }
   ],
   "source": [
    "Total_death_mean = new_data.groupby('WHO Region')['Total death'].mean()\n",
    "Total_death_mean"
   ]
  },
  {
   "cell_type": "code",
   "execution_count": 101,
   "metadata": {},
   "outputs": [
    {
     "data": {
      "image/png": "[encoded data removed]",
      "text/plain": [
       "<Figure size 640x480 with 1 Axes>"
      ]
     },
     "metadata": {},
     "output_type": "display_data"
    }
   ],
   "source": [
    "\n",
    "sns.barplot(x = Total_death_mean.index,y = Total_death_mean.values )\n",
    "plt.title('Mean of total deaths for each WHO Region')\n",
    "plt.xlabel('WHO Region')\n",
    "plt.ylabel('Total deaths')\n",
    "plt.show()"
   ]
  },
  {
   "cell_type": "code",
   "execution_count": 105,
   "metadata": {},
   "outputs": [
    {
     "data": {
      "text/plain": [
       "WHO Region\n",
       "Africa                    397.985188\n",
       "Americas                  711.464753\n",
       "Eastern Mediterranean    1063.043957\n",
       "Europe                   1125.405153\n",
       "South-East Asia           848.151305\n",
       "Western Pacific           951.948748\n",
       "Name: Total recovered, dtype: float64"
      ]
     },
     "execution_count": 105,
     "metadata": {},
     "output_type": "execute_result"
    }
   ],
   "source": [
    "Total_recovered_mean = new_data.groupby('WHO Region')['Total recovered'].mean()\n",
    "Total_recovered_mean"
   ]
  },
  {
   "cell_type": "code",
   "execution_count": 107,
   "metadata": {},
   "outputs": [
    {
     "data": {
      "image/png": "[encoded data removed]",
      "text/plain": [
       "<Figure size 640x480 with 1 Axes>"
      ]
     },
     "metadata": {},
     "output_type": "display_data"
    }
   ],
   "source": [
    "\n",
    "sns.barplot(x = Total_recovered_mean.index,y = Total_recovered_mean.values )\n",
    "plt.title('Mean of total recovered for each WHO Region')\n",
    "plt.xlabel('WHO Region')\n",
    "plt.ylabel('Total recovered')\n",
    "plt.show()"
   ]
  },
  {
   "cell_type": "markdown",
   "metadata": {},
   "source": [
    "From previous analysis we will find that:"
   ]
  },
  {
   "cell_type": "code",
   "execution_count": 113,
   "metadata": {},
   "outputs": [],
   "source": [
    "usa_county_wise_df = pd.read_csv('usa_county_wise.csv')"
   ]
  },
  {
   "cell_type": "code",
   "execution_count": 117,
   "metadata": {},
   "outputs": [
    {
     "data": {
      "text/html": [
       "<div>\n",
       "<style scoped>\n",
       "    .dataframe tbody tr th:only-of-type {\n",
       "        vertical-align: middle;\n",
       "    }\n",
       "\n",
       "    .dataframe tbody tr th {\n",
       "        vertical-align: top;\n",
       "    }\n",
       "\n",
       "    .dataframe thead th {\n",
       "        text-align: right;\n",
       "    }\n",
       "</style>\n",
       "<table border=\"1\" class=\"dataframe\">\n",
       "  <thead>\n",
       "    <tr style=\"text-align: right;\">\n",
       "      <th></th>\n",
       "      <th>UID</th>\n",
       "      <th>iso2</th>\n",
       "      <th>iso3</th>\n",
       "      <th>code3</th>\n",
       "      <th>FIPS</th>\n",
       "      <th>Admin2</th>\n",
       "      <th>Province_State</th>\n",
       "      <th>Country_Region</th>\n",
       "      <th>Lat</th>\n",
       "      <th>Long_</th>\n",
       "      <th>Combined_Key</th>\n",
       "      <th>Date</th>\n",
       "      <th>Confirmed</th>\n",
       "      <th>Deaths</th>\n",
       "    </tr>\n",
       "  </thead>\n",
       "  <tbody>\n",
       "    <tr>\n",
       "      <th>0</th>\n",
       "      <td>16</td>\n",
       "      <td>AS</td>\n",
       "      <td>ASM</td>\n",
       "      <td>16</td>\n",
       "      <td>60.0</td>\n",
       "      <td>NaN</td>\n",
       "      <td>American Samoa</td>\n",
       "      <td>US</td>\n",
       "      <td>-14.271000</td>\n",
       "      <td>-170.132000</td>\n",
       "      <td>American Samoa, US</td>\n",
       "      <td>1/22/20</td>\n",
       "      <td>0</td>\n",
       "      <td>0</td>\n",
       "    </tr>\n",
       "    <tr>\n",
       "      <th>1</th>\n",
       "      <td>316</td>\n",
       "      <td>GU</td>\n",
       "      <td>GUM</td>\n",
       "      <td>316</td>\n",
       "      <td>66.0</td>\n",
       "      <td>NaN</td>\n",
       "      <td>Guam</td>\n",
       "      <td>US</td>\n",
       "      <td>13.444300</td>\n",
       "      <td>144.793700</td>\n",
       "      <td>Guam, US</td>\n",
       "      <td>1/22/20</td>\n",
       "      <td>0</td>\n",
       "      <td>0</td>\n",
       "    </tr>\n",
       "    <tr>\n",
       "      <th>2</th>\n",
       "      <td>580</td>\n",
       "      <td>MP</td>\n",
       "      <td>MNP</td>\n",
       "      <td>580</td>\n",
       "      <td>69.0</td>\n",
       "      <td>NaN</td>\n",
       "      <td>Northern Mariana Islands</td>\n",
       "      <td>US</td>\n",
       "      <td>15.097900</td>\n",
       "      <td>145.673900</td>\n",
       "      <td>Northern Mariana Islands, US</td>\n",
       "      <td>1/22/20</td>\n",
       "      <td>0</td>\n",
       "      <td>0</td>\n",
       "    </tr>\n",
       "    <tr>\n",
       "      <th>3</th>\n",
       "      <td>63072001</td>\n",
       "      <td>PR</td>\n",
       "      <td>PRI</td>\n",
       "      <td>630</td>\n",
       "      <td>72001.0</td>\n",
       "      <td>Adjuntas</td>\n",
       "      <td>Puerto Rico</td>\n",
       "      <td>US</td>\n",
       "      <td>18.180117</td>\n",
       "      <td>-66.754367</td>\n",
       "      <td>Adjuntas, Puerto Rico, US</td>\n",
       "      <td>1/22/20</td>\n",
       "      <td>0</td>\n",
       "      <td>0</td>\n",
       "    </tr>\n",
       "    <tr>\n",
       "      <th>4</th>\n",
       "      <td>63072003</td>\n",
       "      <td>PR</td>\n",
       "      <td>PRI</td>\n",
       "      <td>630</td>\n",
       "      <td>72003.0</td>\n",
       "      <td>Aguada</td>\n",
       "      <td>Puerto Rico</td>\n",
       "      <td>US</td>\n",
       "      <td>18.360255</td>\n",
       "      <td>-67.175131</td>\n",
       "      <td>Aguada, Puerto Rico, US</td>\n",
       "      <td>1/22/20</td>\n",
       "      <td>0</td>\n",
       "      <td>0</td>\n",
       "    </tr>\n",
       "  </tbody>\n",
       "</table>\n",
       "</div>"
      ],
      "text/plain": [
       "        UID iso2 iso3  code3     FIPS    Admin2            Province_State  \\\n",
       "0        16   AS  ASM     16     60.0       NaN            American Samoa   \n",
       "1       316   GU  GUM    316     66.0       NaN                      Guam   \n",
       "2       580   MP  MNP    580     69.0       NaN  Northern Mariana Islands   \n",
       "3  63072001   PR  PRI    630  72001.0  Adjuntas               Puerto Rico   \n",
       "4  63072003   PR  PRI    630  72003.0    Aguada               Puerto Rico   \n",
       "\n",
       "  Country_Region        Lat       Long_                  Combined_Key  \\\n",
       "0             US -14.271000 -170.132000            American Samoa, US   \n",
       "1             US  13.444300  144.793700                      Guam, US   \n",
       "2             US  15.097900  145.673900  Northern Mariana Islands, US   \n",
       "3             US  18.180117  -66.754367     Adjuntas, Puerto Rico, US   \n",
       "4             US  18.360255  -67.175131       Aguada, Puerto Rico, US   \n",
       "\n",
       "      Date  Confirmed  Deaths  \n",
       "0  1/22/20          0       0  \n",
       "1  1/22/20          0       0  \n",
       "2  1/22/20          0       0  \n",
       "3  1/22/20          0       0  \n",
       "4  1/22/20          0       0  "
      ]
     },
     "execution_count": 117,
     "metadata": {},
     "output_type": "execute_result"
    }
   ],
   "source": [
    "usa_county_wise_df.head()"
   ]
  },
  {
   "cell_type": "code",
   "execution_count": 115,
   "metadata": {},
   "outputs": [
    {
     "name": "stdout",
     "output_type": "stream",
     "text": [
      "<class 'pandas.core.frame.DataFrame'>\n",
      "RangeIndex: 627920 entries, 0 to 627919\n",
      "Data columns (total 14 columns):\n",
      " #   Column          Non-Null Count   Dtype  \n",
      "---  ------          --------------   -----  \n",
      " 0   UID             627920 non-null  int64  \n",
      " 1   iso2            627920 non-null  object \n",
      " 2   iso3            627920 non-null  object \n",
      " 3   code3           627920 non-null  int64  \n",
      " 4   FIPS            626040 non-null  float64\n",
      " 5   Admin2          626792 non-null  object \n",
      " 6   Province_State  627920 non-null  object \n",
      " 7   Country_Region  627920 non-null  object \n",
      " 8   Lat             627920 non-null  float64\n",
      " 9   Long_           627920 non-null  float64\n",
      " 10  Combined_Key    627920 non-null  object \n",
      " 11  Date            627920 non-null  object \n",
      " 12  Confirmed       627920 non-null  int64  \n",
      " 13  Deaths          627920 non-null  int64  \n",
      "dtypes: float64(3), int64(4), object(7)\n",
      "memory usage: 67.1+ MB\n"
     ]
    }
   ],
   "source": [
    "usa_county_wise_df.info()"
   ]
  },
  {
   "cell_type": "code",
   "execution_count": 125,
   "metadata": {},
   "outputs": [],
   "source": [
    "usa_county_wise_df.drop('Admin2',axis = 1,inplace  = True)"
   ]
  },
  {
   "cell_type": "code",
   "execution_count": null,
   "metadata": {},
   "outputs": [],
   "source": []
  },
  {
   "cell_type": "code",
   "execution_count": null,
   "metadata": {},
   "outputs": [],
   "source": []
  },
  {
   "cell_type": "code",
   "execution_count": null,
   "metadata": {},
   "outputs": [],
   "source": []
  },
  {
   "cell_type": "code",
   "execution_count": null,
   "metadata": {},
   "outputs": [],
   "source": []
  },
  {
   "cell_type": "code",
   "execution_count": null,
   "metadata": {},
   "outputs": [],
   "source": []
  },
  {
   "cell_type": "code",
   "execution_count": null,
   "metadata": {},
   "outputs": [],
   "source": []
  },
  {
   "cell_type": "code",
   "execution_count": null,
   "metadata": {},
   "outputs": [],
   "source": [
    "df['Date'] = pd.to_datetime(df['Date'],format='%m/%d/%y')"
   ]
  },
  {
   "cell_type": "code",
   "execution_count": null,
   "metadata": {},
   "outputs": [],
   "source": []
  },
  {
   "cell_type": "code",
   "execution_count": null,
   "metadata": {},
   "outputs": [],
   "source": []
  },
  {
   "cell_type": "code",
   "execution_count": null,
   "metadata": {},
   "outputs": [],
   "source": []
  },
  {
   "cell_type": "code",
   "execution_count": null,
   "metadata": {},
   "outputs": [],
   "source": []
  },
  {
   "cell_type": "code",
   "execution_count": null,
   "metadata": {},
   "outputs": [],
   "source": []
  },
  {
   "cell_type": "code",
   "execution_count": null,
   "metadata": {},
   "outputs": [],
   "source": []
  },
  {
   "cell_type": "code",
   "execution_count": null,
   "metadata": {},
   "outputs": [],
   "source": []
  },
  {
   "cell_type": "code",
   "execution_count": null,
   "metadata": {},
   "outputs": [],
   "source": []
  },
  {
   "cell_type": "code",
   "execution_count": null,
   "metadata": {},
   "outputs": [],
   "source": []
  },
  {
   "cell_type": "code",
   "execution_count": null,
   "metadata": {},
   "outputs": [],
   "source": []
  },
  {
   "cell_type": "code",
   "execution_count": null,
   "metadata": {},
   "outputs": [],
   "source": []
  },
  {
   "cell_type": "code",
   "execution_count": null,
   "metadata": {},
   "outputs": [],
   "source": [
    "worldometer_data_df = pd.read_csv('worldometer_data.csv')"
   ]
  }
 ],
 "metadata": {
  "kaggle": {
   "accelerator": "none",
   "dataSources": [
    {
     "datasetId": 494766,
     "sourceId": 1402868,
     "sourceType": "datasetVersion"
    }
   ],
   "dockerImageVersionId": 30804,
   "isGpuEnabled": false,
   "isInternetEnabled": false,
   "language": "python",
   "sourceType": "notebook"
  },
  "kernelspec": {
   "display_name": "Python 3 (ipykernel)",
   "language": "python",
   "name": "python3"
  },
  "language_info": {
   "codemirror_mode": {
    "name": "ipython",
    "version": 3
   },
   "file_extension": ".py",
   "mimetype": "text/x-python",
   "name": "python",
   "nbconvert_exporter": "python",
   "pygments_lexer": "ipython3",
   "version": "3.11.5"
  }
 },
 "nbformat": 4,
 "nbformat_minor": 4
}
