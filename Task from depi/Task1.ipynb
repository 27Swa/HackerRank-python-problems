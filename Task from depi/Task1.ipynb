{
 "cells": [
  {
   "cell_type": "markdown",
   "metadata": {},
   "source": [
    "# Practice    \n",
    "# Enjoy^_^"
   ]
  },
  {
   "cell_type": "markdown",
   "metadata": {},
   "source": [
    "# 1. Python Flow Control"
   ]
  },
  {
   "cell_type": "markdown",
   "metadata": {},
   "source": [
    "## 1. Write a Python program to find those numbers which are divisible by 7 and multiples of 5, between 1500 and 2700 (both included). \n",
    "\n",
    "\n",
    "\n"
   ]
  },
  {
   "cell_type": "code",
   "execution_count": 3,
   "metadata": {},
   "outputs": [
    {
     "name": "stdout",
     "output_type": "stream",
     "text": [
      "[1505, 1540, 1575, 1610, 1645, 1680, 1715, 1750, 1785, 1820, 1855, 1890, 1925, 1960, 1995, 2030, 2065, 2100, 2135, 2170, 2205, 2240, 2275, 2310, 2345, 2380, 2415, 2450, 2485, 2520, 2555, 2590, 2625, 2660, 2695]\n"
     ]
    }
   ],
   "source": [
    "start = 1500\n",
    "end = 2700 + 1\n",
    "numbers = list()\n",
    "for i in range (start,end):\n",
    "    if i % 7 == 0 and i % 5 ==0:\n",
    "        numbers.append(i)\n",
    "print(numbers)"
   ]
  },
  {
   "cell_type": "code",
   "execution_count": 7,
   "metadata": {},
   "outputs": [
    {
     "name": "stdout",
     "output_type": "stream",
     "text": [
      "[1505, 1540, 1575, 1610, 1645, 1680, 1715, 1750, 1785, 1820, 1855, 1890, 1925, 1960, 1995, 2030, 2065, 2100, 2135, 2170, 2205, 2240, 2275, 2310, 2345, 2380, 2415, 2450, 2485, 2520, 2555, 2590, 2625, 2660, 2695]\n"
     ]
    }
   ],
   "source": [
    "# another solution \n",
    "div = 5*7\n",
    "lst = list()\n",
    "for i in range (start,end):\n",
    "    if i % div == 0:\n",
    "        lst.append(i)\n",
    "print(lst)"
   ]
  },
  {
   "cell_type": "markdown",
   "metadata": {},
   "source": [
    "The output should be like this:\n",
    "```\n",
    "['1505', '1540', '1575', '1610', '1645', '1680', '1715', '1750', '1785', '1820', '1855',\n",
    "'1890', '1925', '1960', '1995', '2030', '2065', '2100', '2135', '2170', '2205', '2240', '2275', '2310',\n",
    "'2345', '2380', '2415', '2450', '2485', '2520', '2555', '2590', '2625', '2660', '2695']\n",
    "```"
   ]
  },
  {
   "cell_type": "markdown",
   "metadata": {},
   "source": [
    "## 2. Write a Python program to guess a number between 1 and 9.\n",
    "Note : User is prompted to enter a guess. If the user guesses wrong then the prompt appears again until the guess is correct, on successful guess, user will get a \"Well guessed!\" message, and the program will exit."
   ]
  },
  {
   "cell_type": "code",
   "execution_count": 9,
   "metadata": {},
   "outputs": [],
   "source": [
    "import random"
   ]
  },
  {
   "cell_type": "code",
   "execution_count": 13,
   "metadata": {},
   "outputs": [
    {
     "name": "stdin",
     "output_type": "stream",
     "text": [
      "guess a number between 1 and 9 1\n"
     ]
    },
    {
     "name": "stdout",
     "output_type": "stream",
     "text": [
      "Try Again >:\n"
     ]
    },
    {
     "name": "stdin",
     "output_type": "stream",
     "text": [
      "guess a number between 1 and 9 1\n"
     ]
    },
    {
     "name": "stdout",
     "output_type": "stream",
     "text": [
      "Congratulations <: ^3\n"
     ]
    }
   ],
   "source": [
    "while True:\n",
    "    num = int(input(\"guess a number between 1 and 9\"))\n",
    "    rd = random.randint(1,9) \n",
    "    if num == rd:\n",
    "        print(\"Congratulations <: ^3\")\n",
    "        break;\n",
    "    else:\n",
    "        print(\"Try Again >:\")"
   ]
  },
  {
   "cell_type": "markdown",
   "metadata": {},
   "source": [
    "## sample result: \n",
    " ```\n",
    " Try Again 1\n",
    " Try Again 2\n",
    " Try Again 3\n",
    " Congratultions ^^ 3\n",
    " ```"
   ]
  },
  {
   "cell_type": "markdown",
   "metadata": {},
   "source": [
    "## 3. Write a Python program that prints all the numbers from 0 to 6 except 3 and 6.\n",
    "Note : Use 'continue' statement.\n",
    "Expected Output : 0 1 2 4 5 \n"
   ]
  },
  {
   "cell_type": "code",
   "execution_count": 19,
   "metadata": {},
   "outputs": [
    {
     "name": "stdout",
     "output_type": "stream",
     "text": [
      "0 1 2 4 5 "
     ]
    }
   ],
   "source": [
    "i = -1\n",
    "while i < 6:\n",
    "    i += 1\n",
    "    if i % 3 == 0 and i != 0: \n",
    "        continue\n",
    "    print(i,end = \" \")\n",
    "    "
   ]
  },
  {
   "cell_type": "markdown",
   "metadata": {},
   "source": [
    "## 4. Write a Python program to construct the following pattern, using a nested for loop.\n",
    "```\n",
    "* \n",
    "* * \n",
    "* * * \n",
    "* * * * \n",
    "* * * * * \n",
    "* * * * \n",
    "* * * \n",
    "* * \n",
    "*\n",
    "```"
   ]
  },
  {
   "cell_type": "code",
   "execution_count": 11,
   "metadata": {},
   "outputs": [
    {
     "name": "stdout",
     "output_type": "stream",
     "text": [
      "\n",
      "* \n",
      "* * \n",
      "* * * \n",
      "* * * * \n",
      "* * * * * \n",
      "* * * * \n",
      "* * * \n",
      "* * \n",
      "* \n",
      "\n"
     ]
    }
   ],
   "source": [
    "for i in range (6):\n",
    "    for j in range(i):\n",
    "        print('* ',end = '')\n",
    "    print()\n",
    "for i in range (4,-1,-1):\n",
    "    for j in range(i):\n",
    "        print('* ',end = '')   \n",
    "    print()\n",
    "    "
   ]
  },
  {
   "cell_type": "code",
   "execution_count": 27,
   "metadata": {},
   "outputs": [
    {
     "name": "stdin",
     "output_type": "stream",
     "text": [
      "Enter the length of the height you want 6\n"
     ]
    },
    {
     "name": "stdout",
     "output_type": "stream",
     "text": [
      "* \n",
      "* * \n",
      "* * * \n",
      "* * * * \n",
      "* * * * * \n",
      "* * * * * * \n",
      "* * * * * \n",
      "* * * * \n",
      "* * * \n",
      "* * \n",
      "* \n"
     ]
    }
   ],
   "source": [
    "# Another solution\n",
    "num = int(input(\"Enter the length of the height you want\"))\n",
    "for i in range(0,2):\n",
    "    if i == 0:\n",
    "        start = 1\n",
    "        end = num + 1\n",
    "        step = 1\n",
    "    else:\n",
    "        start = num - 1\n",
    "        end =  0\n",
    "        step = -1\n",
    "    for j in range(start,end,step):\n",
    "        print(j*'* ')"
   ]
  },
  {
   "cell_type": "markdown",
   "metadata": {},
   "source": [
    "Make this shape:\n",
    "```\n",
    "         * \n",
    "        * * \n",
    "       * * * \n",
    "      * * * * \n",
    "     * * * * * \n",
    "    * * * * * * \n",
    "  * * * * * * * * \n",
    "   * * * * * * * \n",
    "    * * * * * * \n",
    "     * * * * * \n",
    "      * * * * \n",
    "       * * * \n",
    "        * * \n",
    "```"
   ]
  },
  {
   "cell_type": "code",
   "execution_count": 49,
   "metadata": {},
   "outputs": [
    {
     "name": "stdin",
     "output_type": "stream",
     "text": [
      "Enter the number  8\n"
     ]
    },
    {
     "name": "stdout",
     "output_type": "stream",
     "text": [
      "       * \n",
      "      * * \n",
      "     * * * \n",
      "    * * * * \n",
      "   * * * * * \n",
      "  * * * * * * \n",
      " * * * * * * * \n",
      "* * * * * * * * \n",
      " * * * * * * * \n",
      "  * * * * * * \n",
      "   * * * * * \n",
      "    * * * * \n",
      "     * * * \n",
      "      * * \n"
     ]
    }
   ],
   "source": [
    "num1 = int(input(\"Enter the number \"))\n",
    "for j in range(0,2):\n",
    "    if j == 0:\n",
    "        start = 1\n",
    "        end = num1 + 1\n",
    "        step = 1\n",
    "    else:\n",
    "        start = num1 - 1\n",
    "        end = 1\n",
    "        step = -1\n",
    "    for i in range(start, end,step):\n",
    "        x = (num1 - i)\n",
    "        print((x * \" \" + (i * \"* \")))"
   ]
  },
  {
   "cell_type": "code",
   "execution_count": 30,
   "metadata": {},
   "outputs": [
    {
     "name": "stdout",
     "output_type": "stream",
     "text": [
      "        \n",
      "       * \n",
      "      * * \n",
      "     * * * \n",
      "    * * * * \n",
      "   * * * * * \n",
      "  * * * * * * \n",
      " * * * * * * * \n",
      "* * * * * * * * \n",
      " * * * * * * * \n",
      "  * * * * * * \n",
      "   * * * * * \n",
      "    * * * * \n",
      "     * * * \n",
      "      * * \n"
     ]
    }
   ],
   "source": [
    "# Another solution\n",
    "for i in range (9):\n",
    "    for x in range(8 - i):\n",
    "        print(\" \",end = '')\n",
    "    for j in range(i):\n",
    "        print('* ',end = '')\n",
    "    print()\n",
    "for i in range (7,1,-1):\n",
    "    for x in range(0,(8 - i)):\n",
    "            print(\" \",end = '')\n",
    "    for j in range(i):\n",
    "         print('* ',end = '')   \n",
    "    print()"
   ]
  },
  {
   "cell_type": "markdown",
   "metadata": {},
   "source": [
    "## 5. Write a Python program that accepts a word from the user and reverses it. \n",
    "\n"
   ]
  },
  {
   "cell_type": "code",
   "execution_count": 53,
   "metadata": {},
   "outputs": [
    {
     "name": "stdin",
     "output_type": "stream",
     "text": [
      "Enter the word you want to reverse:  hello\n"
     ]
    },
    {
     "name": "stdout",
     "output_type": "stream",
     "text": [
      "olleh"
     ]
    }
   ],
   "source": [
    "word = input(\"Enter the word you want to reverse: \")\n",
    "for i in range(len(word) - 1,-1,-1):\n",
    "    print(word[i],end = '')"
   ]
  },
  {
   "cell_type": "markdown",
   "metadata": {},
   "source": [
    "## 6. Write a Python program to count the number of even and odd numbers in a series of numbers\n",
    "Sample numbers : numbers = (1, 2, 3, 4, 5, 6, 7, 8, 9) \n",
    "\n",
    "Expected Output :\n",
    "\n",
    "Number of even numbers : 4\n",
    "\n",
    "Number of odd numbers : 5"
   ]
  },
  {
   "cell_type": "code",
   "execution_count": 62,
   "metadata": {},
   "outputs": [
    {
     "name": "stdout",
     "output_type": "stream",
     "text": [
      "Number of even numbers: 4\n",
      "\n",
      "Number of odd numbers: 5\n"
     ]
    }
   ],
   "source": [
    "numbers = (1, 2, 3, 4, 5, 6, 7, 8, 9)\n",
    "even_count = 0\n",
    "odd_count = 0\n",
    "for i in numbers:\n",
    "    if i % 2 == 0:\n",
    "        even_count += 1\n",
    "    else:\n",
    "        odd_count += 1\n",
    "print(f\"Number of even numbers: {even_count}\")\n",
    "print()\n",
    "print(f\"Number of odd numbers: {odd_count}\")"
   ]
  },
  {
   "cell_type": "markdown",
   "metadata": {},
   "source": [
    "## 7. Write a Python program to print the the first alphabet pattern 'A-Z' in your name .\n",
    "for example  Expected Output:\n",
    "\n",
    "\n",
    "```\n",
    "  ***                                                                   \n",
    " *   *                                                                  \n",
    " *   *                                                                  \n",
    " *****                                                                  \n",
    " *   *                                                                  \n",
    " *   *                                                                  \n",
    " *   *\n",
    "```"
   ]
  },
  {
   "cell_type": "markdown",
   "metadata": {},
   "source": [
    "sondos \n",
    "```\n",
    "*******\n",
    "*     \n",
    "*\n",
    "*******\n",
    "      *\n",
    "      *\n",
    "*******\n",
    "```"
   ]
  },
  {
   "cell_type": "code",
   "execution_count": 67,
   "metadata": {},
   "outputs": [
    {
     "name": "stdout",
     "output_type": "stream",
     "text": [
      "*******\n",
      "*\n",
      "*\n",
      "*******\n",
      "      *\n",
      "      *\n",
      "*******\n"
     ]
    }
   ],
   "source": [
    "for i in range(7):\n",
    "    if i % 3 ==0:\n",
    "        print('*' * 7)\n",
    "    elif i > 3:\n",
    "        print(' '*6 + '*')\n",
    "    else:\n",
    "        print('*')    "
   ]
  },
  {
   "cell_type": "markdown",
   "metadata": {},
   "source": [
    "## 8.  Write a Python program to construct the following pattern, using a nested loop number.\n",
    "Expected Output:\n",
    "\n",
    "\n",
    "``\n",
    "1\n",
    "22\n",
    "333\n",
    "4444\n",
    "55555\n",
    "666666\n",
    "7777777\n",
    "88888888\n",
    "999999999\n",
    "``"
   ]
  },
  {
   "cell_type": "code",
   "execution_count": 92,
   "metadata": {},
   "outputs": [
    {
     "name": "stdout",
     "output_type": "stream",
     "text": [
      "1 22 333 4444 55555 666666 7777777 88888888 999999999 "
     ]
    }
   ],
   "source": [
    "for i in range(1,10):\n",
    "    j = i\n",
    "    while j > 0:\n",
    "        print(i, end = '')\n",
    "        j -= 1\n",
    "    print(\" \",end = '')"
   ]
  },
  {
   "cell_type": "code",
   "execution_count": 72,
   "metadata": {},
   "outputs": [
    {
     "name": "stdout",
     "output_type": "stream",
     "text": [
      "1 22 333 4444 55555 666666 7777777 88888888 999999999 "
     ]
    }
   ],
   "source": [
    "for i in range(1,10):\n",
    "   print(i * f'{i}',end = \" \") "
   ]
  },
  {
   "cell_type": "markdown",
   "metadata": {},
   "source": [
    "## 9. Write a Python program to create the multiplication table (from 1 to 10) of a number.\n",
    "Expected Output:\n",
    "\n",
    "Input a number: 6                                                       \n",
    "6 x 1 = 6                                                               \n",
    "6 x 2 = 12                                                              \n",
    "6 x 3 = 18                                                              \n",
    "6 x 4 = 24                                                              \n",
    "6 x 5 = 30                                                              \n",
    "6 x 6 = 36                                                              \n",
    "6 x 7 = 42                                                              \n",
    "6 x 8 = 48                                                              \n",
    "6 x 9 = 54                                                              \n",
    "6 x 10 = 60 \n"
   ]
  },
  {
   "cell_type": "code",
   "execution_count": 98,
   "metadata": {},
   "outputs": [
    {
     "name": "stdin",
     "output_type": "stream",
     "text": [
      "Enter a number you want to get its multiplication table 6\n"
     ]
    },
    {
     "name": "stdout",
     "output_type": "stream",
     "text": [
      "6 x 1 = 6\n",
      "6 x 2 = 12\n",
      "6 x 3 = 18\n",
      "6 x 4 = 24\n",
      "6 x 5 = 30\n",
      "6 x 6 = 36\n",
      "6 x 7 = 42\n",
      "6 x 8 = 48\n",
      "6 x 9 = 54\n",
      "6 x 10 = 60\n"
     ]
    }
   ],
   "source": [
    "mul_num = int(input(\"Enter a number you want to get its multiplication table\"))\n",
    "mul = 1\n",
    "while mul <= 10:\n",
    "    print(f\"{mul_num} x {mul} = {mul_num * mul}\")\n",
    "    mul += 1"
   ]
  },
  {
   "cell_type": "markdown",
   "metadata": {},
   "source": [
    "## 10. Write a Python program to calculate the sum and average of n integer numbers (input from the user). Input 0 to finish."
   ]
  },
  {
   "cell_type": "code",
   "execution_count": 106,
   "metadata": {},
   "outputs": [
    {
     "name": "stdin",
     "output_type": "stream",
     "text": [
      "Enter a number, if you have entered the numbers you want to get its average enter 0 3\n",
      "Enter a number, if you have entered the numbers you want to get its average enter 0 3\n",
      "Enter a number, if you have entered the numbers you want to get its average enter 0 3\n",
      "Enter a number, if you have entered the numbers you want to get its average enter 0 3\n",
      "Enter a number, if you have entered the numbers you want to get its average enter 0 0\n"
     ]
    },
    {
     "name": "stdout",
     "output_type": "stream",
     "text": [
      "The average of numbers you have just entered 3.0\n"
     ]
    }
   ],
   "source": [
    "avg_lst = []\n",
    "while True:\n",
    "    inp = int(input(\"Enter a number, if you have entered the numbers you want to get its average enter 0\"))\n",
    "    if inp == 0:\n",
    "        break\n",
    "    avg_lst.append(inp)\n",
    "numerator = 0\n",
    "for i in avg_lst:\n",
    "    numerator += i\n",
    "print(f\"The average of numbers you have just entered {numerator / len(avg_lst)}\")"
   ]
  },
  {
   "cell_type": "markdown",
   "metadata": {},
   "source": [
    "# 11-Python Program to Print the Fibonacci sequence\n",
    "\n",
    "The Fibonacci numbers are the numbers in the following integer sequence. 0, 1, 1, 2, 3, 5, 8, 13, 21, 34, 55, 89, 144, â€¦â€¦.. In mathematical terms, the sequence Fn of Fibonacci numbers is defined by the recurrence relation.\n"
   ]
  },
  {
   "cell_type": "code",
   "execution_count": 115,
   "metadata": {},
   "outputs": [
    {
     "name": "stdin",
     "output_type": "stream",
     "text": [
      "enter the index you want to stop at:  7\n"
     ]
    },
    {
     "name": "stdout",
     "output_type": "stream",
     "text": [
      "0 1 1 2 3 5 8 "
     ]
    }
   ],
   "source": [
    "f0 = 0\n",
    "f1 = 1\n",
    "n = int(input(\"enter the index you want to stop at: \"))\n",
    "if n == 0:\n",
    "  print(f0)\n",
    "elif n == 1:\n",
    "  print(f1)\n",
    "else:\n",
    "  print(f0,end = \" \")\n",
    "  print(f1,end = \" \")\n",
    "  for i in range(2,n):\n",
    "    f2 = f0 + f1\n",
    "    f0 = f1\n",
    "    f1 = f2\n",
    "    print(f2,end = \" \")"
   ]
  },
  {
   "cell_type": "markdown",
   "metadata": {},
   "source": [
    "# Finding the Maximum Value in a List"
   ]
  },
  {
   "cell_type": "code",
   "execution_count": 117,
   "metadata": {},
   "outputs": [
    {
     "name": "stdout",
     "output_type": "stream",
     "text": [
      "11\n"
     ]
    }
   ],
   "source": [
    "numbers = [1,2,6,3,9,11,8,4]\n",
    "max  = numbers[0]\n",
    "for number in numbers:\n",
    "  if number > max:\n",
    "    max = number\n",
    "print(max)"
   ]
  },
  {
   "cell_type": "markdown",
   "metadata": {},
   "source": [
    "# Counting Vowels in a String"
   ]
  },
  {
   "cell_type": "code",
   "execution_count": 119,
   "metadata": {},
   "outputs": [
    {
     "name": "stdout",
     "output_type": "stream",
     "text": [
      "3\n"
     ]
    }
   ],
   "source": [
    "word = \"hello world\"\n",
    "vowels = ['a','e','i','o','u']\n",
    "cnt = 0\n",
    "for i in word:\n",
    "  if i in vowels:\n",
    "    cnt += 1\n",
    "print(cnt)"
   ]
  },
  {
   "cell_type": "markdown",
   "metadata": {},
   "source": [
    "# Finding Prime Numbers within a Range"
   ]
  },
  {
   "cell_type": "code",
   "execution_count": 123,
   "metadata": {},
   "outputs": [
    {
     "name": "stdin",
     "output_type": "stream",
     "text": [
      "enter the start of the range:  2\n",
      "enter the end of the range:  19\n"
     ]
    },
    {
     "name": "stdout",
     "output_type": "stream",
     "text": [
      "Prime numbers are: \n",
      "2 3 5 7 11 13 17 19 "
     ]
    }
   ],
   "source": [
    "start_range = int(input(\"enter the start of the range: \"))\n",
    "end_range = int(input(\"enter the end of the range: \"))\n",
    "prime_num = []\n",
    "for j in range(start_range,end_range + 1):\n",
    "    for i in range(2,j):\n",
    "      if j % i == 0:\n",
    "        break\n",
    "    else:\n",
    "      prime_num.append(j)\n",
    "print(\"Prime numbers are: \")\n",
    "for i in prime_num:\n",
    "    print(i,end = ' ')"
   ]
  },
  {
   "cell_type": "markdown",
   "metadata": {},
   "source": [
    "# A Program that Simulating a Basic ATM Withdrawal"
   ]
  },
  {
   "cell_type": "code",
   "execution_count": 127,
   "metadata": {},
   "outputs": [
    {
     "name": "stdin",
     "output_type": "stream",
     "text": [
      "Enter your balance:  1000\n",
      "Do you want to apply with draw? (y/n):  n\n"
     ]
    },
    {
     "name": "stdout",
     "output_type": "stream",
     "text": [
      "Thanks for using our system\n"
     ]
    }
   ],
   "source": [
    "number  = float(input(\"Enter your balance: \"))\n",
    "while number < 0:\n",
    "  print(\"Balance can't be negative !!!\")\n",
    "  number = float(input(\"Enter your balance: \"))\n",
    "apply_operation = input(\"Do you want to apply with draw? (y/n): \")\n",
    "while apply_operation != 'y' and apply_operation != 'Y' and apply_operation != 'n' and apply_operation != 'N' :\n",
    "  print(\"invalid input!!!\")\n",
    "  apply_operation = input(\"Do you want to apply with draw? (y/n):\")\n",
    "if apply_operation == \"y\" or apply_operation == \"Y\":\n",
    "  apply_operation = True\n",
    "else:\n",
    "  apply_operation = False\n",
    "conditions = number > 0 and apply_operation\n",
    "while conditions:\n",
    "  amount = float(input(\"Enter your amount you want to withdraw\"))\n",
    "  if amount < number:\n",
    "    number -= amount\n",
    "    print(\"Your new balance is: \",number)\n",
    "  else:\n",
    "    print(\"Insufficient balance\")\n",
    "  apply_operation = input(\"Do you want to apply with draw? (y/n): \")\n",
    "  if apply_operation == \"y\" or apply_operation == \"Y\":\n",
    "    apply_operation = True\n",
    "  elif apply_operation == \"n\" or apply_operation == \"N\":\n",
    "    apply_operation = False\n",
    "  else:\n",
    "    print(\"invalid input!!!, The system will be closed\")\n",
    "    break\n",
    "else:\n",
    "  print(\"Thanks for using our system\")"
   ]
  },
  {
   "cell_type": "markdown",
   "metadata": {},
   "source": [
    "# Finding Common Elements in Two Lists"
   ]
  },
  {
   "cell_type": "code",
   "execution_count": 131,
   "metadata": {},
   "outputs": [
    {
     "name": "stdout",
     "output_type": "stream",
     "text": [
      "{8, 5, 6, 7}\n"
     ]
    }
   ],
   "source": [
    "l1 = [1,2,3,4,5,6,7,8]\n",
    "l2 = [5,6,7,8,9,10,11,12,13,14]\n",
    "l1 = set(l1)\n",
    "l2 = set(l2)\n",
    "print(l1 & l2)"
   ]
  },
  {
   "cell_type": "markdown",
   "metadata": {},
   "source": [
    "# Calculating Factorial of a Number"
   ]
  },
  {
   "cell_type": "code",
   "execution_count": 133,
   "metadata": {},
   "outputs": [
    {
     "name": "stdin",
     "output_type": "stream",
     "text": [
      "Enter the number you want to get its factorial 4\n"
     ]
    },
    {
     "name": "stdout",
     "output_type": "stream",
     "text": [
      "24\n"
     ]
    }
   ],
   "source": [
    "fact = int(input(\"Enter the number you want to get its factorial\"))\n",
    "res = 1\n",
    "for i in range (2,fact+1):\n",
    "    res *= i\n",
    "print(res)"
   ]
  },
  {
   "cell_type": "markdown",
   "metadata": {},
   "source": [
    "# Validating User Input with While Loop"
   ]
  },
  {
   "cell_type": "code",
   "execution_count": 1,
   "metadata": {},
   "outputs": [
    {
     "name": "stdin",
     "output_type": "stream",
     "text": [
      "Please write your weight 6\n"
     ]
    },
    {
     "name": "stdout",
     "output_type": "stream",
     "text": [
      "Invalid input!!!\n"
     ]
    },
    {
     "name": "stdin",
     "output_type": "stream",
     "text": [
      "Please write your weight 25\n"
     ]
    }
   ],
   "source": [
    "# The condition will be:\n",
    "# enter the user weight \n",
    "# it will be part of workout application\n",
    "while True:\n",
    "    weight = float(input(\"Please write your weight\"))\n",
    "    if weight < 25:\n",
    "        print(\"Invalid input!!!\")\n",
    "    else:\n",
    "        break"
   ]
  },
  {
   "cell_type": "code",
   "execution_count": null,
   "metadata": {},
   "outputs": [],
   "source": [
    "# Another condition is to enter the first number in numbers that the summation of its digits is 2\n",
    "# the answer is 11 \n",
    "while True:\n",
    "    weight = float(input(\"Please the first number in numbers that the summation of its digits is 2\"))\n",
    "    if weight != 11 :\n",
    "        print(\"Invalid input!!!\")\n",
    "    else:\n",
    "        break"
   ]
  },
  {
   "cell_type": "markdown",
   "metadata": {},
   "source": [
    "# Finding the Sum of Digits of a Number"
   ]
  },
  {
   "cell_type": "code",
   "execution_count": 148,
   "metadata": {},
   "outputs": [
    {
     "name": "stdin",
     "output_type": "stream",
     "text": [
      "Enter the number you want to get sum of its digits: 10\n"
     ]
    },
    {
     "name": "stdout",
     "output_type": "stream",
     "text": [
      "The sum of digits of the number you have just entered = 1\n"
     ]
    }
   ],
   "source": [
    "sum_d_num = int(input(\"Enter the number you want to get sum of its digits:\"))\n",
    "sum_dig = 0\n",
    "while sum_d_num != 0:\n",
    "    sum_dig += (sum_d_num % 10)\n",
    "    sum_d_num //= 10\n",
    "print(f\"The sum of digits of the number you have just entered = {sum_dig}\")"
   ]
  },
  {
   "cell_type": "markdown",
   "metadata": {},
   "source": [
    "# Checking for Palindrome Strings"
   ]
  },
  {
   "cell_type": "code",
   "execution_count": 172,
   "metadata": {},
   "outputs": [
    {
     "name": "stdin",
     "output_type": "stream",
     "text": [
      "Enter the number you want to check if it is palindrome adf\n"
     ]
    },
    {
     "name": "stdout",
     "output_type": "stream",
     "text": [
      "Not a palindrome string\n"
     ]
    }
   ],
   "source": [
    "o_str = input(\"Enter the number you want to check if it is palindrome\")\n",
    "r_str = o_str[::-1]\n",
    "if o_str == r_str:\n",
    "    print(\"Palindrome string\")\n",
    "else:\n",
    "    print(\"Not a palindrome string\")"
   ]
  },
  {
   "cell_type": "markdown",
   "metadata": {},
   "source": [
    "# Creating a Dictionary from Two Lists"
   ]
  },
  {
   "cell_type": "code",
   "execution_count": 150,
   "metadata": {},
   "outputs": [
    {
     "name": "stdout",
     "output_type": "stream",
     "text": [
      "{1: 1000, 2: 1222, 3: 3444, 4: 12212, 5: 66111, 6: 12345}\n"
     ]
    }
   ],
   "source": [
    "ids = [1,2,3,4,5,6]\n",
    "salary = [1000,1222,3444,12212,66111,12345]\n",
    "dic = dict()\n",
    "for i in range(6):\n",
    "    dic[ids[i]] = salary[i]\n",
    "print(dic)"
   ]
  },
  {
   "cell_type": "markdown",
   "metadata": {},
   "source": [
    "# Simulating a Simple Password Check"
   ]
  },
  {
   "cell_type": "code",
   "execution_count": 160,
   "metadata": {},
   "outputs": [
    {
     "name": "stdin",
     "output_type": "stream",
     "text": [
      "Enter the password of your account 1234\n"
     ]
    },
    {
     "name": "stdout",
     "output_type": "stream",
     "text": [
      "Invalid password, please try again later\n"
     ]
    }
   ],
   "source": [
    "passw = \"123456789\"\n",
    "check = input(\"Enter the password of your account\")\n",
    "if passw == check:\n",
    "    print(\"You have entered the password succesfully, few minutes to go to your account\")\n",
    "else:\n",
    "    print(\"Invalid password, please try again later\")"
   ]
  },
  {
   "cell_type": "markdown",
   "metadata": {},
   "source": [
    "# Generating a Multiplication Table for a Given Number"
   ]
  },
  {
   "cell_type": "code",
   "execution_count": 168,
   "metadata": {},
   "outputs": [
    {
     "name": "stdin",
     "output_type": "stream",
     "text": [
      "Enter the number 3\n",
      "The number to stop at 10\n"
     ]
    },
    {
     "name": "stdout",
     "output_type": "stream",
     "text": [
      "3 x 1 = 3\n",
      "3 x 2 = 6\n",
      "3 x 3 = 9\n",
      "3 x 4 = 12\n",
      "3 x 5 = 15\n",
      "3 x 6 = 18\n",
      "3 x 7 = 21\n",
      "3 x 8 = 24\n",
      "3 x 9 = 27\n",
      "3 x 10 = 30\n"
     ]
    }
   ],
   "source": [
    "m = int(input(\"Enter the number\"))\n",
    "e = int(input(\"The number to stop at\"))\n",
    "for i in range(1,e+1):\n",
    "    print(f\"{m} x {i} = {m*i}\")"
   ]
  }
 ],
 "metadata": {
  "kernelspec": {
   "display_name": "Python 3 (ipykernel)",
   "language": "python",
   "name": "python3"
  },
  "language_info": {
   "codemirror_mode": {
    "name": "ipython",
    "version": 3
   },
   "file_extension": ".py",
   "mimetype": "text/x-python",
   "name": "python",
   "nbconvert_exporter": "python",
   "pygments_lexer": "ipython3",
   "version": "3.11.5"
  }
 },
 "nbformat": 4,
 "nbformat_minor": 4
}
