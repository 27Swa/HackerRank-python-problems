{
 "cells": [
  {
   "cell_type": "markdown",
   "metadata": {},
   "source": [
    "# Practice    \n",
    "# Enjoy^_^"
   ]
  },
  {
   "cell_type": "markdown",
   "metadata": {},
   "source": [
    "#### Calculating Average of Numbers Using Functions"
   ]
  },
  {
   "cell_type": "code",
   "execution_count": 4,
   "metadata": {},
   "outputs": [],
   "source": [
    "def avg(num):\n",
    "    avg = sum(num)\n",
    "    return avg / len(num)"
   ]
  },
  {
   "cell_type": "markdown",
   "metadata": {},
   "source": [
    "#### Finding the Longest Word in a List"
   ]
  },
  {
   "cell_type": "code",
   "execution_count": 6,
   "metadata": {},
   "outputs": [],
   "source": [
    "def longest_word(st):\n",
    "    max_len = 0\n",
    "    val = \"\"\n",
    "    for i in st:\n",
    "        if len(i) > max_len:\n",
    "            max_len = len(i)\n",
    "            val = i\n",
    "    return max_len,val"
   ]
  },
  {
   "cell_type": "markdown",
   "metadata": {},
   "source": [
    "#### Checking if a Number is Prime"
   ]
  },
  {
   "cell_type": "code",
   "execution_count": 8,
   "metadata": {},
   "outputs": [],
   "source": [
    "def prime(n):\n",
    "    if n == 1:\n",
    "        return False\n",
    "    for i in range(2,n):\n",
    "        if n % i == 0:\n",
    "            return False\n",
    "    return True  "
   ]
  },
  {
   "cell_type": "markdown",
   "metadata": {},
   "source": [
    "# Converting Temperature Units\n",
    "* Fahrenheit = (Celsius * 1.8) + 32"
   ]
  },
  {
   "cell_type": "code",
   "execution_count": 11,
   "metadata": {},
   "outputs": [],
   "source": [
    "def converting_temp(degree,celsius):\n",
    "    res = 0\n",
    "    if celsius:\n",
    "        res = (degree * 1.8) + 32\n",
    "    else:\n",
    "        res = (degree - 32) / 1.8\n",
    "    return res         "
   ]
  },
  {
   "cell_type": "markdown",
   "metadata": {},
   "source": [
    "# Generating a List of Squares Using List Comprehension and Functions"
   ]
  },
  {
   "cell_type": "code",
   "execution_count": 1,
   "metadata": {},
   "outputs": [
    {
     "name": "stdout",
     "output_type": "stream",
     "text": [
      "[1, 4, 9, 16, 25]\n"
     ]
    }
   ],
   "source": [
    "# using list comprehension\n",
    "lst1 = [1,2,3,4,5]\n",
    "lst2 = [x**2 for x in lst1]\n",
    "print(lst2)"
   ]
  },
  {
   "cell_type": "code",
   "execution_count": 7,
   "metadata": {},
   "outputs": [
    {
     "name": "stdout",
     "output_type": "stream",
     "text": [
      "[1, 4, 9, 16, 25]\n"
     ]
    }
   ],
   "source": [
    "#using function\n",
    "lst3 = list(map(lambda x: x**2,lst1))    \n",
    "print(lst3)"
   ]
  },
  {
   "cell_type": "markdown",
   "metadata": {},
   "source": [
    "# Converting a List of Strings to Uppercase"
   ]
  },
  {
   "cell_type": "code",
   "execution_count": 11,
   "metadata": {},
   "outputs": [
    {
     "name": "stdout",
     "output_type": "stream",
     "text": [
      "['A', 'B', 'C', 'D']\n"
     ]
    }
   ],
   "source": [
    "strin = ['a','b','c','d']\n",
    "upp = list(map(lambda x: x.upper(),strin))\n",
    "print(upp)"
   ]
  },
  {
   "cell_type": "markdown",
   "metadata": {},
   "source": [
    "# Calculating the Total Price Including Tax\n"
   ]
  },
  {
   "cell_type": "code",
   "execution_count": 22,
   "metadata": {},
   "outputs": [
    {
     "name": "stdout",
     "output_type": "stream",
     "text": [
      "16400.0\n"
     ]
    }
   ],
   "source": [
    "# w represents salary in each month, x represents price, y represents bonus, z represents tax\n",
    "total_price = lambda w,x,y,z: w + x * y - z\n",
    "print(total_price(15000,1000,1.5,100))"
   ]
  },
  {
   "cell_type": "markdown",
   "metadata": {},
   "source": [
    "# Finding the Minimum and Maximum Values in a List"
   ]
  },
  {
   "cell_type": "code",
   "execution_count": 3,
   "metadata": {},
   "outputs": [
    {
     "name": "stdout",
     "output_type": "stream",
     "text": [
      "In the list the minimum value is -1 and the maximum value is 99\n"
     ]
    }
   ],
   "source": [
    "find_min_max = [4,6,3,9,53,99,1,6,22,0,-1]\n",
    "find_min_max.sort()\n",
    "print(f\"In the list the minimum value is {find_min_max[0]} and the maximum value is {find_min_max[-1]}\")"
   ]
  },
  {
   "cell_type": "markdown",
   "metadata": {},
   "source": [
    "# Checking if a String is a Valid Email Address"
   ]
  },
  {
   "cell_type": "code",
   "execution_count": 7,
   "metadata": {},
   "outputs": [
    {
     "name": "stdout",
     "output_type": "stream",
     "text": [
      "asdfg234@gmail.com is valid\n"
     ]
    }
   ],
   "source": [
    "import re\n",
    "def e_mail_valid(e_mail):\n",
    "    validation_st = r'^[a-zA-Z0-9._%+-]+@[a-zA-Z0-9.-]+\\.[a-zA-Z]{2,}$'\n",
    "    valid_e_mail = re.match(validation_st,e_mail)\n",
    "    return valid_e_mail\n",
    "email = 'asdfg234@gmail.com'\n",
    "v = e_mail_valid(email)\n",
    "print(f'{email} is valid' if v else '{email} is not valid')"
   ]
  },
  {
   "cell_type": "markdown",
   "metadata": {},
   "source": [
    "# Counting the Frequency of Each Character in a String"
   ]
  },
  {
   "cell_type": "code",
   "execution_count": 20,
   "metadata": {},
   "outputs": [
    {
     "name": "stdout",
     "output_type": "stream",
     "text": [
      "The frequency of each character in the string is:\n",
      "q:2\n",
      "w:2\n",
      "e:2\n",
      "r:2\n",
      "t:2\n",
      "y:2\n",
      "u:2\n",
      "i:2\n",
      "o:1\n",
      "p:1\n",
      "a:1\n",
      "s:1\n",
      "d:1\n",
      "f:1\n",
      "g:1\n",
      "h:1\n",
      "j:1\n",
      "k:1\n",
      "l:1\n",
      "z:1\n",
      "x:1\n",
      "c:1\n",
      "v:1\n",
      "b:1\n",
      "n:1\n",
      "m:1\n"
     ]
    }
   ],
   "source": [
    "def calc_freq(s):\n",
    "    di = dict()\n",
    "    for i in s:\n",
    "        if i in di.keys():\n",
    "            di[i] += 1\n",
    "        else:\n",
    "            di[i] = 1\n",
    "    return di\n",
    "chars = 'qwertyuiopasdqwerfgthyjuiklzxcvbnm'\n",
    "d = calc_freq(chars)\n",
    "print(\"The frequency of each character in the string is:\")\n",
    "for i in d.keys():\n",
    "    print(f\"{i}:{d[i]}\")"
   ]
  }
 ],
 "metadata": {
  "kernelspec": {
   "display_name": "Python 3 (ipykernel)",
   "language": "python",
   "name": "python3"
  },
  "language_info": {
   "codemirror_mode": {
    "name": "ipython",
    "version": 3
   },
   "file_extension": ".py",
   "mimetype": "text/x-python",
   "name": "python",
   "nbconvert_exporter": "python",
   "pygments_lexer": "ipython3",
   "version": "3.11.5"
  }
 },
 "nbformat": 4,
 "nbformat_minor": 4
}
